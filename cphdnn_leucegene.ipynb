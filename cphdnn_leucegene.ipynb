{
 "cells": [
  {
   "cell_type": "code",
   "execution_count": 1,
   "metadata": {},
   "outputs": [],
   "source": [
    "import matplotlib.pyplot as plt\n",
    "import pandas as pd\n",
    "import numpy as np\n",
    "from engines.datasets.base_datasets import SurvivalGEDataset\n",
    "from engines.hp_dict.base import HP_dict\n",
    "from engines.models import cox_models\n",
    "import warnings\n",
    "warnings.simplefilter(action='ignore', category=FutureWarning)\n",
    "from datetime import datetime\n",
    "import re \n",
    "stamp = datetime.now()\n",
    "hash1 = sum([int(i) for i in re.sub(r'[^\\w\\s]','', str(stamp)).replace(\" \", \"\")]) \n",
    "from engines.models import functions\n",
    "plt.rcParams[\"svg.fonttype\"] = \"none\"\n"
   ]
  },
  {
   "cell_type": "code",
   "execution_count": 2,
   "metadata": {},
   "outputs": [],
   "source": [
    "### import some basic general arguments\n",
    "from experiments.parsers import parse_arguments\n"
   ]
  },
  {
   "cell_type": "markdown",
   "metadata": {},
   "source": [
    "## Data\n",
    "The data used to train the network is described here. We use \n",
    "* **mutation profiles** : is described by presence/absence of NPM1 mutation, FLT3-ITD mutation and IDH1-R32 mutation.\n",
    "* **transcriptomic profile** : is descr. by gene expression of the protein coding genes with selection/projection-based dimensionality reduction. (to up to 17 components.)    \n",
    "* **cytogenetic profile** : is descr. by multiple (18) cytogenetic abnormalities or groups.\n",
    "    \n",
    "* **age** (described by age > 60 years boolean), **sex** (is patient female? bool)"
   ]
  },
  {
   "cell_type": "code",
   "execution_count": 3,
   "metadata": {},
   "outputs": [],
   "source": [
    "## Clinical FEATURES \n",
    "mutations = [\"NPM1 mutation\", \"FLT3-ITD mutation\", \"IDH1-R132 mutation\"]\n",
    "age_sex = [\"Sex_F\",\"Age_gt_60\"]\n",
    "cytogenetics = ['MLL translocations (+MLL FISH positive) (Irrespective of additional cytogenetic abnormalities)',\n",
    "       'Intermediate abnormal karyotype (except isolated trisomy/tetrasomy 8)',\n",
    "       'Normal karyotype',\n",
    "       'Complex (3 and more chromosomal abnormalities)',\n",
    "       'Trisomy/tetrasomy 8 (isolated)',\n",
    "       'Monosomy 5/ 5q-/Monosomy 7/ 7q- (less than 3 chromosomal abnormalities)',\n",
    "       'NUP98-NSD1(normal karyotype)',\n",
    "       't(8;21)(q22;q22)/RUNX1-RUNX1T1 (Irrespective of additional cytogenetic abnormalities)',\n",
    "       'inv(16)(p13.1q22)/t(16;16)(p13.1;q22)/CBFB-MYH11 (Irrespective of additional cytogenetic abnormalities)',\n",
    "       'EVI1 rearrangements (+EVI1 FISH positive) (Irrespective of additional cytogenetic abnormalities)',\n",
    "       't(6;9)(p23;q34) (Irrespective of additional cytogenetic abnormalities)',\n",
    "       'Monosomy17/del17p (less than 3 chromosomal abnormalities)',\n",
    "       'Hyperdiploid numerical abnormalities only']\n",
    "clinical_features = np.concatenate([mutations, cytogenetics, age_sex])"
   ]
  },
  {
   "cell_type": "code",
   "execution_count": 4,
   "metadata": {},
   "outputs": [
    {
     "name": "stdout",
     "output_type": "stream",
     "text": [
      "Loading and assembling Gene Repertoire...\n",
      "Loading ClinF lgn_pronostic file ...\n",
      "removed 414 genes with null expression across samples \n",
      "Now datataset hase shape (300, 19183)\n"
     ]
    }
   ],
   "source": [
    "SGE = SurvivalGEDataset()\n",
    "SGE.get_data(\"lgn_pronostic\")\n",
    "## cohort ## input_types ## other params\n",
    "## data{x: input_data, y: target} \n",
    "clin_factors = SGE.new(clinical_features, gene_expressions=\"None\")\n",
    "clin_factors_lsc17 = SGE.new(clinical_features, gene_expressions=\"LSC17\")\n",
    "clin_factors_pca = SGE.new(clinical_features, gene_expressions=\"PCA\")\n",
    "\n",
    "pca_only = SGE.new(None, gene_expressions = \"PCA\")\n",
    "lsc17_only = SGE.new(None, gene_expressions = \"LSC17\")\n",
    "lsc17_pca =  SGE.new(None, gene_expressions = \"LSC17+PCA\")\n",
    "\n",
    "clin_factors_lsc17_pca = SGE.new(clinical_features, gene_expressions=\"LSC17+PCA\")"
   ]
  },
  {
   "cell_type": "code",
   "execution_count": 5,
   "metadata": {},
   "outputs": [],
   "source": [
    "data = SGE.data[\"CF_bin\"].merge(SGE.data[\"LSC17\"].x, left_index = True, right_index = True)"
   ]
  },
  {
   "cell_type": "code",
   "execution_count": null,
   "metadata": {},
   "outputs": [],
   "source": []
  },
  {
   "cell_type": "code",
   "execution_count": 6,
   "metadata": {},
   "outputs": [
    {
     "name": "stdout",
     "output_type": "stream",
     "text": [
      "Is the cloned copy equal in values ? :  True\n"
     ]
    }
   ],
   "source": [
    "clin_factors_copy = clin_factors.clone()\n",
    "print( \"Is the cloned copy equal in values ? : \", np.all(clin_factors.x == clin_factors_copy.x))\n",
    "clin_factors.split_train_test(5)\n",
    "clin_factors_copy.split_train_test(5)\n"
   ]
  },
  {
   "cell_type": "code",
   "execution_count": 7,
   "metadata": {},
   "outputs": [
    {
     "name": "stdout",
     "output_type": "stream",
     "text": [
      "The number of common samples between two shuffles: 192\n"
     ]
    }
   ],
   "source": [
    "# splitting different copies of the cloned set will shuffle the data internally \n",
    "n = clin_factors.folds[0].train.x.index.isin(clin_factors_copy.folds[0].train.x.index).sum()\n",
    "\n",
    "print (f\"The number of common samples between two shuffles: {n}\")"
   ]
  },
  {
   "cell_type": "markdown",
   "metadata": {},
   "source": [
    "## Example\n",
    "### Parameters, preprocessing, splitting\n"
   ]
  },
  {
   "cell_type": "code",
   "execution_count": 8,
   "metadata": {},
   "outputs": [],
   "source": [
    "# Set general parameters\n",
    "HyperParams = HP_dict(wd = 1e-3, nepochs = 200,  bootstr_n = 1000, nfolds = 5)\n",
    "data = clin_factors.clone()\n",
    "# preprocess data (remove low variance columns)\n",
    "data.x = data.x[data.x.columns[np.where(data.x.var(0) > 0.01)]]\n",
    "# splitting\n",
    "data.split_train_test(HyperParams.nfolds)\n",
    "# generate model parameters \n",
    "params = HyperParams.generate_default(model_type = \"cphdnn_2l\", data = data)\n",
    "\n"
   ]
  },
  {
   "cell_type": "markdown",
   "metadata": {},
   "source": [
    "### Launch training"
   ]
  },
  {
   "cell_type": "code",
   "execution_count": 9,
   "metadata": {},
   "outputs": [],
   "source": [
    "# c_index_metrics, c_scores, surv_tbl, params= cox_models.evaluate(data, params, pca_n = None)\n",
    "        "
   ]
  },
  {
   "cell_type": "markdown",
   "metadata": {},
   "source": [
    "## Figures \n",
    "#### Data generation"
   ]
  },
  {
   "cell_type": "code",
   "execution_count": 10,
   "metadata": {},
   "outputs": [
    {
     "name": "stdout",
     "output_type": "stream",
     "text": [
      "Loading ClinF lgn_pronostic file ...\n",
      "removed 414 genes with null expression across samples \n",
      "Now datataset hase shape (300, 19183)\n"
     ]
    },
    {
     "name": "stderr",
     "output_type": "stream",
     "text": [
      "100%|██████████| 1000/1000 [00:00<00:00, 1152.60it/s]"
     ]
    },
    {
     "name": "stdout",
     "output_type": "stream",
     "text": [
      "C index method 1:  (0.6307777804624641, 0.614709933070771, 0.6474255200908497)\n"
     ]
    },
    {
     "name": "stderr",
     "output_type": "stream",
     "text": [
      "\n"
     ]
    }
   ],
   "source": [
    "# Set general parameters\n",
    "HyperParams = HP_dict(wd = 1e-3, nepochs = 200,  bootstr_n = 1000, nfolds = 5)\n",
    "CDS = SGE.get_data(\"lgn_pronostic\")[\"CDS\"]\n",
    "cyt = pd.DataFrame(SGE.data[\"CF\"][\"Cytogenetic risk\"])\n",
    "cyt_levels = [{\"intermediate cytogenetics\":1, \"Intermediate/Normal\":1, \"adverse cytogenetics\": 2, \"favorable cytogenetics\":0, \"Favorable\":0, \"Standard\":1, \"Low\":0, \"Poor\":2, None: 1}[level] for level in cyt[\"Cytogenetic risk\"]] \n",
    "cyt[\"pred_risk\"] = cyt_levels\n",
    "cyt_c_scores, cyt_metrics = functions.compute_cyto_risk_c_index(cyt[\"pred_risk\"], CDS.y, gamma = 0.001, n = HyperParams.bootstr_n)\n",
    "print(\"C index method 1: \", cyt_metrics)\n",
    "\n",
    "results = [(1, \"c_index\", \"cytogenetics\", cyt_metrics[0], cyt_metrics[1], cyt_metrics[2] )]\n"
   ]
  },
  {
   "cell_type": "code",
   "execution_count": 11,
   "metadata": {},
   "outputs": [
    {
     "name": "stderr",
     "output_type": "stream",
     "text": [
      "clin. factors + None; ridge_cph_lifelines, INsize: 15: 100%|██████████| 5/5 [00:00<00:00,  9.79it/s]\n",
      "bootstraping 1000...: 100%|██████████| 1000/1000 [00:01<00:00, 926.00it/s]\n"
     ]
    },
    {
     "name": "stdout",
     "output_type": "stream",
     "text": [
      "training c indices:  [0.68 0.69 0.69 0.68 0.69]\n",
      "valid c indices (aggregated):  (0.6769292841235619, 0.6459959026770711, 0.7062959102038837)\n",
      "Setting up stack... saving to GPU\n"
     ]
    },
    {
     "name": "stderr",
     "output_type": "stream",
     "text": [
      "clin. factors + None; CPHDNN, INsize: 15: 100%|██████████| 5/5 [00:31<00:00,  6.26s/it]\n",
      "bootstraping 1000...: 100%|██████████| 1000/1000 [00:01<00:00, 973.76it/s]\n"
     ]
    },
    {
     "name": "stdout",
     "output_type": "stream",
     "text": [
      "training c indices:  [0.69 0.74 0.76 0.75 0.76]\n",
      "valid c indices (aggregated):  (0.7032435367957353, 0.6741527446300716, 0.7290453524053446)\n"
     ]
    },
    {
     "name": "stderr",
     "output_type": "stream",
     "text": [
      "clin. factors + LSC17; ridge_cph_lifelines, INsize: 31: 100%|██████████| 5/5 [00:00<00:00,  7.42it/s]\n",
      "bootstraping 1000...: 100%|██████████| 1000/1000 [00:01<00:00, 916.58it/s]\n"
     ]
    },
    {
     "name": "stdout",
     "output_type": "stream",
     "text": [
      "training c indices:  [0.75 0.75 0.76 0.76 0.73]\n",
      "valid c indices (aggregated):  (0.6911130294796051, 0.6651446336191194, 0.7163660912334844)\n",
      "Setting up stack... saving to GPU\n"
     ]
    },
    {
     "name": "stderr",
     "output_type": "stream",
     "text": [
      "clin. factors + LSC17; CPHDNN, INsize: 31: 100%|██████████| 5/5 [00:31<00:00,  6.28s/it]\n",
      "bootstraping 1000...: 100%|██████████| 1000/1000 [00:01<00:00, 962.11it/s]\n"
     ]
    },
    {
     "name": "stdout",
     "output_type": "stream",
     "text": [
      "training c indices:  [0.88 0.95 0.99 0.99 1.  ]\n",
      "valid c indices (aggregated):  (0.8150142461792246, 0.7957047776925551, 0.8331527372090832)\n"
     ]
    },
    {
     "name": "stderr",
     "output_type": "stream",
     "text": [
      "clin. factors + PCA; ridge_cph_lifelines, INsize: 32: 100%|██████████| 5/5 [00:04<00:00,  1.05it/s]\n",
      "bootstraping 1000...: 100%|██████████| 1000/1000 [00:01<00:00, 927.89it/s]\n"
     ]
    },
    {
     "name": "stdout",
     "output_type": "stream",
     "text": [
      "training c indices:  [0.76 0.75 0.76 0.76 0.74]\n",
      "valid c indices (aggregated):  (0.6902431416035333, 0.6569504636749149, 0.7194807092751364)\n",
      "Setting up stack... saving to GPU\n"
     ]
    },
    {
     "name": "stderr",
     "output_type": "stream",
     "text": [
      "clin. factors + PCA; CPHDNN, INsize: 32: 100%|██████████| 5/5 [00:34<00:00,  6.87s/it]\n",
      "bootstraping 1000...: 100%|██████████| 1000/1000 [00:01<00:00, 941.98it/s]\n"
     ]
    },
    {
     "name": "stdout",
     "output_type": "stream",
     "text": [
      "training c indices:  [0.69 0.76 0.74 0.77 0.8 ]\n",
      "valid c indices (aggregated):  (0.6736273935275863, 0.6441701360991405, 0.7033571957541348)\n"
     ]
    },
    {
     "name": "stderr",
     "output_type": "stream",
     "text": [
      "clin. factors + LSC17+PCA; ridge_cph_lifelines, INsize: 49: 100%|██████████| 5/5 [00:05<00:00,  1.18s/it]\n",
      "bootstraping 1000...: 100%|██████████| 1000/1000 [00:01<00:00, 898.92it/s]\n"
     ]
    },
    {
     "name": "stdout",
     "output_type": "stream",
     "text": [
      "training c indices:  [0.79 0.77 0.77 0.77 0.78]\n",
      "valid c indices (aggregated):  (0.6805750778052175, 0.6511038114100768, 0.7111320435717219)\n",
      "Setting up stack... saving to GPU\n"
     ]
    },
    {
     "name": "stderr",
     "output_type": "stream",
     "text": [
      "clin. factors + LSC17+PCA; CPHDNN, INsize: 49: 100%|██████████| 5/5 [00:34<00:00,  6.88s/it]\n",
      "bootstraping 1000...: 100%|██████████| 1000/1000 [00:01<00:00, 955.78it/s]\n"
     ]
    },
    {
     "name": "stdout",
     "output_type": "stream",
     "text": [
      "training c indices:  [0.69 0.73 0.78 0.8  0.81]\n",
      "valid c indices (aggregated):  (0.6741603069184915, 0.6438343372087594, 0.7063003896390325)\n"
     ]
    },
    {
     "name": "stderr",
     "output_type": "stream",
     "text": [
      "LSC17+PCA; ridge_cph_lifelines, INsize: 33: 100%|██████████| 5/5 [00:03<00:00,  1.26it/s]\n",
      "bootstraping 1000...: 100%|██████████| 1000/1000 [00:01<00:00, 907.98it/s]\n"
     ]
    },
    {
     "name": "stdout",
     "output_type": "stream",
     "text": [
      "training c indices:  [0.75 0.74 0.73 0.73 0.74]\n",
      "valid c indices (aggregated):  (0.6743000401891106, 0.6438694638694639, 0.7046983136757968)\n",
      "Setting up stack... saving to GPU\n"
     ]
    },
    {
     "name": "stderr",
     "output_type": "stream",
     "text": [
      "LSC17+PCA; CPHDNN, INsize: 33: 100%|██████████| 5/5 [00:33<00:00,  6.72s/it]\n",
      "bootstraping 1000...: 100%|██████████| 1000/1000 [00:01<00:00, 941.45it/s]\n"
     ]
    },
    {
     "name": "stdout",
     "output_type": "stream",
     "text": [
      "training c indices:  [0.66 0.71 0.75 0.76 0.78]\n",
      "valid c indices (aggregated):  (0.6464639008756747, 0.6167180001432562, 0.6792541600633915)\n"
     ]
    },
    {
     "name": "stderr",
     "output_type": "stream",
     "text": [
      "PCA; ridge_cph_lifelines, INsize: 30: 100%|██████████| 5/5 [00:03<00:00,  1.56it/s]\n",
      "bootstraping 1000...: 100%|██████████| 1000/1000 [00:01<00:00, 921.28it/s]\n"
     ]
    },
    {
     "name": "stdout",
     "output_type": "stream",
     "text": [
      "training c indices:  [0.73 0.73 0.75 0.73 0.74]\n",
      "valid c indices (aggregated):  (0.6891004325172403, 0.6600601747934476, 0.7187363517251419)\n",
      "Setting up stack... saving to GPU\n"
     ]
    },
    {
     "name": "stderr",
     "output_type": "stream",
     "text": [
      "PCA; CPHDNN, INsize: 30: 100%|██████████| 5/5 [00:33<00:00,  6.71s/it]\n",
      "bootstraping 1000...: 100%|██████████| 1000/1000 [00:01<00:00, 970.19it/s]\n"
     ]
    },
    {
     "name": "stdout",
     "output_type": "stream",
     "text": [
      "training c indices:  [0.87 0.86 0.88 0.88 0.88]\n",
      "valid c indices (aggregated):  (0.4869574428212221, 0.45424138912610307, 0.520169696969697)\n"
     ]
    },
    {
     "name": "stderr",
     "output_type": "stream",
     "text": [
      "LSC17; ridge_cph_lifelines, INsize: 17: 100%|██████████| 5/5 [00:00<00:00, 11.31it/s]\n",
      "bootstraping 1000...: 100%|██████████| 1000/1000 [00:01<00:00, 930.03it/s]\n"
     ]
    },
    {
     "name": "stdout",
     "output_type": "stream",
     "text": [
      "training c indices:  [0.71 0.7  0.7  0.7  0.68]\n",
      "valid c indices (aggregated):  (0.6648717846865357, 0.6334223949477775, 0.694830502242812)\n",
      "Setting up stack... saving to GPU\n"
     ]
    },
    {
     "name": "stderr",
     "output_type": "stream",
     "text": [
      "LSC17; CPHDNN, INsize: 17: 100%|██████████| 5/5 [00:30<00:00,  6.12s/it]\n",
      "bootstraping 1000...: 100%|██████████| 1000/1000 [00:01<00:00, 971.14it/s]\n"
     ]
    },
    {
     "name": "stdout",
     "output_type": "stream",
     "text": [
      "training c indices:  [0.68 0.71 0.7  0.71 0.71]\n",
      "valid c indices (aggregated):  (0.6635571425865289, 0.6346454085253347, 0.6928317888367439)\n"
     ]
    },
    {
     "name": "stderr",
     "output_type": "stream",
     "text": [
      "clin. factors + None; ridge_cph_lifelines, INsize: 15: 100%|██████████| 5/5 [00:00<00:00, 11.30it/s]\n",
      "bootstraping 1000...: 100%|██████████| 1000/1000 [00:01<00:00, 934.01it/s]\n"
     ]
    },
    {
     "name": "stdout",
     "output_type": "stream",
     "text": [
      "training c indices:  [0.68 0.68 0.69 0.68 0.69]\n",
      "valid c indices (aggregated):  (0.6858592647656019, 0.6556680591942222, 0.7136348376576663)\n",
      "Setting up stack... saving to GPU\n"
     ]
    },
    {
     "name": "stderr",
     "output_type": "stream",
     "text": [
      "clin. factors + None; CPHDNN, INsize: 15: 100%|██████████| 5/5 [00:30<00:00,  6.17s/it]\n",
      "bootstraping 1000...: 100%|██████████| 1000/1000 [00:01<00:00, 981.36it/s]\n"
     ]
    },
    {
     "name": "stdout",
     "output_type": "stream",
     "text": [
      "training c indices:  [0.71 0.74 0.75 0.75 0.75]\n",
      "valid c indices (aggregated):  (0.7013456557992084, 0.6731736526946108, 0.7278375325376946)\n"
     ]
    },
    {
     "name": "stderr",
     "output_type": "stream",
     "text": [
      "clin. factors + LSC17; ridge_cph_lifelines, INsize: 31: 100%|██████████| 5/5 [00:00<00:00,  7.04it/s]\n",
      "bootstraping 1000...: 100%|██████████| 1000/1000 [00:01<00:00, 933.07it/s]\n"
     ]
    },
    {
     "name": "stdout",
     "output_type": "stream",
     "text": [
      "training c indices:  [0.76 0.73 0.75 0.76 0.74]\n",
      "valid c indices (aggregated):  (0.6840753782567348, 0.6531213629497561, 0.711270702037227)\n",
      "Setting up stack... saving to GPU\n"
     ]
    },
    {
     "name": "stderr",
     "output_type": "stream",
     "text": [
      "clin. factors + LSC17; CPHDNN, INsize: 31: 100%|██████████| 5/5 [00:31<00:00,  6.33s/it]\n",
      "bootstraping 1000...: 100%|██████████| 1000/1000 [00:01<00:00, 972.76it/s]\n"
     ]
    },
    {
     "name": "stdout",
     "output_type": "stream",
     "text": [
      "training c indices:  [0.86 0.96 0.96 0.98 0.99]\n",
      "valid c indices (aggregated):  (0.8043061501393544, 0.7823457394711067, 0.8250805249747608)\n"
     ]
    },
    {
     "name": "stderr",
     "output_type": "stream",
     "text": [
      "clin. factors + PCA; ridge_cph_lifelines, INsize: 32: 100%|██████████| 5/5 [00:05<00:00,  1.06s/it]\n",
      "bootstraping 1000...: 100%|██████████| 1000/1000 [00:01<00:00, 901.95it/s]\n"
     ]
    },
    {
     "name": "stdout",
     "output_type": "stream",
     "text": [
      "training c indices:  [0.76 0.76 0.76 0.74 0.74]\n",
      "valid c indices (aggregated):  (0.6894781574136258, 0.6600200592224663, 0.7195720017833259)\n",
      "Setting up stack... saving to GPU\n"
     ]
    },
    {
     "name": "stderr",
     "output_type": "stream",
     "text": [
      "clin. factors + PCA; CPHDNN, INsize: 32: 100%|██████████| 5/5 [00:34<00:00,  6.89s/it]\n",
      "bootstraping 1000...: 100%|██████████| 1000/1000 [00:01<00:00, 963.11it/s]\n"
     ]
    },
    {
     "name": "stdout",
     "output_type": "stream",
     "text": [
      "training c indices:  [0.72 0.73 0.74 0.77 0.79]\n",
      "valid c indices (aggregated):  (0.6719920712293583, 0.6441770205287183, 0.6993309340354098)\n"
     ]
    },
    {
     "name": "stderr",
     "output_type": "stream",
     "text": [
      "clin. factors + LSC17+PCA; ridge_cph_lifelines, INsize: 49: 100%|██████████| 5/5 [00:06<00:00,  1.20s/it]\n",
      "bootstraping 1000...: 100%|██████████| 1000/1000 [00:01<00:00, 919.95it/s]\n"
     ]
    },
    {
     "name": "stdout",
     "output_type": "stream",
     "text": [
      "training c indices:  [0.77 0.79 0.77 0.78 0.76]\n",
      "valid c indices (aggregated):  (0.6820204493870783, 0.6535525543159131, 0.71242185376461)\n",
      "Setting up stack... saving to GPU\n"
     ]
    },
    {
     "name": "stderr",
     "output_type": "stream",
     "text": [
      "clin. factors + LSC17+PCA; CPHDNN, INsize: 49: 100%|██████████| 5/5 [00:33<00:00,  6.74s/it]\n",
      "bootstraping 1000...: 100%|██████████| 1000/1000 [00:01<00:00, 947.78it/s]\n"
     ]
    },
    {
     "name": "stdout",
     "output_type": "stream",
     "text": [
      "training c indices:  [0.76 0.79 0.8  0.81 0.82]\n",
      "valid c indices (aggregated):  (0.6827095399304566, 0.6496758273659764, 0.7124652399951639)\n"
     ]
    },
    {
     "name": "stderr",
     "output_type": "stream",
     "text": [
      "LSC17+PCA; ridge_cph_lifelines, INsize: 33: 100%|██████████| 5/5 [00:04<00:00,  1.20it/s]\n",
      "bootstraping 1000...: 100%|██████████| 1000/1000 [00:01<00:00, 895.66it/s]\n"
     ]
    },
    {
     "name": "stdout",
     "output_type": "stream",
     "text": [
      "training c indices:  [0.74 0.73 0.74 0.73 0.73]\n",
      "valid c indices (aggregated):  (0.6767888370247255, 0.6462201988738469, 0.7061311311311311)\n",
      "Setting up stack... saving to GPU\n"
     ]
    },
    {
     "name": "stderr",
     "output_type": "stream",
     "text": [
      "LSC17+PCA; CPHDNN, INsize: 33: 100%|██████████| 5/5 [00:34<00:00,  6.92s/it]\n",
      "bootstraping 1000...: 100%|██████████| 1000/1000 [00:01<00:00, 952.64it/s]\n"
     ]
    },
    {
     "name": "stdout",
     "output_type": "stream",
     "text": [
      "training c indices:  [0.7  0.74 0.78 0.81 0.79]\n",
      "valid c indices (aggregated):  (0.6729366724044475, 0.6400765022030698, 0.7024422377827116)\n"
     ]
    },
    {
     "name": "stderr",
     "output_type": "stream",
     "text": [
      "PCA; ridge_cph_lifelines, INsize: 30: 100%|██████████| 5/5 [00:02<00:00,  1.68it/s]\n",
      "bootstraping 1000...: 100%|██████████| 1000/1000 [00:01<00:00, 935.61it/s]\n"
     ]
    },
    {
     "name": "stdout",
     "output_type": "stream",
     "text": [
      "training c indices:  [0.74 0.73 0.74 0.73 0.73]\n",
      "valid c indices (aggregated):  (0.690996320676861, 0.6613202321604894, 0.718564209274673)\n",
      "Setting up stack... saving to GPU\n"
     ]
    },
    {
     "name": "stderr",
     "output_type": "stream",
     "text": [
      "PCA; CPHDNN, INsize: 30: 100%|██████████| 5/5 [00:32<00:00,  6.56s/it]\n",
      "bootstraping 1000...: 100%|██████████| 1000/1000 [00:01<00:00, 957.84it/s]\n"
     ]
    },
    {
     "name": "stdout",
     "output_type": "stream",
     "text": [
      "training c indices:  [0.87 0.89 0.89 0.88 0.86]\n",
      "valid c indices (aggregated):  (0.48614332468596355, 0.4561399276236429, 0.52118287552586)\n"
     ]
    },
    {
     "name": "stderr",
     "output_type": "stream",
     "text": [
      "LSC17; ridge_cph_lifelines, INsize: 17: 100%|██████████| 5/5 [00:00<00:00, 11.58it/s]\n",
      "bootstraping 1000...: 100%|██████████| 1000/1000 [00:01<00:00, 945.37it/s]\n"
     ]
    },
    {
     "name": "stdout",
     "output_type": "stream",
     "text": [
      "training c indices:  [0.7  0.69 0.72 0.69 0.69]\n",
      "valid c indices (aggregated):  (0.6707894306018893, 0.6415023030589347, 0.700075559997075)\n",
      "Setting up stack... saving to GPU\n"
     ]
    },
    {
     "name": "stderr",
     "output_type": "stream",
     "text": [
      "LSC17; CPHDNN, INsize: 17: 100%|██████████| 5/5 [00:30<00:00,  6.06s/it]\n",
      "bootstraping 1000...: 100%|██████████| 1000/1000 [00:01<00:00, 980.92it/s]\n"
     ]
    },
    {
     "name": "stdout",
     "output_type": "stream",
     "text": [
      "training c indices:  [0.67 0.71 0.7  0.72 0.73]\n",
      "valid c indices (aggregated):  (0.6451274097262777, 0.615023023791251, 0.6764003058688587)\n"
     ]
    },
    {
     "name": "stderr",
     "output_type": "stream",
     "text": [
      "clin. factors + None; ridge_cph_lifelines, INsize: 15: 100%|██████████| 5/5 [00:00<00:00, 11.11it/s]\n",
      "bootstraping 1000...: 100%|██████████| 1000/1000 [00:01<00:00, 948.67it/s]\n"
     ]
    },
    {
     "name": "stdout",
     "output_type": "stream",
     "text": [
      "training c indices:  [0.67 0.7  0.68 0.7  0.69]\n",
      "valid c indices (aggregated):  (0.6754585036082381, 0.6430436847103513, 0.7062085331008765)\n",
      "Setting up stack... saving to GPU\n"
     ]
    },
    {
     "name": "stderr",
     "output_type": "stream",
     "text": [
      "clin. factors + None; CPHDNN, INsize: 15: 100%|██████████| 5/5 [00:30<00:00,  6.19s/it]\n",
      "bootstraping 1000...: 100%|██████████| 1000/1000 [00:01<00:00, 989.04it/s]\n"
     ]
    },
    {
     "name": "stdout",
     "output_type": "stream",
     "text": [
      "training c indices:  [0.7  0.73 0.73 0.75 0.77]\n",
      "valid c indices (aggregated):  (0.6949017849102501, 0.6631941170924861, 0.7241119404799533)\n"
     ]
    },
    {
     "name": "stderr",
     "output_type": "stream",
     "text": [
      "clin. factors + LSC17; ridge_cph_lifelines, INsize: 31: 100%|██████████| 5/5 [00:00<00:00,  7.92it/s]\n",
      "bootstraping 1000...: 100%|██████████| 1000/1000 [00:01<00:00, 939.88it/s]\n"
     ]
    },
    {
     "name": "stdout",
     "output_type": "stream",
     "text": [
      "training c indices:  [0.75 0.75 0.74 0.74 0.75]\n",
      "valid c indices (aggregated):  (0.6961817305830291, 0.6678931951874895, 0.7242721774687202)\n",
      "Setting up stack... saving to GPU\n"
     ]
    },
    {
     "name": "stderr",
     "output_type": "stream",
     "text": [
      "clin. factors + LSC17; CPHDNN, INsize: 31: 100%|██████████| 5/5 [00:30<00:00,  6.13s/it]\n",
      "bootstraping 1000...: 100%|██████████| 1000/1000 [00:01<00:00, 985.13it/s]\n"
     ]
    },
    {
     "name": "stdout",
     "output_type": "stream",
     "text": [
      "training c indices:  [0.86 0.96 0.96 0.98 0.99]\n",
      "valid c indices (aggregated):  (0.8052806719830596, 0.7821492049767017, 0.8278680279635869)\n"
     ]
    },
    {
     "name": "stderr",
     "output_type": "stream",
     "text": [
      "clin. factors + PCA; ridge_cph_lifelines, INsize: 32: 100%|██████████| 5/5 [00:03<00:00,  1.31it/s]\n",
      "bootstraping 1000...: 100%|██████████| 1000/1000 [00:01<00:00, 910.08it/s]\n"
     ]
    },
    {
     "name": "stdout",
     "output_type": "stream",
     "text": [
      "training c indices:  [0.75 0.76 0.76 0.73 0.75]\n",
      "valid c indices (aggregated):  (0.7003287926023958, 0.6710954513200714, 0.7281292704562345)\n",
      "Setting up stack... saving to GPU\n"
     ]
    },
    {
     "name": "stderr",
     "output_type": "stream",
     "text": [
      "clin. factors + PCA; CPHDNN, INsize: 32: 100%|██████████| 5/5 [00:33<00:00,  6.64s/it]\n",
      "bootstraping 1000...: 100%|██████████| 1000/1000 [00:01<00:00, 954.70it/s]\n"
     ]
    },
    {
     "name": "stdout",
     "output_type": "stream",
     "text": [
      "training c indices:  [0.65 0.65 0.74 0.72 0.77]\n",
      "valid c indices (aggregated):  (0.6159812494442587, 0.5839863228380111, 0.6470092873297724)\n"
     ]
    },
    {
     "name": "stderr",
     "output_type": "stream",
     "text": [
      "clin. factors + LSC17+PCA; ridge_cph_lifelines, INsize: 49: 100%|██████████| 5/5 [00:04<00:00,  1.03it/s]\n",
      "bootstraping 1000...: 100%|██████████| 1000/1000 [00:01<00:00, 926.04it/s]\n"
     ]
    },
    {
     "name": "stdout",
     "output_type": "stream",
     "text": [
      "training c indices:  [0.77 0.79 0.78 0.76 0.78]\n",
      "valid c indices (aggregated):  (0.671938263504827, 0.6414055786515549, 0.7004952306603889)\n",
      "Setting up stack... saving to GPU\n"
     ]
    },
    {
     "name": "stderr",
     "output_type": "stream",
     "text": [
      "clin. factors + LSC17+PCA; CPHDNN, INsize: 49: 100%|██████████| 5/5 [00:33<00:00,  6.77s/it]\n",
      "bootstraping 1000...: 100%|██████████| 1000/1000 [00:01<00:00, 952.59it/s]\n"
     ]
    },
    {
     "name": "stdout",
     "output_type": "stream",
     "text": [
      "training c indices:  [0.76 0.79 0.82 0.8  0.82]\n",
      "valid c indices (aggregated):  (0.685370785800238, 0.65457101331872, 0.7158520766538584)\n"
     ]
    },
    {
     "name": "stderr",
     "output_type": "stream",
     "text": [
      "LSC17+PCA; ridge_cph_lifelines, INsize: 33: 100%|██████████| 5/5 [00:04<00:00,  1.18it/s]\n",
      "bootstraping 1000...: 100%|██████████| 1000/1000 [00:01<00:00, 895.59it/s]\n"
     ]
    },
    {
     "name": "stdout",
     "output_type": "stream",
     "text": [
      "training c indices:  [0.76 0.73 0.74 0.72 0.74]\n",
      "valid c indices (aggregated):  (0.657610722126829, 0.6250461493022226, 0.6897264554588721)\n",
      "Setting up stack... saving to GPU\n"
     ]
    },
    {
     "name": "stderr",
     "output_type": "stream",
     "text": [
      "LSC17+PCA; CPHDNN, INsize: 33: 100%|██████████| 5/5 [00:33<00:00,  6.69s/it]\n",
      "bootstraping 1000...: 100%|██████████| 1000/1000 [00:01<00:00, 946.90it/s]\n"
     ]
    },
    {
     "name": "stdout",
     "output_type": "stream",
     "text": [
      "training c indices:  [0.75 0.74 0.77 0.79 0.8 ]\n",
      "valid c indices (aggregated):  (0.6757720501656775, 0.6416852637516247, 0.7048455987039128)\n"
     ]
    },
    {
     "name": "stderr",
     "output_type": "stream",
     "text": [
      "PCA; ridge_cph_lifelines, INsize: 30: 100%|██████████| 5/5 [00:02<00:00,  1.68it/s]\n",
      "bootstraping 1000...: 100%|██████████| 1000/1000 [00:01<00:00, 913.40it/s]\n"
     ]
    },
    {
     "name": "stdout",
     "output_type": "stream",
     "text": [
      "training c indices:  [0.74 0.74 0.72 0.74 0.72]\n",
      "valid c indices (aggregated):  (0.6812983610508117, 0.6485053389438864, 0.7105095466238701)\n",
      "Setting up stack... saving to GPU\n"
     ]
    },
    {
     "name": "stderr",
     "output_type": "stream",
     "text": [
      "PCA; CPHDNN, INsize: 30: 100%|██████████| 5/5 [00:32<00:00,  6.58s/it]\n",
      "bootstraping 1000...: 100%|██████████| 1000/1000 [00:01<00:00, 964.00it/s]\n"
     ]
    },
    {
     "name": "stdout",
     "output_type": "stream",
     "text": [
      "training c indices:  [0.88 0.89 0.9  0.85 0.85]\n",
      "valid c indices (aggregated):  (0.5127008712349164, 0.4767671602240766, 0.5476110765698982)\n"
     ]
    },
    {
     "name": "stderr",
     "output_type": "stream",
     "text": [
      "LSC17; ridge_cph_lifelines, INsize: 17: 100%|██████████| 5/5 [00:00<00:00, 11.48it/s]\n",
      "bootstraping 1000...: 100%|██████████| 1000/1000 [00:01<00:00, 938.34it/s]\n"
     ]
    },
    {
     "name": "stdout",
     "output_type": "stream",
     "text": [
      "training c indices:  [0.71 0.69 0.69 0.71 0.7 ]\n",
      "valid c indices (aggregated):  (0.6635659463113068, 0.6319704352329167, 0.6910536114956796)\n",
      "Setting up stack... saving to GPU\n"
     ]
    },
    {
     "name": "stderr",
     "output_type": "stream",
     "text": [
      "LSC17; CPHDNN, INsize: 17: 100%|██████████| 5/5 [00:30<00:00,  6.10s/it]\n",
      "bootstraping 1000...: 100%|██████████| 1000/1000 [00:01<00:00, 981.24it/s]"
     ]
    },
    {
     "name": "stdout",
     "output_type": "stream",
     "text": [
      "training c indices:  [0.68 0.69 0.7  0.72 0.72]\n",
      "valid c indices (aggregated):  (0.6447679813577205, 0.6111137485757691, 0.6791609838686921)\n"
     ]
    },
    {
     "name": "stderr",
     "output_type": "stream",
     "text": [
      "\n"
     ]
    }
   ],
   "source": [
    "\n",
    "for repn in range(1,4,1):        \n",
    "    for model_type in [\"ridge_cph_lifelines_CF\", \"cphdnn_2l\"]:\n",
    "        data = clin_factors.clone()\n",
    "        # preprocess data (remove low variance columns)\n",
    "        data.x = data.x[data.x.columns[np.where(data.x.var(0) > 0.01)]]\n",
    "        # splitting\n",
    "        data.split_train_test(HyperParams.nfolds)\n",
    "        # generate model parameters \n",
    "        params = HyperParams.generate_default(model_type = model_type, data = data)\n",
    "        # train and evaluate model\n",
    "        c_index_metrics, c_scores, surv_tbl, params= cox_models.evaluate(data, params, pca_params = None)\n",
    "        # append to results\n",
    "        results.append((repn, params[\"modeltype\"], data.name, c_index_metrics[0], c_index_metrics[1], c_index_metrics[2] ))\n",
    "\n",
    "    for model_type in [\"ridge_cph_lifelines_CF_LSC17\", \"cphdnn_5l\"]:\n",
    "        data = clin_factors_lsc17.clone()\n",
    "        # preprocess data (remove low variance columns)\n",
    "        data.x = data.x[data.x.columns[np.where(data.x.var(0) > 0.01)]]\n",
    "        \n",
    "        # splitting\n",
    "        data.split_train_test(HyperParams.nfolds)\n",
    "        # generate model parameters \n",
    "        params = HyperParams.generate_default(model_type = model_type, data = data)\n",
    "        # train and evaluate model\n",
    "        c_index_metrics, c_scores, surv_tbl, params= cox_models.evaluate(data, params, pca_params = None)\n",
    "        # append to results\n",
    "        results.append((repn, params[\"modeltype\"], data.name , c_index_metrics[0], c_index_metrics[1], c_index_metrics[2] ))\n",
    "\n",
    "    for model_type in [\"ridge_cph_lifelines_CF_PCA\", \"cphdnn_1l\"]:\n",
    "        data = clin_factors_pca.clone()\n",
    "        # preprocess data \n",
    "        data.x = data.x[data.x.columns[np.where(data.x.var(0) > 0.01)]]\n",
    "            # splitting\n",
    "        data.split_train_test(HyperParams.nfolds)\n",
    "        # generate model parameters \n",
    "        params = HyperParams.generate_default(model_type = model_type, data = data)\n",
    "        pca_params = {\"min_col\": 16, \"max_col\": data.x.shape[1], \"pca_n\": 17 }\n",
    "        # train and evaluate model\n",
    "        c_index_metrics, c_scores, surv_tbl, params= cox_models.evaluate(data, params, pca_params = pca_params)\n",
    "        # append to results\n",
    "        results.append((repn, params[\"modeltype\"], data.name , c_index_metrics[0], c_index_metrics[1], c_index_metrics[2] ))\n",
    "        \n",
    "    for model_type in [\"ridge_cph_lifelines_CF_PCA\", \"cphdnn_1l\"]:\n",
    "        data = clin_factors_lsc17_pca.clone()\n",
    "        # preprocess data \n",
    "        var = data.x.var(0)\n",
    "        data.x = data.x[data.x.columns[np.where( var > 0.01)]]\n",
    "        # splitting\n",
    "        data.split_train_test(HyperParams.nfolds)\n",
    "        # generate model parameters \n",
    "        params = HyperParams.generate_default(model_type = model_type, data = data)\n",
    "        pca_params = {\"min_col\": 33, \"max_col\": data.x.shape[1], \"pca_n\": 17 }\n",
    "        # train and evaluate model\n",
    "        c_index_metrics, c_scores, surv_tbl, params= cox_models.evaluate(data, params, pca_params = pca_params)\n",
    "        # append to results\n",
    "        results.append((repn, params[\"modeltype\"], data.name , c_index_metrics[0], c_index_metrics[1], c_index_metrics[2] ))\n",
    "    \n",
    "\n",
    "    for model_type in [\"ridge_cph_lifelines_CF_PCA\", \"cphdnn_1l\"]:\n",
    "        data = lsc17_pca.clone()\n",
    "        # preprocess data \n",
    "        var = data.x.var(0)\n",
    "        data.x = data.x[data.x.columns[np.where( var > 0.01)]]\n",
    "        # splitting\n",
    "        data.split_train_test(HyperParams.nfolds)\n",
    "        # generate model parameters \n",
    "        params = HyperParams.generate_default(model_type = model_type, data = data)\n",
    "        pca_params = {\"min_col\": 17, \"max_col\": data.x.shape[1], \"pca_n\": 17 }\n",
    "        # train and evaluate model\n",
    "        c_index_metrics, c_scores, surv_tbl, params= cox_models.evaluate(data, params, pca_params = pca_params)\n",
    "        # append to results\n",
    "        results.append((repn, params[\"modeltype\"], data.name , c_index_metrics[0], c_index_metrics[1], c_index_metrics[2] ))\n",
    "\n",
    "\n",
    "    for model_type in [\"ridge_cph_lifelines_CF_PCA\", \"cphdnn_2l\"]:\n",
    "        data = pca_only.clone()\n",
    "        # preprocess data \n",
    "        var = data.x.var(0)\n",
    "        data.x = data.x[data.x.columns[np.where( var > np.median(var))]]\n",
    "        # splitting\n",
    "        data.split_train_test(HyperParams.nfolds)\n",
    "        # generate model parameters \n",
    "        params = HyperParams.generate_default(model_type = model_type, data = data)\n",
    "        pca_params = {\"min_col\": 0, \"max_col\": data.x.shape[1], \"pca_n\": 30 }\n",
    "        # train and evaluate model\n",
    "        c_index_metrics, c_scores, surv_tbl, params= cox_models.evaluate(data, params, pca_params = pca_params)\n",
    "        # append to results\n",
    "        results.append((repn, params[\"modeltype\"], data.name , c_index_metrics[0], c_index_metrics[1], c_index_metrics[2] ))\n",
    "    \n",
    "    for model_type in [\"ridge_cph_lifelines_LSC17\", \"cphdnn_1l\"]:\n",
    "        data = lsc17_only.clone()\n",
    "        # preprocess data \n",
    "        var = data.x.var(0)\n",
    "        # splitting\n",
    "        data.split_train_test(HyperParams.nfolds)\n",
    "        # generate model parameters \n",
    "        params = HyperParams.generate_default(model_type = model_type, data = data)\n",
    "\n",
    "        # train and evaluate model\n",
    "        c_index_metrics, c_scores, surv_tbl, params= cox_models.evaluate(data, params, pca_params = None)\n",
    "        # append to results\n",
    "        results.append((repn, params[\"modeltype\"], data.name , c_index_metrics[0], c_index_metrics[1], c_index_metrics[2] ))\n",
    "    "
   ]
  },
  {
   "cell_type": "code",
   "execution_count": 12,
   "metadata": {},
   "outputs": [
    {
     "data": {
      "text/html": [
       "<div>\n",
       "<style scoped>\n",
       "    .dataframe tbody tr th:only-of-type {\n",
       "        vertical-align: middle;\n",
       "    }\n",
       "\n",
       "    .dataframe tbody tr th {\n",
       "        vertical-align: top;\n",
       "    }\n",
       "\n",
       "    .dataframe thead th {\n",
       "        text-align: right;\n",
       "    }\n",
       "</style>\n",
       "<table border=\"1\" class=\"dataframe\">\n",
       "  <thead>\n",
       "    <tr style=\"text-align: right;\">\n",
       "      <th></th>\n",
       "      <th>repn</th>\n",
       "      <th>model t.</th>\n",
       "      <th>input t.</th>\n",
       "      <th>c.ind med</th>\n",
       "      <th>c.ind 5%</th>\n",
       "      <th>c.ind 95%</th>\n",
       "    </tr>\n",
       "  </thead>\n",
       "  <tbody>\n",
       "    <tr>\n",
       "      <th>0</th>\n",
       "      <td>1</td>\n",
       "      <td>c_index</td>\n",
       "      <td>cytogenetics</td>\n",
       "      <td>0.630778</td>\n",
       "      <td>0.614710</td>\n",
       "      <td>0.647426</td>\n",
       "    </tr>\n",
       "    <tr>\n",
       "      <th>1</th>\n",
       "      <td>1</td>\n",
       "      <td>ridge_cph_lifelines</td>\n",
       "      <td>clin. factors + None</td>\n",
       "      <td>0.676929</td>\n",
       "      <td>0.645996</td>\n",
       "      <td>0.706296</td>\n",
       "    </tr>\n",
       "    <tr>\n",
       "      <th>2</th>\n",
       "      <td>1</td>\n",
       "      <td>CPHDNN</td>\n",
       "      <td>clin. factors + None</td>\n",
       "      <td>0.703244</td>\n",
       "      <td>0.674153</td>\n",
       "      <td>0.729045</td>\n",
       "    </tr>\n",
       "    <tr>\n",
       "      <th>3</th>\n",
       "      <td>1</td>\n",
       "      <td>ridge_cph_lifelines</td>\n",
       "      <td>clin. factors + LSC17</td>\n",
       "      <td>0.691113</td>\n",
       "      <td>0.665145</td>\n",
       "      <td>0.716366</td>\n",
       "    </tr>\n",
       "    <tr>\n",
       "      <th>4</th>\n",
       "      <td>1</td>\n",
       "      <td>CPHDNN</td>\n",
       "      <td>clin. factors + LSC17</td>\n",
       "      <td>0.815014</td>\n",
       "      <td>0.795705</td>\n",
       "      <td>0.833153</td>\n",
       "    </tr>\n",
       "    <tr>\n",
       "      <th>5</th>\n",
       "      <td>1</td>\n",
       "      <td>ridge_cph_lifelines</td>\n",
       "      <td>clin. factors + PCA</td>\n",
       "      <td>0.690243</td>\n",
       "      <td>0.656950</td>\n",
       "      <td>0.719481</td>\n",
       "    </tr>\n",
       "    <tr>\n",
       "      <th>6</th>\n",
       "      <td>1</td>\n",
       "      <td>CPHDNN</td>\n",
       "      <td>clin. factors + PCA</td>\n",
       "      <td>0.673627</td>\n",
       "      <td>0.644170</td>\n",
       "      <td>0.703357</td>\n",
       "    </tr>\n",
       "    <tr>\n",
       "      <th>7</th>\n",
       "      <td>1</td>\n",
       "      <td>ridge_cph_lifelines</td>\n",
       "      <td>clin. factors + LSC17+PCA</td>\n",
       "      <td>0.680575</td>\n",
       "      <td>0.651104</td>\n",
       "      <td>0.711132</td>\n",
       "    </tr>\n",
       "    <tr>\n",
       "      <th>8</th>\n",
       "      <td>1</td>\n",
       "      <td>CPHDNN</td>\n",
       "      <td>clin. factors + LSC17+PCA</td>\n",
       "      <td>0.674160</td>\n",
       "      <td>0.643834</td>\n",
       "      <td>0.706300</td>\n",
       "    </tr>\n",
       "    <tr>\n",
       "      <th>9</th>\n",
       "      <td>1</td>\n",
       "      <td>ridge_cph_lifelines</td>\n",
       "      <td>LSC17+PCA</td>\n",
       "      <td>0.674300</td>\n",
       "      <td>0.643869</td>\n",
       "      <td>0.704698</td>\n",
       "    </tr>\n",
       "    <tr>\n",
       "      <th>10</th>\n",
       "      <td>1</td>\n",
       "      <td>CPHDNN</td>\n",
       "      <td>LSC17+PCA</td>\n",
       "      <td>0.646464</td>\n",
       "      <td>0.616718</td>\n",
       "      <td>0.679254</td>\n",
       "    </tr>\n",
       "    <tr>\n",
       "      <th>11</th>\n",
       "      <td>1</td>\n",
       "      <td>ridge_cph_lifelines</td>\n",
       "      <td>PCA</td>\n",
       "      <td>0.689100</td>\n",
       "      <td>0.660060</td>\n",
       "      <td>0.718736</td>\n",
       "    </tr>\n",
       "    <tr>\n",
       "      <th>12</th>\n",
       "      <td>1</td>\n",
       "      <td>CPHDNN</td>\n",
       "      <td>PCA</td>\n",
       "      <td>0.486957</td>\n",
       "      <td>0.454241</td>\n",
       "      <td>0.520170</td>\n",
       "    </tr>\n",
       "    <tr>\n",
       "      <th>13</th>\n",
       "      <td>1</td>\n",
       "      <td>ridge_cph_lifelines</td>\n",
       "      <td>LSC17</td>\n",
       "      <td>0.664872</td>\n",
       "      <td>0.633422</td>\n",
       "      <td>0.694831</td>\n",
       "    </tr>\n",
       "    <tr>\n",
       "      <th>14</th>\n",
       "      <td>1</td>\n",
       "      <td>CPHDNN</td>\n",
       "      <td>LSC17</td>\n",
       "      <td>0.663557</td>\n",
       "      <td>0.634645</td>\n",
       "      <td>0.692832</td>\n",
       "    </tr>\n",
       "    <tr>\n",
       "      <th>15</th>\n",
       "      <td>2</td>\n",
       "      <td>ridge_cph_lifelines</td>\n",
       "      <td>clin. factors + None</td>\n",
       "      <td>0.685859</td>\n",
       "      <td>0.655668</td>\n",
       "      <td>0.713635</td>\n",
       "    </tr>\n",
       "    <tr>\n",
       "      <th>16</th>\n",
       "      <td>2</td>\n",
       "      <td>CPHDNN</td>\n",
       "      <td>clin. factors + None</td>\n",
       "      <td>0.701346</td>\n",
       "      <td>0.673174</td>\n",
       "      <td>0.727838</td>\n",
       "    </tr>\n",
       "    <tr>\n",
       "      <th>17</th>\n",
       "      <td>2</td>\n",
       "      <td>ridge_cph_lifelines</td>\n",
       "      <td>clin. factors + LSC17</td>\n",
       "      <td>0.684075</td>\n",
       "      <td>0.653121</td>\n",
       "      <td>0.711271</td>\n",
       "    </tr>\n",
       "    <tr>\n",
       "      <th>18</th>\n",
       "      <td>2</td>\n",
       "      <td>CPHDNN</td>\n",
       "      <td>clin. factors + LSC17</td>\n",
       "      <td>0.804306</td>\n",
       "      <td>0.782346</td>\n",
       "      <td>0.825081</td>\n",
       "    </tr>\n",
       "    <tr>\n",
       "      <th>19</th>\n",
       "      <td>2</td>\n",
       "      <td>ridge_cph_lifelines</td>\n",
       "      <td>clin. factors + PCA</td>\n",
       "      <td>0.689478</td>\n",
       "      <td>0.660020</td>\n",
       "      <td>0.719572</td>\n",
       "    </tr>\n",
       "    <tr>\n",
       "      <th>20</th>\n",
       "      <td>2</td>\n",
       "      <td>CPHDNN</td>\n",
       "      <td>clin. factors + PCA</td>\n",
       "      <td>0.671992</td>\n",
       "      <td>0.644177</td>\n",
       "      <td>0.699331</td>\n",
       "    </tr>\n",
       "    <tr>\n",
       "      <th>21</th>\n",
       "      <td>2</td>\n",
       "      <td>ridge_cph_lifelines</td>\n",
       "      <td>clin. factors + LSC17+PCA</td>\n",
       "      <td>0.682020</td>\n",
       "      <td>0.653553</td>\n",
       "      <td>0.712422</td>\n",
       "    </tr>\n",
       "    <tr>\n",
       "      <th>22</th>\n",
       "      <td>2</td>\n",
       "      <td>CPHDNN</td>\n",
       "      <td>clin. factors + LSC17+PCA</td>\n",
       "      <td>0.682710</td>\n",
       "      <td>0.649676</td>\n",
       "      <td>0.712465</td>\n",
       "    </tr>\n",
       "    <tr>\n",
       "      <th>23</th>\n",
       "      <td>2</td>\n",
       "      <td>ridge_cph_lifelines</td>\n",
       "      <td>LSC17+PCA</td>\n",
       "      <td>0.676789</td>\n",
       "      <td>0.646220</td>\n",
       "      <td>0.706131</td>\n",
       "    </tr>\n",
       "    <tr>\n",
       "      <th>24</th>\n",
       "      <td>2</td>\n",
       "      <td>CPHDNN</td>\n",
       "      <td>LSC17+PCA</td>\n",
       "      <td>0.672937</td>\n",
       "      <td>0.640077</td>\n",
       "      <td>0.702442</td>\n",
       "    </tr>\n",
       "    <tr>\n",
       "      <th>25</th>\n",
       "      <td>2</td>\n",
       "      <td>ridge_cph_lifelines</td>\n",
       "      <td>PCA</td>\n",
       "      <td>0.690996</td>\n",
       "      <td>0.661320</td>\n",
       "      <td>0.718564</td>\n",
       "    </tr>\n",
       "    <tr>\n",
       "      <th>26</th>\n",
       "      <td>2</td>\n",
       "      <td>CPHDNN</td>\n",
       "      <td>PCA</td>\n",
       "      <td>0.486143</td>\n",
       "      <td>0.456140</td>\n",
       "      <td>0.521183</td>\n",
       "    </tr>\n",
       "    <tr>\n",
       "      <th>27</th>\n",
       "      <td>2</td>\n",
       "      <td>ridge_cph_lifelines</td>\n",
       "      <td>LSC17</td>\n",
       "      <td>0.670789</td>\n",
       "      <td>0.641502</td>\n",
       "      <td>0.700076</td>\n",
       "    </tr>\n",
       "    <tr>\n",
       "      <th>28</th>\n",
       "      <td>2</td>\n",
       "      <td>CPHDNN</td>\n",
       "      <td>LSC17</td>\n",
       "      <td>0.645127</td>\n",
       "      <td>0.615023</td>\n",
       "      <td>0.676400</td>\n",
       "    </tr>\n",
       "    <tr>\n",
       "      <th>29</th>\n",
       "      <td>3</td>\n",
       "      <td>ridge_cph_lifelines</td>\n",
       "      <td>clin. factors + None</td>\n",
       "      <td>0.675459</td>\n",
       "      <td>0.643044</td>\n",
       "      <td>0.706209</td>\n",
       "    </tr>\n",
       "    <tr>\n",
       "      <th>30</th>\n",
       "      <td>3</td>\n",
       "      <td>CPHDNN</td>\n",
       "      <td>clin. factors + None</td>\n",
       "      <td>0.694902</td>\n",
       "      <td>0.663194</td>\n",
       "      <td>0.724112</td>\n",
       "    </tr>\n",
       "    <tr>\n",
       "      <th>31</th>\n",
       "      <td>3</td>\n",
       "      <td>ridge_cph_lifelines</td>\n",
       "      <td>clin. factors + LSC17</td>\n",
       "      <td>0.696182</td>\n",
       "      <td>0.667893</td>\n",
       "      <td>0.724272</td>\n",
       "    </tr>\n",
       "    <tr>\n",
       "      <th>32</th>\n",
       "      <td>3</td>\n",
       "      <td>CPHDNN</td>\n",
       "      <td>clin. factors + LSC17</td>\n",
       "      <td>0.805281</td>\n",
       "      <td>0.782149</td>\n",
       "      <td>0.827868</td>\n",
       "    </tr>\n",
       "    <tr>\n",
       "      <th>33</th>\n",
       "      <td>3</td>\n",
       "      <td>ridge_cph_lifelines</td>\n",
       "      <td>clin. factors + PCA</td>\n",
       "      <td>0.700329</td>\n",
       "      <td>0.671095</td>\n",
       "      <td>0.728129</td>\n",
       "    </tr>\n",
       "    <tr>\n",
       "      <th>34</th>\n",
       "      <td>3</td>\n",
       "      <td>CPHDNN</td>\n",
       "      <td>clin. factors + PCA</td>\n",
       "      <td>0.615981</td>\n",
       "      <td>0.583986</td>\n",
       "      <td>0.647009</td>\n",
       "    </tr>\n",
       "    <tr>\n",
       "      <th>35</th>\n",
       "      <td>3</td>\n",
       "      <td>ridge_cph_lifelines</td>\n",
       "      <td>clin. factors + LSC17+PCA</td>\n",
       "      <td>0.671938</td>\n",
       "      <td>0.641406</td>\n",
       "      <td>0.700495</td>\n",
       "    </tr>\n",
       "    <tr>\n",
       "      <th>36</th>\n",
       "      <td>3</td>\n",
       "      <td>CPHDNN</td>\n",
       "      <td>clin. factors + LSC17+PCA</td>\n",
       "      <td>0.685371</td>\n",
       "      <td>0.654571</td>\n",
       "      <td>0.715852</td>\n",
       "    </tr>\n",
       "    <tr>\n",
       "      <th>37</th>\n",
       "      <td>3</td>\n",
       "      <td>ridge_cph_lifelines</td>\n",
       "      <td>LSC17+PCA</td>\n",
       "      <td>0.657611</td>\n",
       "      <td>0.625046</td>\n",
       "      <td>0.689726</td>\n",
       "    </tr>\n",
       "    <tr>\n",
       "      <th>38</th>\n",
       "      <td>3</td>\n",
       "      <td>CPHDNN</td>\n",
       "      <td>LSC17+PCA</td>\n",
       "      <td>0.675772</td>\n",
       "      <td>0.641685</td>\n",
       "      <td>0.704846</td>\n",
       "    </tr>\n",
       "    <tr>\n",
       "      <th>39</th>\n",
       "      <td>3</td>\n",
       "      <td>ridge_cph_lifelines</td>\n",
       "      <td>PCA</td>\n",
       "      <td>0.681298</td>\n",
       "      <td>0.648505</td>\n",
       "      <td>0.710510</td>\n",
       "    </tr>\n",
       "    <tr>\n",
       "      <th>40</th>\n",
       "      <td>3</td>\n",
       "      <td>CPHDNN</td>\n",
       "      <td>PCA</td>\n",
       "      <td>0.512701</td>\n",
       "      <td>0.476767</td>\n",
       "      <td>0.547611</td>\n",
       "    </tr>\n",
       "    <tr>\n",
       "      <th>41</th>\n",
       "      <td>3</td>\n",
       "      <td>ridge_cph_lifelines</td>\n",
       "      <td>LSC17</td>\n",
       "      <td>0.663566</td>\n",
       "      <td>0.631970</td>\n",
       "      <td>0.691054</td>\n",
       "    </tr>\n",
       "    <tr>\n",
       "      <th>42</th>\n",
       "      <td>3</td>\n",
       "      <td>CPHDNN</td>\n",
       "      <td>LSC17</td>\n",
       "      <td>0.644768</td>\n",
       "      <td>0.611114</td>\n",
       "      <td>0.679161</td>\n",
       "    </tr>\n",
       "  </tbody>\n",
       "</table>\n",
       "</div>"
      ],
      "text/plain": [
       "    repn             model t.                   input t.  c.ind med  c.ind 5%  \\\n",
       "0      1              c_index               cytogenetics   0.630778  0.614710   \n",
       "1      1  ridge_cph_lifelines       clin. factors + None   0.676929  0.645996   \n",
       "2      1               CPHDNN       clin. factors + None   0.703244  0.674153   \n",
       "3      1  ridge_cph_lifelines      clin. factors + LSC17   0.691113  0.665145   \n",
       "4      1               CPHDNN      clin. factors + LSC17   0.815014  0.795705   \n",
       "5      1  ridge_cph_lifelines        clin. factors + PCA   0.690243  0.656950   \n",
       "6      1               CPHDNN        clin. factors + PCA   0.673627  0.644170   \n",
       "7      1  ridge_cph_lifelines  clin. factors + LSC17+PCA   0.680575  0.651104   \n",
       "8      1               CPHDNN  clin. factors + LSC17+PCA   0.674160  0.643834   \n",
       "9      1  ridge_cph_lifelines                  LSC17+PCA   0.674300  0.643869   \n",
       "10     1               CPHDNN                  LSC17+PCA   0.646464  0.616718   \n",
       "11     1  ridge_cph_lifelines                        PCA   0.689100  0.660060   \n",
       "12     1               CPHDNN                        PCA   0.486957  0.454241   \n",
       "13     1  ridge_cph_lifelines                      LSC17   0.664872  0.633422   \n",
       "14     1               CPHDNN                      LSC17   0.663557  0.634645   \n",
       "15     2  ridge_cph_lifelines       clin. factors + None   0.685859  0.655668   \n",
       "16     2               CPHDNN       clin. factors + None   0.701346  0.673174   \n",
       "17     2  ridge_cph_lifelines      clin. factors + LSC17   0.684075  0.653121   \n",
       "18     2               CPHDNN      clin. factors + LSC17   0.804306  0.782346   \n",
       "19     2  ridge_cph_lifelines        clin. factors + PCA   0.689478  0.660020   \n",
       "20     2               CPHDNN        clin. factors + PCA   0.671992  0.644177   \n",
       "21     2  ridge_cph_lifelines  clin. factors + LSC17+PCA   0.682020  0.653553   \n",
       "22     2               CPHDNN  clin. factors + LSC17+PCA   0.682710  0.649676   \n",
       "23     2  ridge_cph_lifelines                  LSC17+PCA   0.676789  0.646220   \n",
       "24     2               CPHDNN                  LSC17+PCA   0.672937  0.640077   \n",
       "25     2  ridge_cph_lifelines                        PCA   0.690996  0.661320   \n",
       "26     2               CPHDNN                        PCA   0.486143  0.456140   \n",
       "27     2  ridge_cph_lifelines                      LSC17   0.670789  0.641502   \n",
       "28     2               CPHDNN                      LSC17   0.645127  0.615023   \n",
       "29     3  ridge_cph_lifelines       clin. factors + None   0.675459  0.643044   \n",
       "30     3               CPHDNN       clin. factors + None   0.694902  0.663194   \n",
       "31     3  ridge_cph_lifelines      clin. factors + LSC17   0.696182  0.667893   \n",
       "32     3               CPHDNN      clin. factors + LSC17   0.805281  0.782149   \n",
       "33     3  ridge_cph_lifelines        clin. factors + PCA   0.700329  0.671095   \n",
       "34     3               CPHDNN        clin. factors + PCA   0.615981  0.583986   \n",
       "35     3  ridge_cph_lifelines  clin. factors + LSC17+PCA   0.671938  0.641406   \n",
       "36     3               CPHDNN  clin. factors + LSC17+PCA   0.685371  0.654571   \n",
       "37     3  ridge_cph_lifelines                  LSC17+PCA   0.657611  0.625046   \n",
       "38     3               CPHDNN                  LSC17+PCA   0.675772  0.641685   \n",
       "39     3  ridge_cph_lifelines                        PCA   0.681298  0.648505   \n",
       "40     3               CPHDNN                        PCA   0.512701  0.476767   \n",
       "41     3  ridge_cph_lifelines                      LSC17   0.663566  0.631970   \n",
       "42     3               CPHDNN                      LSC17   0.644768  0.611114   \n",
       "\n",
       "    c.ind 95%  \n",
       "0    0.647426  \n",
       "1    0.706296  \n",
       "2    0.729045  \n",
       "3    0.716366  \n",
       "4    0.833153  \n",
       "5    0.719481  \n",
       "6    0.703357  \n",
       "7    0.711132  \n",
       "8    0.706300  \n",
       "9    0.704698  \n",
       "10   0.679254  \n",
       "11   0.718736  \n",
       "12   0.520170  \n",
       "13   0.694831  \n",
       "14   0.692832  \n",
       "15   0.713635  \n",
       "16   0.727838  \n",
       "17   0.711271  \n",
       "18   0.825081  \n",
       "19   0.719572  \n",
       "20   0.699331  \n",
       "21   0.712422  \n",
       "22   0.712465  \n",
       "23   0.706131  \n",
       "24   0.702442  \n",
       "25   0.718564  \n",
       "26   0.521183  \n",
       "27   0.700076  \n",
       "28   0.676400  \n",
       "29   0.706209  \n",
       "30   0.724112  \n",
       "31   0.724272  \n",
       "32   0.827868  \n",
       "33   0.728129  \n",
       "34   0.647009  \n",
       "35   0.700495  \n",
       "36   0.715852  \n",
       "37   0.689726  \n",
       "38   0.704846  \n",
       "39   0.710510  \n",
       "40   0.547611  \n",
       "41   0.691054  \n",
       "42   0.679161  "
      ]
     },
     "execution_count": 12,
     "metadata": {},
     "output_type": "execute_result"
    }
   ],
   "source": [
    "\n",
    "colnames = (\"repn\", \"model t.\", \"input t.\", \"c.ind med\", \"c.ind 5%\", \"c.ind 95%\")\n",
    "resdf = pd.DataFrame(results, columns = colnames)\n",
    "\n",
    "resdf\n",
    "\n"
   ]
  },
  {
   "cell_type": "markdown",
   "metadata": {},
   "source": [
    "### Plotting... "
   ]
  },
  {
   "cell_type": "code",
   "execution_count": 13,
   "metadata": {},
   "outputs": [],
   "source": [
    "fig, axes = plt.subplots(ncols = 2, nrows = 1, figsize = (22,10))\n",
    "cph_ax = axes[0]\n",
    "cphdnn_ax = axes[1]\n",
    "title = \"CPHDNN, CPH, Cyto risk with leucegene from varying input factors\"\n",
    "spacer = 0.2\n",
    "cph_df = resdf[(resdf[\"model t.\"] == \"ridge_cph_lifelines\")]\n",
    "for (xmark, input_type) in enumerate(np.unique(cph_df[\"input t.\"])):\n",
    "    data = cph_df[(cph_df[\"input t.\"] == input_type)]\n",
    "    xaxis = np.array(xmark + (spacer * data[\"repn\"].values.astype(int)))\n",
    "    cph_ax.vlines(x = xaxis, ymin = data[\"c.ind 5%\"], ymax = data[\"c.ind 95%\"], linewidth = 4, label = input_type, color = \"k\")\n",
    "    cph_ax.scatter(x = xaxis, y = data[\"c.ind med\"], linewidth = 5, label = input_type)\n",
    "    for (i, value) in zip(xaxis, data[\"c.ind med\"]):\n",
    "        cph_ax.text(i, value, str(round(value, 3)), fontsize = 20)\n",
    "    #ax.set_xticks(np.arange(ncols))\n",
    "    #ax.set_xticklabels(resdf.columns, fontsize = 14)\n",
    "    cph_ax.set_title(title)\n",
    "    cph_ax.set_xlabel(\"CPH (lifelines)\")\n",
    "    cph_ax.set_ylabel(\"concordance index\")\n",
    "    cph_ax.grid(visible = True, linestyle = \"--\")\n",
    "cph_ax.set_ylim((0.5,0.9))\n",
    "cph_ax.set_xticks(np.arange(len(np.unique(cph_df[\"input t.\"]))) + spacer * 2)\n",
    "cph_ax.set_xticklabels(np.unique(cph_df[\"input t.\"]), fontsize = 14)\n",
    "cph_ax.legend()\n",
    "\n",
    "cphdnn_df = resdf[(resdf[\"model t.\"] == \"CPHDNN\")]\n",
    "for (xmark, input_type) in enumerate(np.unique(cphdnn_df[\"input t.\"])):\n",
    "    data = cphdnn_df[(cphdnn_df[\"input t.\"] == input_type)]\n",
    "    xaxis = np.array(xmark + (0.2 * data[\"repn\"].values.astype(int)))\n",
    "    cphdnn_ax.vlines(x = xaxis, ymin = data[\"c.ind 5%\"], ymax = data[\"c.ind 95%\"], linewidth = 4, label = input_type, color = \"k\")\n",
    "    cphdnn_ax.scatter(x = xaxis, y = data[\"c.ind med\"], linewidth = 5, label = input_type)\n",
    "    for (i, value) in zip(xaxis, data[\"c.ind med\"]):\n",
    "        cphdnn_ax.text(i, value, str(round(value, 3)), fontsize = 20)\n",
    "    #ax.set_xticks(np.arange(ncols))\n",
    "    #ax.set_xticklabels(resdf.columns, fontsize = 14)\n",
    "    cphdnn_ax.set_title(title)\n",
    "    cphdnn_ax.set_xlabel(\"CPHDNN\")\n",
    "    cphdnn_ax.set_ylabel(\"concordance index\")\n",
    "    cphdnn_ax.grid(visible = True, linestyle = \"--\")\n",
    "cphdnn_ax.set_xticks(np.arange(len(np.unique(cphdnn_df[\"input t.\"]))) + 0.2 * 2)\n",
    "cphdnn_ax.set_xticklabels(np.unique(cphdnn_df[\"input t.\"]), fontsize = 14)\n",
    "cphdnn_ax.legend()\n",
    "cphdnn_ax.set_ylim((0.5,0.9))\n",
    "plt.tight_layout()\n",
    "\n",
    "plt.savefig(f\"RES/V2/fig_{str(hash1 * 9)}.png\")\n"
   ]
  },
  {
   "cell_type": "code",
   "execution_count": null,
   "metadata": {},
   "outputs": [],
   "source": [
    "\n",
    "\n"
   ]
  },
  {
   "cell_type": "markdown",
   "metadata": {},
   "source": [
    "#### **Figure** : using clinical factors with cph / cphdnn with leucegene and comparing to cytogentic risk only benchmark "
   ]
  },
  {
   "cell_type": "code",
   "execution_count": null,
   "metadata": {},
   "outputs": [],
   "source": []
  }
 ],
 "metadata": {
  "interpreter": {
   "hash": "d155f049ee19f4bc9724a713b0437335dd953d8a87038f68f9840be1b6d0dc8c"
  },
  "kernelspec": {
   "display_name": "Python 3.6.8 ('env': venv)",
   "language": "python",
   "name": "python3"
  },
  "language_info": {
   "codemirror_mode": {
    "name": "ipython",
    "version": 3
   },
   "file_extension": ".py",
   "mimetype": "text/x-python",
   "name": "python",
   "nbconvert_exporter": "python",
   "pygments_lexer": "ipython3",
   "version": "3.6.8"
  },
  "orig_nbformat": 4
 },
 "nbformat": 4,
 "nbformat_minor": 2
}
