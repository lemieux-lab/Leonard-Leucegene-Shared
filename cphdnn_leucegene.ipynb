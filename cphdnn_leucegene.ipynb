{
 "cells": [
  {
   "cell_type": "code",
   "execution_count": 1,
   "metadata": {},
   "outputs": [],
   "source": [
    "import matplotlib.pyplot as plt\n",
    "import pandas as pd\n",
    "import numpy as np\n",
    "from engines.datasets.base_datasets import SurvivalGEDataset\n",
    "from engines.hp_dict.base import HP_dict\n",
    "from engines.models import cox_models\n",
    "import warnings\n",
    "warnings.simplefilter(action='ignore', category=FutureWarning)\n",
    "\n",
    "from engines.models import functions\n",
    "plt.rcParams[\"svg.fonttype\"] = \"none\"\n"
   ]
  },
  {
   "cell_type": "code",
   "execution_count": 2,
   "metadata": {},
   "outputs": [],
   "source": [
    "### import some basic general arguments\n",
    "from experiments.parsers import parse_arguments\n"
   ]
  },
  {
   "cell_type": "markdown",
   "metadata": {},
   "source": [
    "## Data\n",
    "The data used to train the network is described here. We use \n",
    "* **mutation profiles** : is described by presence/absence of NPM1 mutation, FLT3-ITD mutation and IDH1-R32 mutation.\n",
    "* **transcriptomic profile** : is descr. by gene expression of the protein coding genes with selection/projection-based dimensionality reduction. (to up to 17 components.)    \n",
    "* **cytogenetic profile** : is descr. by multiple (18) cytogenetic abnormalities or groups.\n",
    "    \n",
    "* **age** (described by age > 60 years boolean), **sex** (is patient female? bool)"
   ]
  },
  {
   "cell_type": "code",
   "execution_count": 3,
   "metadata": {},
   "outputs": [],
   "source": [
    "## Clinical FEATURES \n",
    "mutations = [\"NPM1 mutation\", \"FLT3-ITD mutation\", \"IDH1-R132 mutation\"]\n",
    "age_sex = [\"Sex_F\",\"Age_gt_60\"]\n",
    "cytogenetics = ['MLL translocations (+MLL FISH positive) (Irrespective of additional cytogenetic abnormalities)',\n",
    "       'Intermediate abnormal karyotype (except isolated trisomy/tetrasomy 8)',\n",
    "       'Normal karyotype',\n",
    "       'Complex (3 and more chromosomal abnormalities)',\n",
    "       'Trisomy/tetrasomy 8 (isolated)',\n",
    "       'Monosomy 5/ 5q-/Monosomy 7/ 7q- (less than 3 chromosomal abnormalities)',\n",
    "       'NUP98-NSD1(normal karyotype)',\n",
    "       't(8;21)(q22;q22)/RUNX1-RUNX1T1 (Irrespective of additional cytogenetic abnormalities)',\n",
    "       'inv(16)(p13.1q22)/t(16;16)(p13.1;q22)/CBFB-MYH11 (Irrespective of additional cytogenetic abnormalities)',\n",
    "       'EVI1 rearrangements (+EVI1 FISH positive) (Irrespective of additional cytogenetic abnormalities)',\n",
    "       't(6;9)(p23;q34) (Irrespective of additional cytogenetic abnormalities)',\n",
    "       'Monosomy17/del17p (less than 3 chromosomal abnormalities)',\n",
    "       'Hyperdiploid numerical abnormalities only']\n",
    "clinical_features = np.concatenate([mutations, cytogenetics, age_sex])"
   ]
  },
  {
   "cell_type": "code",
   "execution_count": 4,
   "metadata": {},
   "outputs": [
    {
     "name": "stdout",
     "output_type": "stream",
     "text": [
      "Loading and assembling Gene Repertoire...\n",
      "Loading ClinF lgn_pronostic file ...\n",
      "removed 414 genes with null expression across samples \n",
      "Now datataset hase shape (300, 19183)\n",
      "Loading ClinF lgn_pronostic file ...\n",
      "removed 414 genes with null expression across samples \n",
      "Now datataset hase shape (300, 19183)\n"
     ]
    }
   ],
   "source": [
    "SGE = SurvivalGEDataset()\n",
    "## cohort ## input_types ## other params\n",
    "## data{x: input_data, y: target} \n",
    "clin_factors = SGE.new(\"lgn_pronostic\", clinical_features, gene_expressions=None)\n",
    "clin_factors_lsc17 = SGE.new(\"lgn_pronostic\", clinical_features, gene_expressions=\"LSC17\")\n",
    "clin_factors_pca = SGE.new(\"lgn_pronostic\", clinical_features, gene_expressions=\"PCA\")"
   ]
  },
  {
   "cell_type": "code",
   "execution_count": 5,
   "metadata": {},
   "outputs": [
    {
     "name": "stdout",
     "output_type": "stream",
     "text": [
      "Is the cloned copy equal in values ? :  True\n"
     ]
    }
   ],
   "source": [
    "clin_factors_copy = clin_factors.clone()\n",
    "print( \"Is the cloned copy equal in values ? : \", np.all(clin_factors.x == clin_factors_copy.x))\n",
    "clin_factors.split_train_test(5)\n",
    "clin_factors_copy.split_train_test(5)\n"
   ]
  },
  {
   "cell_type": "code",
   "execution_count": 6,
   "metadata": {},
   "outputs": [
    {
     "name": "stdout",
     "output_type": "stream",
     "text": [
      "The number of common samples between two shuffles: 190\n"
     ]
    }
   ],
   "source": [
    "# splitting different copies of the cloned set will shuffle the data internally \n",
    "n = clin_factors.folds[0].train.x.index.isin(clin_factors_copy.folds[0].train.x.index).sum()\n",
    "\n",
    "print (f\"The number of common samples between two shuffles: {n}\")"
   ]
  },
  {
   "cell_type": "markdown",
   "metadata": {},
   "source": [
    "## Example\n",
    "### Parameters, preprocessing, splitting\n"
   ]
  },
  {
   "cell_type": "code",
   "execution_count": 7,
   "metadata": {},
   "outputs": [],
   "source": [
    "# Set general parameters\n",
    "HyperParams = HP_dict(wd = 1e-3, nepochs = 200,  bootstr_n = 1000, nfolds = 5)\n",
    "data = clin_factors.clone()\n",
    "# preprocess data (remove low variance columns)\n",
    "data.x = data.x[data.x.columns[np.where(data.x.var(0) > 0.01)]]\n",
    "# splitting\n",
    "data.split_train_test(HyperParams.nfolds)\n",
    "# generate model parameters \n",
    "params = HyperParams.generate_default(model_type = \"cphdnn_2l\", data = data)\n",
    "\n"
   ]
  },
  {
   "cell_type": "markdown",
   "metadata": {},
   "source": [
    "### Launch training"
   ]
  },
  {
   "cell_type": "code",
   "execution_count": 8,
   "metadata": {},
   "outputs": [],
   "source": [
    "# c_index_metrics, c_scores, surv_tbl, params= cox_models.evaluate(data, params, pca_n = None)\n",
    "        "
   ]
  },
  {
   "cell_type": "markdown",
   "metadata": {},
   "source": [
    "## Figures \n",
    "#### Data generation"
   ]
  },
  {
   "cell_type": "code",
   "execution_count": 9,
   "metadata": {},
   "outputs": [
    {
     "name": "stdout",
     "output_type": "stream",
     "text": [
      "Loading ClinF lgn_pronostic file ...\n",
      "removed 414 genes with null expression across samples \n",
      "Now datataset hase shape (300, 19183)\n"
     ]
    }
   ],
   "source": [
    "test1 = SGE.new(\"lgn_pronostic\", clinical_features, gene_expressions=\"LSC17\")"
   ]
  },
  {
   "cell_type": "code",
   "execution_count": 10,
   "metadata": {},
   "outputs": [
    {
     "data": {
      "text/plain": [
       "'clin. factors + LSC17'"
      ]
     },
     "execution_count": 10,
     "metadata": {},
     "output_type": "execute_result"
    }
   ],
   "source": [
    "test1.name"
   ]
  },
  {
   "cell_type": "code",
   "execution_count": 14,
   "metadata": {},
   "outputs": [
    {
     "name": "stdout",
     "output_type": "stream",
     "text": [
      "Loading ClinF lgn_pronostic file ...\n",
      "removed 414 genes with null expression across samples \n",
      "Now datataset hase shape (300, 19183)\n"
     ]
    },
    {
     "name": "stderr",
     "output_type": "stream",
     "text": [
      "100%|██████████| 1000/1000 [00:00<00:00, 1183.71it/s]\n"
     ]
    },
    {
     "name": "stdout",
     "output_type": "stream",
     "text": [
      "C index method 1:  (0.631055645492546, 0.6151448522482905, 0.6473288713847344)\n"
     ]
    },
    {
     "name": "stderr",
     "output_type": "stream",
     "text": [
      "clin. factors; ridge_cph_lifelines, INsize: 15: 100%|██████████| 5/5 [00:00<00:00, 11.64it/s]\n",
      "bootstraping 1000...: 100%|██████████| 1000/1000 [00:01<00:00, 937.54it/s]\n"
     ]
    },
    {
     "name": "stdout",
     "output_type": "stream",
     "text": [
      "training c indices:  [0.68 0.69 0.69 0.71 0.67]\n",
      "valid c indices (aggregated):  (0.6748774260008484, 0.6420470654947548, 0.7033702957804576)\n",
      "Setting up stack... saving to GPU\n"
     ]
    },
    {
     "name": "stderr",
     "output_type": "stream",
     "text": [
      "clin. factors; CPHDNN, INsize: 15: 100%|██████████| 5/5 [00:29<00:00,  5.89s/it]\n",
      "bootstraping 1000...: 100%|██████████| 1000/1000 [00:00<00:00, 1008.65it/s]\n"
     ]
    },
    {
     "name": "stdout",
     "output_type": "stream",
     "text": [
      "training c indices:  [0.7  0.72 0.74 0.75 0.78]\n",
      "valid c indices (aggregated):  (0.6978140340827361, 0.6704084235916228, 0.7247247728474593)\n"
     ]
    },
    {
     "name": "stderr",
     "output_type": "stream",
     "text": [
      "clin. factors + LSC17; ridge_cph_lifelines, INsize: 31: 100%|██████████| 5/5 [00:00<00:00,  8.28it/s]\n",
      "bootstraping 1000...: 100%|██████████| 1000/1000 [00:01<00:00, 973.76it/s]\n"
     ]
    },
    {
     "name": "stdout",
     "output_type": "stream",
     "text": [
      "training c indices:  [0.77 0.75 0.76 0.74 0.74]\n",
      "valid c indices (aggregated):  (0.6671016121983845, 0.638828997173111, 0.6969944894963545)\n",
      "Setting up stack... saving to GPU\n"
     ]
    },
    {
     "name": "stderr",
     "output_type": "stream",
     "text": [
      "clin. factors + LSC17; CPHDNN, INsize: 31: 100%|██████████| 5/5 [00:29<00:00,  5.97s/it]\n",
      "bootstraping 1000...: 100%|██████████| 1000/1000 [00:01<00:00, 999.21it/s]\n"
     ]
    },
    {
     "name": "stdout",
     "output_type": "stream",
     "text": [
      "training c indices:  [0.87 0.93 0.98 0.99 0.99]\n",
      "valid c indices (aggregated):  (0.8091393752567002, 0.7883938894492141, 0.8299443234083757)\n"
     ]
    },
    {
     "name": "stderr",
     "output_type": "stream",
     "text": [
      "clin. factors; ridge_cph_lifelines, INsize: 15: 100%|██████████| 5/5 [00:00<00:00, 11.43it/s]\n",
      "bootstraping 1000...: 100%|██████████| 1000/1000 [00:01<00:00, 975.57it/s]\n"
     ]
    },
    {
     "name": "stdout",
     "output_type": "stream",
     "text": [
      "training c indices:  [0.7  0.7  0.68 0.68 0.69]\n",
      "valid c indices (aggregated):  (0.6710152164091664, 0.6420142732647149, 0.700881565699973)\n",
      "Setting up stack... saving to GPU\n"
     ]
    },
    {
     "name": "stderr",
     "output_type": "stream",
     "text": [
      "clin. factors; CPHDNN, INsize: 15: 100%|██████████| 5/5 [00:29<00:00,  5.86s/it]\n",
      "bootstraping 1000...: 100%|██████████| 1000/1000 [00:00<00:00, 1007.05it/s]\n"
     ]
    },
    {
     "name": "stdout",
     "output_type": "stream",
     "text": [
      "training c indices:  [0.7  0.72 0.74 0.76 0.77]\n",
      "valid c indices (aggregated):  (0.705473855407937, 0.6781790377602634, 0.7336163625275601)\n"
     ]
    },
    {
     "name": "stderr",
     "output_type": "stream",
     "text": [
      "clin. factors + LSC17; ridge_cph_lifelines, INsize: 31: 100%|██████████| 5/5 [00:00<00:00,  8.32it/s]\n",
      "bootstraping 1000...: 100%|██████████| 1000/1000 [00:01<00:00, 968.57it/s]\n"
     ]
    },
    {
     "name": "stdout",
     "output_type": "stream",
     "text": [
      "training c indices:  [0.76 0.73 0.76 0.74 0.75]\n",
      "valid c indices (aggregated):  (0.6962327840680644, 0.668049492293963, 0.7221190711581588)\n",
      "Setting up stack... saving to GPU\n"
     ]
    },
    {
     "name": "stderr",
     "output_type": "stream",
     "text": [
      "clin. factors + LSC17; CPHDNN, INsize: 31: 100%|██████████| 5/5 [00:29<00:00,  5.96s/it]\n",
      "bootstraping 1000...: 100%|██████████| 1000/1000 [00:00<00:00, 1008.01it/s]\n"
     ]
    },
    {
     "name": "stdout",
     "output_type": "stream",
     "text": [
      "training c indices:  [0.87 0.95 0.96 0.98 0.99]\n",
      "valid c indices (aggregated):  (0.7949496696738594, 0.7705805841314887, 0.8180707571866663)\n"
     ]
    },
    {
     "name": "stderr",
     "output_type": "stream",
     "text": [
      "clin. factors; ridge_cph_lifelines, INsize: 15: 100%|██████████| 5/5 [00:00<00:00, 11.53it/s]\n",
      "bootstraping 1000...: 100%|██████████| 1000/1000 [00:01<00:00, 974.00it/s]\n"
     ]
    },
    {
     "name": "stdout",
     "output_type": "stream",
     "text": [
      "training c indices:  [0.69 0.68 0.68 0.69 0.69]\n",
      "valid c indices (aggregated):  (0.6847668473390893, 0.6567317814949117, 0.7136378201178182)\n",
      "Setting up stack... saving to GPU\n"
     ]
    },
    {
     "name": "stderr",
     "output_type": "stream",
     "text": [
      "clin. factors; CPHDNN, INsize: 15: 100%|██████████| 5/5 [00:29<00:00,  5.85s/it]\n",
      "bootstraping 1000...: 100%|██████████| 1000/1000 [00:00<00:00, 1008.01it/s]\n"
     ]
    },
    {
     "name": "stdout",
     "output_type": "stream",
     "text": [
      "training c indices:  [0.71 0.73 0.75 0.75 0.75]\n",
      "valid c indices (aggregated):  (0.7055661007263107, 0.6763423212192262, 0.7340561686508416)\n"
     ]
    },
    {
     "name": "stderr",
     "output_type": "stream",
     "text": [
      "clin. factors + LSC17; ridge_cph_lifelines, INsize: 31: 100%|██████████| 5/5 [00:00<00:00,  8.41it/s]\n",
      "bootstraping 1000...: 100%|██████████| 1000/1000 [00:01<00:00, 972.16it/s]\n"
     ]
    },
    {
     "name": "stdout",
     "output_type": "stream",
     "text": [
      "training c indices:  [0.75 0.75 0.75 0.74 0.75]\n",
      "valid c indices (aggregated):  (0.6932384262103204, 0.6659968040288606, 0.7213194041400658)\n",
      "Setting up stack... saving to GPU\n"
     ]
    },
    {
     "name": "stderr",
     "output_type": "stream",
     "text": [
      "clin. factors + LSC17; CPHDNN, INsize: 31: 100%|██████████| 5/5 [00:29<00:00,  5.97s/it]\n",
      "bootstraping 1000...: 100%|██████████| 1000/1000 [00:00<00:00, 1007.74it/s]"
     ]
    },
    {
     "name": "stdout",
     "output_type": "stream",
     "text": [
      "training c indices:  [0.86 0.91 0.97 0.96 0.97]\n",
      "valid c indices (aggregated):  (0.7926200694067431, 0.7681967134690363, 0.8146126288596983)\n"
     ]
    },
    {
     "name": "stderr",
     "output_type": "stream",
     "text": [
      "\n"
     ]
    }
   ],
   "source": [
    "# Set general parameters\n",
    "HyperParams = HP_dict(wd = 1e-3, nepochs = 200,  bootstr_n = 1000, nfolds = 5)\n",
    "CDS = SGE.get_data(\"lgn_pronostic\")[\"CDS\"]\n",
    "cyt = pd.DataFrame(SGE.data[\"CF\"][\"Cytogenetic risk\"])\n",
    "cyt_levels = [{\"intermediate cytogenetics\":1, \"Intermediate/Normal\":1, \"adverse cytogenetics\": 2, \"favorable cytogenetics\":0, \"Favorable\":0, \"Standard\":1, \"Low\":0, \"Poor\":2, None: 1}[level] for level in cyt[\"Cytogenetic risk\"]] \n",
    "cyt[\"pred_risk\"] = cyt_levels\n",
    "cyt_c_scores, cyt_metrics = functions.compute_cyto_risk_c_index(cyt[\"pred_risk\"], CDS.y, gamma = 0.001, n = HyperParams.bootstr_n)\n",
    "print(\"C index method 1: \", cyt_metrics)\n",
    "\n",
    "results = [(1, \"c_index\", \"cytogenetics\", cyt_metrics[0], cyt_metrics[1], cyt_metrics[2] )]\n",
    "\n",
    "for repn in range(1,4,1):        \n",
    "    # for model_type in [\"ridge_cph_lifelines_CF\", \"cphdnn_2l\"]:\n",
    "    #     data = clin_factors.clone()\n",
    "    #     # preprocess data (remove low variance columns)\n",
    "    #     data.x = data.x[data.x.columns[np.where(data.x.var(0) > 0.01)]]\n",
    "    #     # splitting\n",
    "    #     data.split_train_test(HyperParams.nfolds)\n",
    "    #     # generate model parameters \n",
    "    #     params = HyperParams.generate_default(model_type = model_type, data = data)\n",
    "    #     # train and evaluate model\n",
    "    #     c_index_metrics, c_scores, surv_tbl, params= cox_models.evaluate(data, params, pca_n = None)\n",
    "    #     # append to results\n",
    "    #     results.append((repn, params[\"modeltype\"], data.name, c_index_metrics[0], c_index_metrics[1], c_index_metrics[2] ))\n",
    "\n",
    "    # for model_type in [\"ridge_cph_lifelines_CF_LSC17\", \"cphdnn_5l\"]:\n",
    "    #     data = clin_factors_lsc17.clone()\n",
    "    #     # preprocess data (remove low variance columns)\n",
    "    #     data.x = data.x[data.x.columns[np.where(data.x.var(0) > 0.01)]]\n",
    "        \n",
    "    #     # splitting\n",
    "    #     data.split_train_test(HyperParams.nfolds)\n",
    "    #     # generate model parameters \n",
    "    #     params = HyperParams.generate_default(model_type = model_type, data = data)\n",
    "    #     # train and evaluate model\n",
    "    #     c_index_metrics, c_scores, surv_tbl, params= cox_models.evaluate(data, params, pca_n = None)\n",
    "    #     # append to results\n",
    "    #     results.append((repn, params[\"modeltype\"], data.name , c_index_metrics[0], c_index_metrics[1], c_index_metrics[2] ))\n",
    "\n",
    "    for model_type in [\"ridge_cph_lifelines_CF_PCA\", \"cphdnn_5l\"]:\n",
    "        data = clin_factors_pca.clone()\n",
    "        # preprocess data \n",
    "        data.x = data.x[data.x.columns[np.where(data.x.var(0) > 0.01)]]\n",
    "        # splitting\n",
    "        data.split_train_test(HyperParams.nfolds)\n",
    "        # generate model parameters \n",
    "        params = HyperParams.generate_default(model_type = model_type, data = data)\n",
    "        # train and evaluate model\n",
    "        c_index_metrics, c_scores, surv_tbl, params= cox_models.evaluate(data, params, pca_n = None)\n",
    "        # append to results\n",
    "        results.append((repn, params[\"modeltype\"], data.name , c_index_metrics[0], c_index_metrics[1], c_index_metrics[2] ))\n",
    "\n"
   ]
  },
  {
   "cell_type": "code",
   "execution_count": 15,
   "metadata": {},
   "outputs": [
    {
     "data": {
      "text/html": [
       "<div>\n",
       "<style scoped>\n",
       "    .dataframe tbody tr th:only-of-type {\n",
       "        vertical-align: middle;\n",
       "    }\n",
       "\n",
       "    .dataframe tbody tr th {\n",
       "        vertical-align: top;\n",
       "    }\n",
       "\n",
       "    .dataframe thead th {\n",
       "        text-align: right;\n",
       "    }\n",
       "</style>\n",
       "<table border=\"1\" class=\"dataframe\">\n",
       "  <thead>\n",
       "    <tr style=\"text-align: right;\">\n",
       "      <th></th>\n",
       "      <th>repn</th>\n",
       "      <th>model t.</th>\n",
       "      <th>input t.</th>\n",
       "      <th>c.ind med</th>\n",
       "      <th>c.ind 5%</th>\n",
       "      <th>c.ind 95%</th>\n",
       "    </tr>\n",
       "  </thead>\n",
       "  <tbody>\n",
       "    <tr>\n",
       "      <th>0</th>\n",
       "      <td>1</td>\n",
       "      <td>c_index</td>\n",
       "      <td>cytogenetics</td>\n",
       "      <td>0.631056</td>\n",
       "      <td>0.615145</td>\n",
       "      <td>0.647329</td>\n",
       "    </tr>\n",
       "    <tr>\n",
       "      <th>1</th>\n",
       "      <td>1</td>\n",
       "      <td>ridge_cph_lifelines</td>\n",
       "      <td>clin. factors</td>\n",
       "      <td>0.674877</td>\n",
       "      <td>0.642047</td>\n",
       "      <td>0.703370</td>\n",
       "    </tr>\n",
       "    <tr>\n",
       "      <th>2</th>\n",
       "      <td>1</td>\n",
       "      <td>CPHDNN</td>\n",
       "      <td>clin. factors</td>\n",
       "      <td>0.697814</td>\n",
       "      <td>0.670408</td>\n",
       "      <td>0.724725</td>\n",
       "    </tr>\n",
       "    <tr>\n",
       "      <th>3</th>\n",
       "      <td>1</td>\n",
       "      <td>ridge_cph_lifelines</td>\n",
       "      <td>clin. factors + LSC17</td>\n",
       "      <td>0.667102</td>\n",
       "      <td>0.638829</td>\n",
       "      <td>0.696994</td>\n",
       "    </tr>\n",
       "    <tr>\n",
       "      <th>4</th>\n",
       "      <td>1</td>\n",
       "      <td>CPHDNN</td>\n",
       "      <td>clin. factors + LSC17</td>\n",
       "      <td>0.809139</td>\n",
       "      <td>0.788394</td>\n",
       "      <td>0.829944</td>\n",
       "    </tr>\n",
       "    <tr>\n",
       "      <th>5</th>\n",
       "      <td>2</td>\n",
       "      <td>ridge_cph_lifelines</td>\n",
       "      <td>clin. factors</td>\n",
       "      <td>0.671015</td>\n",
       "      <td>0.642014</td>\n",
       "      <td>0.700882</td>\n",
       "    </tr>\n",
       "    <tr>\n",
       "      <th>6</th>\n",
       "      <td>2</td>\n",
       "      <td>CPHDNN</td>\n",
       "      <td>clin. factors</td>\n",
       "      <td>0.705474</td>\n",
       "      <td>0.678179</td>\n",
       "      <td>0.733616</td>\n",
       "    </tr>\n",
       "    <tr>\n",
       "      <th>7</th>\n",
       "      <td>2</td>\n",
       "      <td>ridge_cph_lifelines</td>\n",
       "      <td>clin. factors + LSC17</td>\n",
       "      <td>0.696233</td>\n",
       "      <td>0.668049</td>\n",
       "      <td>0.722119</td>\n",
       "    </tr>\n",
       "    <tr>\n",
       "      <th>8</th>\n",
       "      <td>2</td>\n",
       "      <td>CPHDNN</td>\n",
       "      <td>clin. factors + LSC17</td>\n",
       "      <td>0.794950</td>\n",
       "      <td>0.770581</td>\n",
       "      <td>0.818071</td>\n",
       "    </tr>\n",
       "    <tr>\n",
       "      <th>9</th>\n",
       "      <td>3</td>\n",
       "      <td>ridge_cph_lifelines</td>\n",
       "      <td>clin. factors</td>\n",
       "      <td>0.684767</td>\n",
       "      <td>0.656732</td>\n",
       "      <td>0.713638</td>\n",
       "    </tr>\n",
       "    <tr>\n",
       "      <th>10</th>\n",
       "      <td>3</td>\n",
       "      <td>CPHDNN</td>\n",
       "      <td>clin. factors</td>\n",
       "      <td>0.705566</td>\n",
       "      <td>0.676342</td>\n",
       "      <td>0.734056</td>\n",
       "    </tr>\n",
       "    <tr>\n",
       "      <th>11</th>\n",
       "      <td>3</td>\n",
       "      <td>ridge_cph_lifelines</td>\n",
       "      <td>clin. factors + LSC17</td>\n",
       "      <td>0.693238</td>\n",
       "      <td>0.665997</td>\n",
       "      <td>0.721319</td>\n",
       "    </tr>\n",
       "    <tr>\n",
       "      <th>12</th>\n",
       "      <td>3</td>\n",
       "      <td>CPHDNN</td>\n",
       "      <td>clin. factors + LSC17</td>\n",
       "      <td>0.792620</td>\n",
       "      <td>0.768197</td>\n",
       "      <td>0.814613</td>\n",
       "    </tr>\n",
       "  </tbody>\n",
       "</table>\n",
       "</div>"
      ],
      "text/plain": [
       "    repn             model t.               input t.  c.ind med  c.ind 5%  \\\n",
       "0      1              c_index           cytogenetics   0.631056  0.615145   \n",
       "1      1  ridge_cph_lifelines          clin. factors   0.674877  0.642047   \n",
       "2      1               CPHDNN          clin. factors   0.697814  0.670408   \n",
       "3      1  ridge_cph_lifelines  clin. factors + LSC17   0.667102  0.638829   \n",
       "4      1               CPHDNN  clin. factors + LSC17   0.809139  0.788394   \n",
       "5      2  ridge_cph_lifelines          clin. factors   0.671015  0.642014   \n",
       "6      2               CPHDNN          clin. factors   0.705474  0.678179   \n",
       "7      2  ridge_cph_lifelines  clin. factors + LSC17   0.696233  0.668049   \n",
       "8      2               CPHDNN  clin. factors + LSC17   0.794950  0.770581   \n",
       "9      3  ridge_cph_lifelines          clin. factors   0.684767  0.656732   \n",
       "10     3               CPHDNN          clin. factors   0.705566  0.676342   \n",
       "11     3  ridge_cph_lifelines  clin. factors + LSC17   0.693238  0.665997   \n",
       "12     3               CPHDNN  clin. factors + LSC17   0.792620  0.768197   \n",
       "\n",
       "    c.ind 95%  \n",
       "0    0.647329  \n",
       "1    0.703370  \n",
       "2    0.724725  \n",
       "3    0.696994  \n",
       "4    0.829944  \n",
       "5    0.700882  \n",
       "6    0.733616  \n",
       "7    0.722119  \n",
       "8    0.818071  \n",
       "9    0.713638  \n",
       "10   0.734056  \n",
       "11   0.721319  \n",
       "12   0.814613  "
      ]
     },
     "execution_count": 15,
     "metadata": {},
     "output_type": "execute_result"
    }
   ],
   "source": [
    "\n",
    "colnames = (\"repn\", \"model t.\", \"input t.\", \"c.ind med\", \"c.ind 5%\", \"c.ind 95%\")\n",
    "resdf = pd.DataFrame(results, columns = colnames)\n",
    "\n",
    "resdf\n",
    "\n"
   ]
  },
  {
   "cell_type": "code",
   "execution_count": 61,
   "metadata": {},
   "outputs": [],
   "source": [
    "fig, axes = plt.subplots(ncols = 2, nrows = 1, figsize = (22,10))\n",
    "cph_ax = axes[0]\n",
    "cphdnn_ax = axes[1]\n",
    "title = \"CPHDNN, CPH, Cyto risk with leucegene from varying input factors\"\n",
    "\n",
    "cph_df = resdf[(resdf[\"model t.\"] == \"ridge_cph_lifelines\")]\n",
    "for (xmark, input_type) in enumerate(np.unique(cph_df[\"input t.\"])):\n",
    "    data = cph_df[(cph_df[\"input t.\"] == input_type)]\n",
    "    xaxis = np.array(xmark + (0.15 * data[\"repn\"].values.astype(int)))\n",
    "    cph_ax.vlines(x = xaxis, ymin = data[\"c.ind 5%\"], ymax = data[\"c.ind 95%\"], linewidth = 4, label = input_type, color = \"k\")\n",
    "    cph_ax.scatter(x = xaxis, y = data[\"c.ind med\"], linewidth = 5, label = input_type)\n",
    "    for (i, value) in zip(xaxis, data[\"c.ind med\"]):\n",
    "        cph_ax.text(i, value, str(round(value, 3)), fontsize = 20)\n",
    "    #ax.set_xticks(np.arange(ncols))\n",
    "    #ax.set_xticklabels(resdf.columns, fontsize = 14)\n",
    "    cph_ax.set_title(title)\n",
    "    cph_ax.set_xlabel(\"method + input\")\n",
    "    cph_ax.set_ylabel(\"concordance index\")\n",
    "    cph_ax.grid(visible = True, linestyle = \"--\")\n",
    "cph_ax.set_ylim((0.5,0.9))\n",
    "cph_ax.legend()\n",
    "\n",
    "cphdnn_df = resdf[(resdf[\"model t.\"] == \"CPHDNN\")]\n",
    "for (xmark, input_type) in enumerate(np.unique(cphdnn_df[\"input t.\"])):\n",
    "    data = cphdnn_df[(cphdnn_df[\"input t.\"] == input_type)]\n",
    "    xaxis = np.array(xmark + (0.2 * data[\"repn\"].values.astype(int)))\n",
    "    cphdnn_ax.vlines(x = xaxis, ymin = data[\"c.ind 5%\"], ymax = data[\"c.ind 95%\"], linewidth = 4, label = input_type, color = \"k\")\n",
    "    cphdnn_ax.scatter(x = xaxis, y = data[\"c.ind med\"], linewidth = 5, label = input_type)\n",
    "    for (i, value) in zip(xaxis, data[\"c.ind med\"]):\n",
    "        cphdnn_ax.text(i, value, str(round(value, 3)), fontsize = 20)\n",
    "    #ax.set_xticks(np.arange(ncols))\n",
    "    #ax.set_xticklabels(resdf.columns, fontsize = 14)\n",
    "    cphdnn_ax.set_title(title)\n",
    "    cphdnn_ax.set_xlabel(\"method + input\")\n",
    "    cphdnn_ax.set_ylabel(\"concordance index\")\n",
    "    cphdnn_ax.grid(visible = True, linestyle = \"--\")\n",
    "cphdnn_ax.legend()\n",
    "cphdnn_ax.set_ylim((0.5,0.9))\n",
    "plt.tight_layout()\n",
    "plt.savefig(f\"RES/V2/fig1.png\")\n"
   ]
  },
  {
   "cell_type": "code",
   "execution_count": null,
   "metadata": {},
   "outputs": [],
   "source": []
  },
  {
   "cell_type": "markdown",
   "metadata": {},
   "source": [
    "#### **Figure** : using clinical factors with cph / cphdnn with leucegene and comparing to cytogentic risk only benchmark "
   ]
  },
  {
   "cell_type": "code",
   "execution_count": null,
   "metadata": {},
   "outputs": [],
   "source": []
  }
 ],
 "metadata": {
  "interpreter": {
   "hash": "d155f049ee19f4bc9724a713b0437335dd953d8a87038f68f9840be1b6d0dc8c"
  },
  "kernelspec": {
   "display_name": "Python 3.6.8 ('env': venv)",
   "language": "python",
   "name": "python3"
  },
  "language_info": {
   "codemirror_mode": {
    "name": "ipython",
    "version": 3
   },
   "file_extension": ".py",
   "mimetype": "text/x-python",
   "name": "python",
   "nbconvert_exporter": "python",
   "pygments_lexer": "ipython3",
   "version": "3.6.8"
  },
  "orig_nbformat": 4
 },
 "nbformat": 4,
 "nbformat_minor": 2
}
