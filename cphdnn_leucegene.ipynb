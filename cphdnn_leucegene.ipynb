{
 "cells": [
  {
   "cell_type": "code",
   "execution_count": 1,
   "metadata": {},
   "outputs": [],
   "source": [
    "import matplotlib.pyplot as plt\n",
    "import pandas as pd\n",
    "import numpy as np\n",
    "from engines.datasets.base_datasets import SurvivalGEDataset\n",
    "from engines.hp_dict.base import HP_dict\n",
    "from engines.models import cox_models\n",
    "import warnings\n",
    "warnings.simplefilter(action='ignore', category=FutureWarning)\n",
    "\n",
    "from engines.models import functions\n",
    "plt.rcParams[\"svg.fonttype\"] = \"none\"\n"
   ]
  },
  {
   "cell_type": "code",
   "execution_count": 2,
   "metadata": {},
   "outputs": [],
   "source": [
    "### import some basic general arguments\n",
    "from experiments.parsers import parse_arguments\n"
   ]
  },
  {
   "cell_type": "markdown",
   "metadata": {},
   "source": [
    "## Data\n",
    "The data used to train the network is described here. We use \n",
    "* **mutation profiles** : is described by presence/absence of NPM1 mutation, FLT3-ITD mutation and IDH1-R32 mutation.\n",
    "* **transcriptomic profile** : is descr. by gene expression of the protein coding genes with selection/projection-based dimensionality reduction. (to up to 17 components.)    \n",
    "* **cytogenetic profile** : is descr. by multiple (18) cytogenetic abnormalities or groups.\n",
    "    \n",
    "* **age** (described by age > 60 years boolean), **sex** (is patient female? bool)"
   ]
  },
  {
   "cell_type": "code",
   "execution_count": 3,
   "metadata": {},
   "outputs": [],
   "source": [
    "## Clinical FEATURES \n",
    "mutations = [\"NPM1 mutation\", \"FLT3-ITD mutation\", \"IDH1-R132 mutation\"]\n",
    "age_sex = [\"Sex_F\",\"Age_gt_60\"]\n",
    "cytogenetics = ['MLL translocations (+MLL FISH positive) (Irrespective of additional cytogenetic abnormalities)',\n",
    "       'Intermediate abnormal karyotype (except isolated trisomy/tetrasomy 8)',\n",
    "       'Normal karyotype',\n",
    "       'Complex (3 and more chromosomal abnormalities)',\n",
    "       'Trisomy/tetrasomy 8 (isolated)',\n",
    "       'Monosomy 5/ 5q-/Monosomy 7/ 7q- (less than 3 chromosomal abnormalities)',\n",
    "       'NUP98-NSD1(normal karyotype)',\n",
    "       't(8;21)(q22;q22)/RUNX1-RUNX1T1 (Irrespective of additional cytogenetic abnormalities)',\n",
    "       'inv(16)(p13.1q22)/t(16;16)(p13.1;q22)/CBFB-MYH11 (Irrespective of additional cytogenetic abnormalities)',\n",
    "       'EVI1 rearrangements (+EVI1 FISH positive) (Irrespective of additional cytogenetic abnormalities)',\n",
    "       't(6;9)(p23;q34) (Irrespective of additional cytogenetic abnormalities)',\n",
    "       'Monosomy17/del17p (less than 3 chromosomal abnormalities)',\n",
    "       'Hyperdiploid numerical abnormalities only']\n",
    "clinical_features = np.concatenate([mutations, cytogenetics, age_sex])"
   ]
  },
  {
   "cell_type": "code",
   "execution_count": 17,
   "metadata": {},
   "outputs": [
    {
     "name": "stdout",
     "output_type": "stream",
     "text": [
      "Loading and assembling Gene Repertoire...\n",
      "Loading ClinF lgn_pronostic file ...\n",
      "removed 414 genes with null expression across samples \n",
      "Now datataset hase shape (300, 19183)\n",
      "Loading ClinF lgn_pronostic file ...\n",
      "removed 414 genes with null expression across samples \n",
      "Now datataset hase shape (300, 19183)\n",
      "Loading ClinF lgn_pronostic file ...\n",
      "removed 414 genes with null expression across samples \n",
      "Now datataset hase shape (300, 19183)\n"
     ]
    },
    {
     "ename": "UnboundLocalError",
     "evalue": "local variable 'train_features' referenced before assignment",
     "output_type": "error",
     "traceback": [
      "\u001b[0;31m---------------------------------------------------------------------------\u001b[0m",
      "\u001b[0;31mUnboundLocalError\u001b[0m                         Traceback (most recent call last)",
      "\u001b[0;32m<ipython-input-17-a9067e288467>\u001b[0m in \u001b[0;36m<module>\u001b[0;34m\u001b[0m\n\u001b[1;32m      5\u001b[0m \u001b[0mclin_factors\u001b[0m \u001b[0;34m=\u001b[0m \u001b[0mSGE\u001b[0m\u001b[0;34m.\u001b[0m\u001b[0mnew\u001b[0m\u001b[0;34m(\u001b[0m\u001b[0;34m\"lgn_pronostic\"\u001b[0m\u001b[0;34m,\u001b[0m \u001b[0mclinical_features\u001b[0m\u001b[0;34m,\u001b[0m \u001b[0mgene_expressions\u001b[0m\u001b[0;34m=\u001b[0m\u001b[0;32mNone\u001b[0m\u001b[0;34m)\u001b[0m\u001b[0;34m\u001b[0m\u001b[0;34m\u001b[0m\u001b[0m\n\u001b[1;32m      6\u001b[0m \u001b[0mclin_factors_lsc17\u001b[0m \u001b[0;34m=\u001b[0m \u001b[0mSGE\u001b[0m\u001b[0;34m.\u001b[0m\u001b[0mnew\u001b[0m\u001b[0;34m(\u001b[0m\u001b[0;34m\"lgn_pronostic\"\u001b[0m\u001b[0;34m,\u001b[0m \u001b[0mclinical_features\u001b[0m\u001b[0;34m,\u001b[0m \u001b[0mgene_expressions\u001b[0m\u001b[0;34m=\u001b[0m\u001b[0;34m\"LSC17\"\u001b[0m\u001b[0;34m)\u001b[0m\u001b[0;34m\u001b[0m\u001b[0;34m\u001b[0m\u001b[0m\n\u001b[0;32m----> 7\u001b[0;31m \u001b[0mclin_factors_pca\u001b[0m \u001b[0;34m=\u001b[0m \u001b[0mSGE\u001b[0m\u001b[0;34m.\u001b[0m\u001b[0mnew\u001b[0m\u001b[0;34m(\u001b[0m\u001b[0;34m\"lgn_pronostic\"\u001b[0m\u001b[0;34m,\u001b[0m \u001b[0mclinical_features\u001b[0m\u001b[0;34m,\u001b[0m \u001b[0mgene_expressions\u001b[0m\u001b[0;34m=\u001b[0m\u001b[0;34m\"PCA\"\u001b[0m\u001b[0;34m)\u001b[0m\u001b[0;34m\u001b[0m\u001b[0;34m\u001b[0m\u001b[0m\n\u001b[0m",
      "\u001b[0;32m~/leucegene-shared/engines/datasets/base_datasets.py\u001b[0m in \u001b[0;36mnew\u001b[0;34m(self, cohort, clinical_factors, gene_expressions)\u001b[0m\n\u001b[1;32m    166\u001b[0m             \u001b[0mtrain_features\u001b[0m \u001b[0;34m=\u001b[0m \u001b[0mclinical_features\u001b[0m\u001b[0;34m.\u001b[0m\u001b[0mmerge\u001b[0m\u001b[0;34m(\u001b[0m\u001b[0mge_features\u001b[0m\u001b[0;34m.\u001b[0m\u001b[0mx\u001b[0m\u001b[0;34m,\u001b[0m \u001b[0mleft_index\u001b[0m \u001b[0;34m=\u001b[0m \u001b[0;32mTrue\u001b[0m\u001b[0;34m,\u001b[0m \u001b[0mright_index\u001b[0m \u001b[0;34m=\u001b[0m \u001b[0;32mTrue\u001b[0m\u001b[0;34m)\u001b[0m\u001b[0;34m\u001b[0m\u001b[0;34m\u001b[0m\u001b[0m\n\u001b[1;32m    167\u001b[0m         \u001b[0;32melse\u001b[0m \u001b[0;34m:\u001b[0m \u001b[0mtrain_features\u001b[0m \u001b[0;34m=\u001b[0m \u001b[0mclinical_features\u001b[0m\u001b[0;34m\u001b[0m\u001b[0;34m\u001b[0m\u001b[0m\n\u001b[0;32m--> 168\u001b[0;31m         \u001b[0;31m# manage target features\u001b[0m\u001b[0;34m\u001b[0m\u001b[0;34m\u001b[0m\u001b[0;34m\u001b[0m\u001b[0m\n\u001b[0m\u001b[1;32m    169\u001b[0m         \u001b[0mtarget_features\u001b[0m \u001b[0;34m=\u001b[0m \u001b[0mself\u001b[0m\u001b[0;34m.\u001b[0m\u001b[0mdata\u001b[0m\u001b[0;34m[\u001b[0m\u001b[0;34m\"CDS\"\u001b[0m\u001b[0;34m]\u001b[0m\u001b[0;34m.\u001b[0m\u001b[0my\u001b[0m\u001b[0;34m\u001b[0m\u001b[0;34m\u001b[0m\u001b[0m\n\u001b[1;32m    170\u001b[0m         \u001b[0mdata_name\u001b[0m \u001b[0;34m=\u001b[0m \u001b[0;34m\"clin. factors + \"\u001b[0m\u001b[0;34m+\u001b[0m \u001b[0mgene_expressions\u001b[0m \u001b[0;32mif\u001b[0m \u001b[0mgene_expressions\u001b[0m \u001b[0;32mis\u001b[0m \u001b[0;32mnot\u001b[0m \u001b[0;32mNone\u001b[0m \u001b[0;32melse\u001b[0m \u001b[0;34m\"clin. factors\"\u001b[0m\u001b[0;34m\u001b[0m\u001b[0;34m\u001b[0m\u001b[0m\n",
      "\u001b[0;31mUnboundLocalError\u001b[0m: local variable 'train_features' referenced before assignment"
     ]
    }
   ],
   "source": [
    "SGE = SurvivalGEDataset()\n",
    "## cohort ## input_types ## other params\n",
    "## data{x: input_data, y: target} \n",
    "\n",
    "clin_factors = SGE.new(\"lgn_pronostic\", clinical_features, gene_expressions=\"None\")\n",
    "clin_factors_lsc17 = SGE.new(\"lgn_pronostic\", clinical_features, gene_expressions=\"LSC17\")\n",
    "clin_factors_pca = SGE.new(\"lgn_pronostic\", clinical_features, gene_expressions=\"PCA\")"
   ]
  },
  {
   "cell_type": "code",
   "execution_count": 5,
   "metadata": {},
   "outputs": [
    {
     "name": "stdout",
     "output_type": "stream",
     "text": [
      "Is the cloned copy equal in values ? :  True\n"
     ]
    }
   ],
   "source": [
    "clin_factors_copy = clin_factors.clone()\n",
    "print( \"Is the cloned copy equal in values ? : \", np.all(clin_factors.x == clin_factors_copy.x))\n",
    "clin_factors.split_train_test(5)\n",
    "clin_factors_copy.split_train_test(5)\n"
   ]
  },
  {
   "cell_type": "code",
   "execution_count": 6,
   "metadata": {},
   "outputs": [
    {
     "name": "stdout",
     "output_type": "stream",
     "text": [
      "The number of common samples between two shuffles: 188\n"
     ]
    }
   ],
   "source": [
    "# splitting different copies of the cloned set will shuffle the data internally \n",
    "n = clin_factors.folds[0].train.x.index.isin(clin_factors_copy.folds[0].train.x.index).sum()\n",
    "\n",
    "print (f\"The number of common samples between two shuffles: {n}\")"
   ]
  },
  {
   "cell_type": "markdown",
   "metadata": {},
   "source": [
    "## Example\n",
    "### Parameters, preprocessing, splitting\n"
   ]
  },
  {
   "cell_type": "code",
   "execution_count": 7,
   "metadata": {},
   "outputs": [],
   "source": [
    "# Set general parameters\n",
    "HyperParams = HP_dict(wd = 1e-3, nepochs = 200,  bootstr_n = 1000, nfolds = 5)\n",
    "data = clin_factors.clone()\n",
    "# preprocess data (remove low variance columns)\n",
    "data.x = data.x[data.x.columns[np.where(data.x.var(0) > 0.01)]]\n",
    "# splitting\n",
    "data.split_train_test(HyperParams.nfolds)\n",
    "# generate model parameters \n",
    "params = HyperParams.generate_default(model_type = \"cphdnn_2l\", data = data)\n",
    "\n"
   ]
  },
  {
   "cell_type": "markdown",
   "metadata": {},
   "source": [
    "### Launch training"
   ]
  },
  {
   "cell_type": "code",
   "execution_count": 8,
   "metadata": {},
   "outputs": [],
   "source": [
    "# c_index_metrics, c_scores, surv_tbl, params= cox_models.evaluate(data, params, pca_n = None)\n",
    "        "
   ]
  },
  {
   "cell_type": "markdown",
   "metadata": {},
   "source": [
    "## Figures \n",
    "#### Data generation"
   ]
  },
  {
   "cell_type": "code",
   "execution_count": 13,
   "metadata": {},
   "outputs": [
    {
     "name": "stdout",
     "output_type": "stream",
     "text": [
      "Loading ClinF lgn_pronostic file ...\n",
      "removed 414 genes with null expression across samples \n",
      "Now datataset hase shape (300, 19183)\n"
     ]
    },
    {
     "ename": "UnboundLocalError",
     "evalue": "local variable 'train_features' referenced before assignment",
     "output_type": "error",
     "traceback": [
      "\u001b[0;31m---------------------------------------------------------------------------\u001b[0m",
      "\u001b[0;31mUnboundLocalError\u001b[0m                         Traceback (most recent call last)",
      "\u001b[0;32m<ipython-input-13-83d08287c625>\u001b[0m in \u001b[0;36m<module>\u001b[0;34m\u001b[0m\n\u001b[0;32m----> 1\u001b[0;31m \u001b[0mtest1\u001b[0m \u001b[0;34m=\u001b[0m \u001b[0mSGE\u001b[0m\u001b[0;34m.\u001b[0m\u001b[0mnew\u001b[0m\u001b[0;34m(\u001b[0m\u001b[0;34m\"lgn_pronostic\"\u001b[0m\u001b[0;34m,\u001b[0m \u001b[0mclinical_features\u001b[0m\u001b[0;34m,\u001b[0m \u001b[0mgene_expressions\u001b[0m\u001b[0;34m=\u001b[0m\u001b[0;34m\"PCA\"\u001b[0m\u001b[0;34m)\u001b[0m\u001b[0;34m\u001b[0m\u001b[0;34m\u001b[0m\u001b[0m\n\u001b[0m",
      "\u001b[0;32m~/leucegene-shared/engines/datasets/base_datasets.py\u001b[0m in \u001b[0;36mnew\u001b[0;34m(self, cohort, clinical_factors, gene_expressions)\u001b[0m\n\u001b[1;32m    166\u001b[0m         \u001b[0mtarget_features\u001b[0m \u001b[0;34m=\u001b[0m \u001b[0mself\u001b[0m\u001b[0;34m.\u001b[0m\u001b[0mdata\u001b[0m\u001b[0;34m[\u001b[0m\u001b[0;34m\"CDS\"\u001b[0m\u001b[0;34m]\u001b[0m\u001b[0;34m.\u001b[0m\u001b[0my\u001b[0m\u001b[0;34m\u001b[0m\u001b[0;34m\u001b[0m\u001b[0m\n\u001b[1;32m    167\u001b[0m         \u001b[0mdata_name\u001b[0m \u001b[0;34m=\u001b[0m \u001b[0;34m\"clin. factors + \"\u001b[0m\u001b[0;34m+\u001b[0m \u001b[0mgene_expressions\u001b[0m \u001b[0;32mif\u001b[0m \u001b[0mgene_expressions\u001b[0m \u001b[0;32mis\u001b[0m \u001b[0;32mnot\u001b[0m \u001b[0;32mNone\u001b[0m \u001b[0;32melse\u001b[0m \u001b[0;34m\"clin. factors\"\u001b[0m\u001b[0;34m\u001b[0m\u001b[0;34m\u001b[0m\u001b[0m\n\u001b[0;32m--> 168\u001b[0;31m \u001b[0;34m\u001b[0m\u001b[0m\n\u001b[0m\u001b[1;32m    169\u001b[0m         \u001b[0mdata\u001b[0m \u001b[0;34m=\u001b[0m \u001b[0mData\u001b[0m\u001b[0;34m(\u001b[0m\u001b[0mx\u001b[0m \u001b[0;34m=\u001b[0m \u001b[0mtrain_features\u001b[0m\u001b[0;34m,\u001b[0m \u001b[0my\u001b[0m \u001b[0;34m=\u001b[0m \u001b[0mtarget_features\u001b[0m\u001b[0;34m,\u001b[0m \u001b[0mgene_info\u001b[0m\u001b[0;34m=\u001b[0m\u001b[0mself\u001b[0m\u001b[0;34m.\u001b[0m\u001b[0mgene_repertoire\u001b[0m\u001b[0;34m,\u001b[0m \u001b[0mname\u001b[0m\u001b[0;34m=\u001b[0m \u001b[0mdata_name\u001b[0m\u001b[0;34m)\u001b[0m\u001b[0;34m\u001b[0m\u001b[0;34m\u001b[0m\u001b[0m\n\u001b[1;32m    170\u001b[0m         \u001b[0;32mif\u001b[0m \u001b[0;34m(\u001b[0m\u001b[0mdata\u001b[0m\u001b[0;34m.\u001b[0m\u001b[0my\u001b[0m\u001b[0;34m.\u001b[0m\u001b[0mindex\u001b[0m \u001b[0;34m!=\u001b[0m \u001b[0mdata\u001b[0m\u001b[0;34m.\u001b[0m\u001b[0mx\u001b[0m\u001b[0;34m.\u001b[0m\u001b[0mindex\u001b[0m\u001b[0;34m)\u001b[0m\u001b[0;34m.\u001b[0m\u001b[0msum\u001b[0m\u001b[0;34m(\u001b[0m\u001b[0;34m)\u001b[0m \u001b[0;34m>\u001b[0m \u001b[0;36m0\u001b[0m\u001b[0;34m:\u001b[0m \u001b[0;32mraise\u001b[0m\u001b[0;34m(\u001b[0m\u001b[0mException\u001b[0m\u001b[0;34m,\u001b[0m \u001b[0;34m'error: unmatch in index'\u001b[0m\u001b[0;34m)\u001b[0m\u001b[0;34m\u001b[0m\u001b[0;34m\u001b[0m\u001b[0m\n",
      "\u001b[0;31mUnboundLocalError\u001b[0m: local variable 'train_features' referenced before assignment"
     ]
    }
   ],
   "source": [
    "test1 = SGE.new(\"lgn_pronostic\", clinical_features, gene_expressions=\"PCA\")"
   ]
  },
  {
   "cell_type": "code",
   "execution_count": 10,
   "metadata": {},
   "outputs": [
    {
     "data": {
      "text/plain": [
       "'clin. factors + LSC17'"
      ]
     },
     "execution_count": 10,
     "metadata": {},
     "output_type": "execute_result"
    }
   ],
   "source": [
    "test1.name"
   ]
  },
  {
   "cell_type": "code",
   "execution_count": 1,
   "metadata": {},
   "outputs": [
    {
     "ename": "NameError",
     "evalue": "name 'HP_dict' is not defined",
     "output_type": "error",
     "traceback": [
      "\u001b[0;31m---------------------------------------------------------------------------\u001b[0m",
      "\u001b[0;31mNameError\u001b[0m                                 Traceback (most recent call last)",
      "\u001b[0;32m<ipython-input-1-23ef50cff9a8>\u001b[0m in \u001b[0;36m<module>\u001b[0;34m\u001b[0m\n\u001b[1;32m      1\u001b[0m \u001b[0;31m# Set general parameters\u001b[0m\u001b[0;34m\u001b[0m\u001b[0;34m\u001b[0m\u001b[0;34m\u001b[0m\u001b[0m\n\u001b[0;32m----> 2\u001b[0;31m \u001b[0mHyperParams\u001b[0m \u001b[0;34m=\u001b[0m \u001b[0mHP_dict\u001b[0m\u001b[0;34m(\u001b[0m\u001b[0mwd\u001b[0m \u001b[0;34m=\u001b[0m \u001b[0;36m1e-3\u001b[0m\u001b[0;34m,\u001b[0m \u001b[0mnepochs\u001b[0m \u001b[0;34m=\u001b[0m \u001b[0;36m200\u001b[0m\u001b[0;34m,\u001b[0m  \u001b[0mbootstr_n\u001b[0m \u001b[0;34m=\u001b[0m \u001b[0;36m1000\u001b[0m\u001b[0;34m,\u001b[0m \u001b[0mnfolds\u001b[0m \u001b[0;34m=\u001b[0m \u001b[0;36m5\u001b[0m\u001b[0;34m)\u001b[0m\u001b[0;34m\u001b[0m\u001b[0;34m\u001b[0m\u001b[0m\n\u001b[0m\u001b[1;32m      3\u001b[0m \u001b[0mCDS\u001b[0m \u001b[0;34m=\u001b[0m \u001b[0mSGE\u001b[0m\u001b[0;34m.\u001b[0m\u001b[0mget_data\u001b[0m\u001b[0;34m(\u001b[0m\u001b[0;34m\"lgn_pronostic\"\u001b[0m\u001b[0;34m)\u001b[0m\u001b[0;34m[\u001b[0m\u001b[0;34m\"CDS\"\u001b[0m\u001b[0;34m]\u001b[0m\u001b[0;34m\u001b[0m\u001b[0;34m\u001b[0m\u001b[0m\n\u001b[1;32m      4\u001b[0m \u001b[0mcyt\u001b[0m \u001b[0;34m=\u001b[0m \u001b[0mpd\u001b[0m\u001b[0;34m.\u001b[0m\u001b[0mDataFrame\u001b[0m\u001b[0;34m(\u001b[0m\u001b[0mSGE\u001b[0m\u001b[0;34m.\u001b[0m\u001b[0mdata\u001b[0m\u001b[0;34m[\u001b[0m\u001b[0;34m\"CF\"\u001b[0m\u001b[0;34m]\u001b[0m\u001b[0;34m[\u001b[0m\u001b[0;34m\"Cytogenetic risk\"\u001b[0m\u001b[0;34m]\u001b[0m\u001b[0;34m)\u001b[0m\u001b[0;34m\u001b[0m\u001b[0;34m\u001b[0m\u001b[0m\n\u001b[1;32m      5\u001b[0m \u001b[0mcyt_levels\u001b[0m \u001b[0;34m=\u001b[0m \u001b[0;34m[\u001b[0m\u001b[0;34m{\u001b[0m\u001b[0;34m\"intermediate cytogenetics\"\u001b[0m\u001b[0;34m:\u001b[0m\u001b[0;36m1\u001b[0m\u001b[0;34m,\u001b[0m \u001b[0;34m\"Intermediate/Normal\"\u001b[0m\u001b[0;34m:\u001b[0m\u001b[0;36m1\u001b[0m\u001b[0;34m,\u001b[0m \u001b[0;34m\"adverse cytogenetics\"\u001b[0m\u001b[0;34m:\u001b[0m \u001b[0;36m2\u001b[0m\u001b[0;34m,\u001b[0m \u001b[0;34m\"favorable cytogenetics\"\u001b[0m\u001b[0;34m:\u001b[0m\u001b[0;36m0\u001b[0m\u001b[0;34m,\u001b[0m \u001b[0;34m\"Favorable\"\u001b[0m\u001b[0;34m:\u001b[0m\u001b[0;36m0\u001b[0m\u001b[0;34m,\u001b[0m \u001b[0;34m\"Standard\"\u001b[0m\u001b[0;34m:\u001b[0m\u001b[0;36m1\u001b[0m\u001b[0;34m,\u001b[0m \u001b[0;34m\"Low\"\u001b[0m\u001b[0;34m:\u001b[0m\u001b[0;36m0\u001b[0m\u001b[0;34m,\u001b[0m \u001b[0;34m\"Poor\"\u001b[0m\u001b[0;34m:\u001b[0m\u001b[0;36m2\u001b[0m\u001b[0;34m,\u001b[0m \u001b[0;32mNone\u001b[0m\u001b[0;34m:\u001b[0m \u001b[0;36m1\u001b[0m\u001b[0;34m}\u001b[0m\u001b[0;34m[\u001b[0m\u001b[0mlevel\u001b[0m\u001b[0;34m]\u001b[0m \u001b[0;32mfor\u001b[0m \u001b[0mlevel\u001b[0m \u001b[0;32min\u001b[0m \u001b[0mcyt\u001b[0m\u001b[0;34m[\u001b[0m\u001b[0;34m\"Cytogenetic risk\"\u001b[0m\u001b[0;34m]\u001b[0m\u001b[0;34m]\u001b[0m\u001b[0;34m\u001b[0m\u001b[0;34m\u001b[0m\u001b[0m\n",
      "\u001b[0;31mNameError\u001b[0m: name 'HP_dict' is not defined"
     ]
    }
   ],
   "source": [
    "# Set general parameters\n",
    "HyperParams = HP_dict(wd = 1e-3, nepochs = 200,  bootstr_n = 1000, nfolds = 5)\n",
    "CDS = SGE.get_data(\"lgn_pronostic\")[\"CDS\"]\n",
    "cyt = pd.DataFrame(SGE.data[\"CF\"][\"Cytogenetic risk\"])\n",
    "cyt_levels = [{\"intermediate cytogenetics\":1, \"Intermediate/Normal\":1, \"adverse cytogenetics\": 2, \"favorable cytogenetics\":0, \"Favorable\":0, \"Standard\":1, \"Low\":0, \"Poor\":2, None: 1}[level] for level in cyt[\"Cytogenetic risk\"]] \n",
    "cyt[\"pred_risk\"] = cyt_levels\n",
    "cyt_c_scores, cyt_metrics = functions.compute_cyto_risk_c_index(cyt[\"pred_risk\"], CDS.y, gamma = 0.001, n = HyperParams.bootstr_n)\n",
    "print(\"C index method 1: \", cyt_metrics)\n",
    "\n",
    "results = [(1, \"c_index\", \"cytogenetics\", cyt_metrics[0], cyt_metrics[1], cyt_metrics[2] )]\n"
   ]
  },
  {
   "cell_type": "code",
   "execution_count": null,
   "metadata": {},
   "outputs": [],
   "source": [
    "\n",
    "for repn in range(1,4,1):        \n",
    "    for model_type in [\"ridge_cph_lifelines_CF\", \"cphdnn_2l\"]:\n",
    "        data = clin_factors.clone()\n",
    "        # preprocess data (remove low variance columns)\n",
    "        data.x = data.x[data.x.columns[np.where(data.x.var(0) > 0.01)]]\n",
    "        # splitting\n",
    "        data.split_train_test(HyperParams.nfolds)\n",
    "        # generate model parameters \n",
    "        params = HyperParams.generate_default(model_type = model_type, data = data)\n",
    "        # train and evaluate model\n",
    "        c_index_metrics, c_scores, surv_tbl, params= cox_models.evaluate(data, params, pca_n = None)\n",
    "        # append to results\n",
    "        results.append((repn, params[\"modeltype\"], data.name, c_index_metrics[0], c_index_metrics[1], c_index_metrics[2] ))\n"
   ]
  },
  {
   "cell_type": "code",
   "execution_count": null,
   "metadata": {},
   "outputs": [],
   "source": [
    "\n",
    "    for model_type in [\"ridge_cph_lifelines_CF_LSC17\", \"cphdnn_5l\"]:\n",
    "        data = clin_factors_lsc17.clone()\n",
    "        # preprocess data (remove low variance columns)\n",
    "        data.x = data.x[data.x.columns[np.where(data.x.var(0) > 0.01)]]\n",
    "        \n",
    "        # splitting\n",
    "        data.split_train_test(HyperParams.nfolds)\n",
    "        # generate model parameters \n",
    "        params = HyperParams.generate_default(model_type = model_type, data = data)\n",
    "        # train and evaluate model\n",
    "        c_index_metrics, c_scores, surv_tbl, params= cox_models.evaluate(data, params, pca_n = None)\n",
    "        # append to results\n",
    "        results.append((repn, params[\"modeltype\"], data.name , c_index_metrics[0], c_index_metrics[1], c_index_metrics[2] ))\n",
    "\n",
    "    for model_type in [\"ridge_cph_lifelines_CF_PCA\", \"cphdnn_5l\"]:\n",
    "        data = clin_factors_pca.clone()\n",
    "        # preprocess data \n",
    "        data.x = data.x[data.x.columns[np.where(data.x.var(0) > 0.01)]]\n",
    "         # splitting\n",
    "        data.split_train_test(HyperParams.nfolds)\n",
    "        # generate model parameters \n",
    "        params = HyperParams.generate_default(model_type = model_type, data = data)\n",
    "        # train and evaluate model\n",
    "        c_index_metrics, c_scores, surv_tbl, params= cox_models.evaluate(data, params, pca_n = None)\n",
    "        # append to results\n",
    "        results.append((repn, params[\"modeltype\"], data.name , c_index_metrics[0], c_index_metrics[1], c_index_metrics[2] ))\n",
    "\n"
   ]
  },
  {
   "cell_type": "code",
   "execution_count": null,
   "metadata": {},
   "outputs": [],
   "source": [
    "\n",
    "colnames = (\"repn\", \"model t.\", \"input t.\", \"c.ind med\", \"c.ind 5%\", \"c.ind 95%\")\n",
    "resdf = pd.DataFrame(results, columns = colnames)\n",
    "\n",
    "resdf\n",
    "\n"
   ]
  },
  {
   "cell_type": "code",
   "execution_count": null,
   "metadata": {},
   "outputs": [],
   "source": [
    "fig, axes = plt.subplots(ncols = 2, nrows = 1, figsize = (22,10))\n",
    "cph_ax = axes[0]\n",
    "cphdnn_ax = axes[1]\n",
    "title = \"CPHDNN, CPH, Cyto risk with leucegene from varying input factors\"\n",
    "spacer = 0.2\n",
    "cph_df = resdf[(resdf[\"model t.\"] == \"ridge_cph_lifelines\")]\n",
    "for (xmark, input_type) in enumerate(np.unique(cph_df[\"input t.\"])):\n",
    "    data = cph_df[(cph_df[\"input t.\"] == input_type)]\n",
    "    xaxis = np.array(xmark + (spacer * data[\"repn\"].values.astype(int)))\n",
    "    cph_ax.vlines(x = xaxis, ymin = data[\"c.ind 5%\"], ymax = data[\"c.ind 95%\"], linewidth = 4, label = input_type, color = \"k\")\n",
    "    cph_ax.scatter(x = xaxis, y = data[\"c.ind med\"], linewidth = 5, label = input_type)\n",
    "    for (i, value) in zip(xaxis, data[\"c.ind med\"]):\n",
    "        cph_ax.text(i, value, str(round(value, 3)), fontsize = 20)\n",
    "    #ax.set_xticks(np.arange(ncols))\n",
    "    #ax.set_xticklabels(resdf.columns, fontsize = 14)\n",
    "    cph_ax.set_title(title)\n",
    "    cph_ax.set_xlabel(\"CPH (lifelines)\")\n",
    "    cph_ax.set_ylabel(\"concordance index\")\n",
    "    cph_ax.grid(visible = True, linestyle = \"--\")\n",
    "cph_ax.set_ylim((0.5,0.9))\n",
    "cph_ax.set_xticks(np.arange(len(np.unique(cph_df[\"input t.\"]))) + spacer * 2)\n",
    "cph_ax.set_xticklabels(np.unique(cph_df[\"input t.\"]), fontsize = 14)\n",
    "cph_ax.legend()\n",
    "\n",
    "cphdnn_df = resdf[(resdf[\"model t.\"] == \"CPHDNN\")]\n",
    "for (xmark, input_type) in enumerate(np.unique(cphdnn_df[\"input t.\"])):\n",
    "    data = cphdnn_df[(cphdnn_df[\"input t.\"] == input_type)]\n",
    "    xaxis = np.array(xmark + (0.2 * data[\"repn\"].values.astype(int)))\n",
    "    cphdnn_ax.vlines(x = xaxis, ymin = data[\"c.ind 5%\"], ymax = data[\"c.ind 95%\"], linewidth = 4, label = input_type, color = \"k\")\n",
    "    cphdnn_ax.scatter(x = xaxis, y = data[\"c.ind med\"], linewidth = 5, label = input_type)\n",
    "    for (i, value) in zip(xaxis, data[\"c.ind med\"]):\n",
    "        cphdnn_ax.text(i, value, str(round(value, 3)), fontsize = 20)\n",
    "    #ax.set_xticks(np.arange(ncols))\n",
    "    #ax.set_xticklabels(resdf.columns, fontsize = 14)\n",
    "    cphdnn_ax.set_title(title)\n",
    "    cphdnn_ax.set_xlabel(\"CPHDNN\")\n",
    "    cphdnn_ax.set_ylabel(\"concordance index\")\n",
    "    cphdnn_ax.grid(visible = True, linestyle = \"--\")\n",
    "cphdnn_ax.set_xticks(np.arange(len(np.unique(cphdnn_df[\"input t.\"]))) + 0.2 * 2)\n",
    "cphdnn_ax.set_xticklabels(np.unique(cphdnn_df[\"input t.\"]), fontsize = 14)\n",
    "cphdnn_ax.legend()\n",
    "cphdnn_ax.set_ylim((0.5,0.9))\n",
    "plt.tight_layout()\n",
    "plt.savefig(f\"RES/V2/fig1.png\")\n"
   ]
  },
  {
   "cell_type": "code",
   "execution_count": null,
   "metadata": {},
   "outputs": [],
   "source": []
  },
  {
   "cell_type": "markdown",
   "metadata": {},
   "source": [
    "#### **Figure** : using clinical factors with cph / cphdnn with leucegene and comparing to cytogentic risk only benchmark "
   ]
  },
  {
   "cell_type": "code",
   "execution_count": null,
   "metadata": {},
   "outputs": [],
   "source": []
  }
 ],
 "metadata": {
  "interpreter": {
   "hash": "d155f049ee19f4bc9724a713b0437335dd953d8a87038f68f9840be1b6d0dc8c"
  },
  "kernelspec": {
   "display_name": "Python 3.6.8 ('env': venv)",
   "language": "python",
   "name": "python3"
  },
  "language_info": {
   "codemirror_mode": {
    "name": "ipython",
    "version": 3
   },
   "file_extension": ".py",
   "mimetype": "text/x-python",
   "name": "python",
   "nbconvert_exporter": "python",
   "pygments_lexer": "ipython3",
   "version": "3.6.8"
  },
  "orig_nbformat": 4
 },
 "nbformat": 4,
 "nbformat_minor": 2
}
