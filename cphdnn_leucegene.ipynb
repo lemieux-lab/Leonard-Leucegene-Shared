{
 "cells": [
  {
   "cell_type": "code",
   "execution_count": 1,
   "metadata": {},
   "outputs": [],
   "source": [
    "import matplotlib.pyplot as plt\n",
    "import pandas as pd\n",
    "import numpy as np\n",
    "from engines.datasets.base_datasets import SurvivalGEDataset\n",
    "from engines.hp_dict.base import HP_dict\n",
    "from engines.models import cox_models\n",
    "import warnings\n",
    "warnings.simplefilter(action='ignore', category=FutureWarning)\n",
    "from engines.models import functions\n",
    "plt.rcParams[\"svg.fonttype\"] = \"none\"\n"
   ]
  },
  {
   "cell_type": "code",
   "execution_count": 2,
   "metadata": {},
   "outputs": [],
   "source": [
    "### import some basic general arguments\n",
    "from experiments.parsers import parse_arguments\n"
   ]
  },
  {
   "cell_type": "markdown",
   "metadata": {},
   "source": [
    "## Data\n",
    "The data used to train the network is described here. We use \n",
    "* **mutation profiles** : is described by presence/absence of NPM1 mutation, FLT3-ITD mutation and IDH1-R32 mutation.\n",
    "* **transcriptomic profile** : is descr. by gene expression of the protein coding genes with selection/projection-based dimensionality reduction. (to up to 17 components.)    \n",
    "* **cytogenetic profile** : is descr. by multiple (18) cytogenetic abnormalities or groups.\n",
    "    \n",
    "* **age** (described by age > 60 years boolean), **sex** (is patient female? bool)"
   ]
  },
  {
   "cell_type": "code",
   "execution_count": 3,
   "metadata": {},
   "outputs": [],
   "source": [
    "## Clinical FEATURES \n",
    "mutations = [\"NPM1 mutation\", \"FLT3-ITD mutation\", \"IDH1-R132 mutation\"]\n",
    "age_sex = [\"Sex_F\",\"Age_gt_60\"]\n",
    "cytogenetics = ['MLL translocations (+MLL FISH positive) (Irrespective of additional cytogenetic abnormalities)',\n",
    "       'Intermediate abnormal karyotype (except isolated trisomy/tetrasomy 8)',\n",
    "       'Normal karyotype',\n",
    "       'Complex (3 and more chromosomal abnormalities)',\n",
    "       'Trisomy/tetrasomy 8 (isolated)',\n",
    "       'Monosomy 5/ 5q-/Monosomy 7/ 7q- (less than 3 chromosomal abnormalities)',\n",
    "       'NUP98-NSD1(normal karyotype)',\n",
    "       't(8;21)(q22;q22)/RUNX1-RUNX1T1 (Irrespective of additional cytogenetic abnormalities)',\n",
    "       'inv(16)(p13.1q22)/t(16;16)(p13.1;q22)/CBFB-MYH11 (Irrespective of additional cytogenetic abnormalities)',\n",
    "       'EVI1 rearrangements (+EVI1 FISH positive) (Irrespective of additional cytogenetic abnormalities)',\n",
    "       't(6;9)(p23;q34) (Irrespective of additional cytogenetic abnormalities)',\n",
    "       'Monosomy17/del17p (less than 3 chromosomal abnormalities)',\n",
    "       'Hyperdiploid numerical abnormalities only']\n",
    "clinical_features = np.concatenate([mutations, cytogenetics, age_sex])"
   ]
  },
  {
   "cell_type": "code",
   "execution_count": 4,
   "metadata": {},
   "outputs": [
    {
     "name": "stdout",
     "output_type": "stream",
     "text": [
      "Loading and assembling Gene Repertoire...\n",
      "Loading ClinF lgn_pronostic file ...\n",
      "removed 414 genes with null expression across samples \n",
      "Now datataset hase shape (300, 19183)\n",
      "Loading ClinF lgn_pronostic file ...\n",
      "removed 414 genes with null expression across samples \n",
      "Now datataset hase shape (300, 19183)\n"
     ]
    }
   ],
   "source": [
    "SGE = SurvivalGEDataset()\n",
    "## cohort ## input_types ## other params\n",
    "## data{x: input_data, y: target} \n",
    "clin_factors = SGE.new(\"lgn_pronostic\", clinical_features, gene_expressions=None)\n",
    "clin_factors_lsc17 = SGE.new(\"lgn_pronostic\", clinical_features, gene_expressions=\"LSC17\")"
   ]
  },
  {
   "cell_type": "code",
   "execution_count": 5,
   "metadata": {},
   "outputs": [
    {
     "name": "stdout",
     "output_type": "stream",
     "text": [
      "Is the cloned copy equal in values ? :  True\n"
     ]
    }
   ],
   "source": [
    "clin_factors_copy = clin_factors.clone()\n",
    "print( \"Is the cloned copy equal in values ? : \", np.all(clin_factors.x == clin_factors_copy.x))\n",
    "clin_factors.split_train_test(5)\n",
    "clin_factors_copy.split_train_test(5)\n"
   ]
  },
  {
   "cell_type": "code",
   "execution_count": 6,
   "metadata": {},
   "outputs": [
    {
     "name": "stdout",
     "output_type": "stream",
     "text": [
      "The number of common samples between two shuffles: 196\n"
     ]
    }
   ],
   "source": [
    "# splitting different copies of the cloned set will shuffle the data internally \n",
    "n = clin_factors.folds[0].train.x.index.isin(clin_factors_copy.folds[0].train.x.index).sum()\n",
    "print (f\"The number of common samples between two shuffles: {n}\")"
   ]
  },
  {
   "cell_type": "markdown",
   "metadata": {},
   "source": [
    "## Example\n",
    "### Parameters, preprocessing, splitting\n"
   ]
  },
  {
   "cell_type": "code",
   "execution_count": 7,
   "metadata": {},
   "outputs": [],
   "source": [
    "# Set general parameters\n",
    "HyperParams = HP_dict(wd = 1e-3, nepochs = 200,  bootstr_n = 1000, nfolds = 5)\n",
    "data = clin_factors.clone()\n",
    "# preprocess data (remove low variance columns)\n",
    "data.x = data.x[data.x.columns[np.where(data.x.var(0) > 0.01)]]\n",
    "# splitting\n",
    "data.split_train_test(HyperParams.nfolds)\n",
    "# generate model parameters \n",
    "params = HyperParams.generate_default(model_type = \"cphdnn_2l\", data = data)\n",
    "\n"
   ]
  },
  {
   "cell_type": "markdown",
   "metadata": {},
   "source": [
    "### Launch training"
   ]
  },
  {
   "cell_type": "code",
   "execution_count": 8,
   "metadata": {},
   "outputs": [],
   "source": [
    "# c_index_metrics, c_scores, surv_tbl, params= cox_models.evaluate(data, params, pca_n = None)\n",
    "        "
   ]
  },
  {
   "cell_type": "markdown",
   "metadata": {},
   "source": [
    "## Figures \n",
    "#### Data generation"
   ]
  },
  {
   "cell_type": "code",
   "execution_count": 63,
   "metadata": {},
   "outputs": [
    {
     "name": "stdout",
     "output_type": "stream",
     "text": [
      "Loading ClinF lgn_pronostic file ...\n",
      "removed 414 genes with null expression across samples \n",
      "Now datataset hase shape (300, 19183)\n"
     ]
    },
    {
     "name": "stderr",
     "output_type": "stream",
     "text": [
      "100%|██████████| 1000/1000 [00:00<00:00, 1130.38it/s]\n"
     ]
    },
    {
     "name": "stdout",
     "output_type": "stream",
     "text": [
      "C index method 1:  (0.6312368618165124, 0.6158697175441564, 0.6476188175030807)\n"
     ]
    },
    {
     "name": "stderr",
     "output_type": "stream",
     "text": [
      "data; ridge_cph_lifelines, INsize: 15: 100%|██████████| 5/5 [00:00<00:00, 10.57it/s]\n",
      "bootstraping 1000...: 100%|██████████| 1000/1000 [00:01<00:00, 931.65it/s]\n"
     ]
    },
    {
     "name": "stdout",
     "output_type": "stream",
     "text": [
      "training c indices:  [0.67 0.68 0.7  0.7  0.68]\n",
      "valid c indices (aggregated):  (0.682697710713322, 0.6531606794764689, 0.7133300049925112)\n",
      "Setting up stack... saving to GPU\n"
     ]
    },
    {
     "name": "stderr",
     "output_type": "stream",
     "text": [
      "data; CPHDNN, INsize: 15: 100%|██████████| 5/5 [00:32<00:00,  6.59s/it]\n",
      "bootstraping 1000...: 100%|██████████| 1000/1000 [00:01<00:00, 961.01it/s]\n"
     ]
    },
    {
     "name": "stdout",
     "output_type": "stream",
     "text": [
      "training c indices:  [0.69 0.73 0.75 0.76 0.76]\n",
      "valid c indices (aggregated):  (0.683219051611274, 0.6525762059085999, 0.7115892515325531)\n"
     ]
    },
    {
     "name": "stderr",
     "output_type": "stream",
     "text": [
      "data; ridge_cph_lifelines, INsize: 31: 100%|██████████| 5/5 [00:00<00:00,  6.57it/s]\n",
      "bootstraping 1000...: 100%|██████████| 1000/1000 [00:01<00:00, 903.00it/s]\n"
     ]
    },
    {
     "name": "stdout",
     "output_type": "stream",
     "text": [
      "training c indices:  [0.75 0.74 0.75 0.76 0.75]\n",
      "valid c indices (aggregated):  (0.689034015879426, 0.6610994464592479, 0.7163411631219371)\n",
      "Setting up stack... saving to GPU\n"
     ]
    },
    {
     "name": "stderr",
     "output_type": "stream",
     "text": [
      "data; CPHDNN, INsize: 31: 100%|██████████| 5/5 [00:33<00:00,  6.68s/it]\n",
      "bootstraping 1000...: 100%|██████████| 1000/1000 [00:01<00:00, 963.30it/s]"
     ]
    },
    {
     "name": "stdout",
     "output_type": "stream",
     "text": [
      "training c indices:  [0.87 0.98 0.95 0.98 0.99]\n",
      "valid c indices (aggregated):  (0.7136011915561205, 0.6838861308967072, 0.7433224755700326)\n"
     ]
    },
    {
     "name": "stderr",
     "output_type": "stream",
     "text": [
      "\n"
     ]
    }
   ],
   "source": [
    "# Set general parameters\n",
    "HyperParams = HP_dict(wd = 1e-3, nepochs = 200,  bootstr_n = 1000, nfolds = 5)\n",
    "\n",
    "for repn in range(1,4,1):        \n",
    "    CDS = SGE.get_data(\"lgn_pronostic\")[\"CDS\"]\n",
    "    cyt = pd.DataFrame(SGE.data[\"CF\"][\"Cytogenetic risk\"])\n",
    "    cyt_levels = [{\"intermediate cytogenetics\":1, \"Intermediate/Normal\":1, \"adverse cytogenetics\": 2, \"favorable cytogenetics\":0, \"Favorable\":0, \"Standard\":1, \"Low\":0, \"Poor\":2, None: 1}[level] for level in cyt[\"Cytogenetic risk\"]] \n",
    "    cyt[\"pred_risk\"] = cyt_levels\n",
    "    cyt_c_scores, cyt_metrics = functions.compute_cyto_risk_c_index(cyt[\"pred_risk\"], CDS.y, gamma = 0.001, n = HyperParams.bootstr_n)\n",
    "    print(\"C index method 1: \", cyt_metrics)\n",
    "\n",
    "    results = [(\"cytogenetics\", cyt_metrics)]\n",
    "    for model_type in [\"ridge_cph_lifelines_CF\", \"cphdnn_2l\"]:\n",
    "        data = clin_factors.clone()\n",
    "        # preprocess data (remove low variance columns)\n",
    "        data.x = data.x[data.x.columns[np.where(data.x.var(0) > 0.01)]]\n",
    "        # splitting\n",
    "        data.split_train_test(HyperParams.nfolds)\n",
    "        # generate model parameters \n",
    "        params = HyperParams.generate_default(model_type = model_type, data = data)\n",
    "        # train and evaluate model\n",
    "        c_index_metrics, c_scores, surv_tbl, params= cox_models.evaluate(data, params, pca_n = None)\n",
    "        # append to results\n",
    "        results.append((model_type + \" \\n + clinical factors\", c_index_metrics))\n",
    "\n",
    "    for model_type in [\"ridge_cph_lifelines_CF_LSC17\", \"cphdnn_5l\"]:\n",
    "        data = clin_factors_lsc17.clone()\n",
    "        # preprocess data (remove low variance columns)\n",
    "        data.x = data.x[data.x.columns[np.where(data.x.var(0) > 0.01)]]\n",
    "        # splitting\n",
    "        data.split_train_test(HyperParams.nfolds)\n",
    "        # generate model parameters \n",
    "        params = HyperParams.generate_default(model_type = model_type, data = data)\n",
    "        # train and evaluate model\n",
    "        c_index_metrics, c_scores, surv_tbl, params= cox_models.evaluate(data, params, pca_n = None)\n",
    "        # append to results\n",
    "        results.append((model_type + \" \\n + clinical factors + LSC17\", c_index_metrics))\n",
    "    resdf = pd.DataFrame(dict(results))\n",
    "    ncols = resdf.shape[1]\n",
    "    title = \"CPHDNN, CPH, Cyto risk with leucegene from clinical factors input\"\n",
    "    fig, ax = plt.subplots(figsize = (15,10))\n",
    "    ax.vlines(np.arange(ncols), ymin = resdf.iloc[1,:], ymax = resdf.iloc[2,:], linewidth = 5)\n",
    "    ax.scatter(np.arange(ncols), resdf.iloc[0,:], linewidth = 5,  c = \"k\")\n",
    "    for (i, value) in enumerate(resdf.iloc[0,:]):\n",
    "        ax.text(i, value, str(round(value, 3)), fontsize = 14)\n",
    "    ax.set_xticks(np.arange(ncols))\n",
    "    ax.set_xticklabels(resdf.columns, fontsize = 14)\n",
    "    ax.set_title(title)\n",
    "    ax.set_xlabel(\"method + input\")\n",
    "    ax.set_ylabel(\"concordance index\")\n",
    "    ax.grid(visible = True, linestyle = \"--\")\n",
    "    # plt.show()\n",
    "    plt.tight_layout()\n",
    "    plt.savefig(f\"RES/V2/fig1_rep{repn}.png\")\n",
    "\n"
   ]
  },
  {
   "cell_type": "code",
   "execution_count": 64,
   "metadata": {},
   "outputs": [],
   "source": []
  },
  {
   "cell_type": "markdown",
   "metadata": {},
   "source": [
    "#### **Figure** : using clinical factors with cph / cphdnn with leucegene and comparing to cytogentic risk only benchmark "
   ]
  },
  {
   "cell_type": "code",
   "execution_count": 18,
   "metadata": {},
   "outputs": [
    {
     "data": {
      "text/plain": [
       "array(['0.63', '0.68', '0.71'], dtype='<U32')"
      ]
     },
     "execution_count": 18,
     "metadata": {},
     "output_type": "execute_result"
    }
   ],
   "source": []
  }
 ],
 "metadata": {
  "interpreter": {
   "hash": "d155f049ee19f4bc9724a713b0437335dd953d8a87038f68f9840be1b6d0dc8c"
  },
  "kernelspec": {
   "display_name": "Python 3.6.8 ('env': venv)",
   "language": "python",
   "name": "python3"
  },
  "language_info": {
   "codemirror_mode": {
    "name": "ipython",
    "version": 3
   },
   "file_extension": ".py",
   "mimetype": "text/x-python",
   "name": "python",
   "nbconvert_exporter": "python",
   "pygments_lexer": "ipython3",
   "version": "3.6.8"
  },
  "orig_nbformat": 4
 },
 "nbformat": 4,
 "nbformat_minor": 2
}
