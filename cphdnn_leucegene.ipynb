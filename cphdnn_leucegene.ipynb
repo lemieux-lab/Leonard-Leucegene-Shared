{
 "cells": [
  {
   "cell_type": "code",
   "execution_count": 36,
   "metadata": {},
   "outputs": [],
   "source": [
    "import matplotlib.pyplot as plt\n",
    "import pandas as pd\n",
    "import numpy as np\n",
    "from engines.datasets.base_datasets import SurvivalGEDataset\n",
    "from engines.hp_dict.base import HP_dict\n",
    "from engines.models import cox_models\n",
    "import warnings\n",
    "warnings.simplefilter(action='ignore', category=FutureWarning)\n",
    "from datetime import datetime\n",
    "import re \n",
    "stamp = datetime.now()\n",
    "hash1 = sum([int(i) for i in re.sub(r'[^\\w\\s]','', str(stamp)).replace(\" \", \"\")]) \n",
    "from engines.models import functions\n",
    "plt.rcParams[\"svg.fonttype\"] = \"none\"\n"
   ]
  },
  {
   "cell_type": "code",
   "execution_count": 37,
   "metadata": {},
   "outputs": [],
   "source": [
    "### import some basic general arguments\n",
    "from experiments.parsers import parse_arguments\n"
   ]
  },
  {
   "cell_type": "markdown",
   "metadata": {},
   "source": [
    "## Data\n",
    "The data used to train the network is described here. We use \n",
    "* **mutation profiles** : is described by presence/absence of NPM1 mutation, FLT3-ITD mutation and IDH1-R32 mutation.\n",
    "* **transcriptomic profile** : is descr. by gene expression of the protein coding genes with selection/projection-based dimensionality reduction. (to up to 17 components.)    \n",
    "* **cytogenetic profile** : is descr. by multiple (18) cytogenetic abnormalities or groups.\n",
    "    \n",
    "* **age** (described by age > 60 years boolean), **sex** (is patient female? bool)"
   ]
  },
  {
   "cell_type": "code",
   "execution_count": 38,
   "metadata": {},
   "outputs": [],
   "source": [
    "## Clinical FEATURES \n",
    "mutations = [\"NPM1 mutation\", \"FLT3-ITD mutation\", \"IDH1-R132 mutation\"]\n",
    "age_sex = [\"Sex_F\",\"Age_gt_60\"]\n",
    "cytogenetics = ['MLL translocations (+MLL FISH positive) (Irrespective of additional cytogenetic abnormalities)',\n",
    "       'Intermediate abnormal karyotype (except isolated trisomy/tetrasomy 8)',\n",
    "       'Normal karyotype',\n",
    "       'Complex (3 and more chromosomal abnormalities)',\n",
    "       'Trisomy/tetrasomy 8 (isolated)',\n",
    "       'Monosomy 5/ 5q-/Monosomy 7/ 7q- (less than 3 chromosomal abnormalities)',\n",
    "       'NUP98-NSD1(normal karyotype)',\n",
    "       't(8;21)(q22;q22)/RUNX1-RUNX1T1 (Irrespective of additional cytogenetic abnormalities)',\n",
    "       'inv(16)(p13.1q22)/t(16;16)(p13.1;q22)/CBFB-MYH11 (Irrespective of additional cytogenetic abnormalities)',\n",
    "       'EVI1 rearrangements (+EVI1 FISH positive) (Irrespective of additional cytogenetic abnormalities)',\n",
    "       't(6;9)(p23;q34) (Irrespective of additional cytogenetic abnormalities)',\n",
    "       'Monosomy17/del17p (less than 3 chromosomal abnormalities)',\n",
    "       'Hyperdiploid numerical abnormalities only']\n",
    "clinical_features = np.concatenate([mutations, cytogenetics, age_sex])"
   ]
  },
  {
   "cell_type": "code",
   "execution_count": 39,
   "metadata": {},
   "outputs": [
    {
     "name": "stdout",
     "output_type": "stream",
     "text": [
      "Loading and assembling Gene Repertoire...\n",
      "Loading ClinF lgn_pronostic file ...\n",
      "removed 414 genes with null expression across samples \n",
      "Now datataset hase shape (300, 19183)\n"
     ]
    }
   ],
   "source": [
    "SGE = SurvivalGEDataset()\n",
    "SGE.get_data(\"lgn_pronostic\")\n",
    "## cohort ## input_types ## other params\n",
    "## data{x: input_data, y: target} \n",
    "clin_factors = SGE.new(clinical_features, gene_expressions=\"None\")\n",
    "clin_factors_lsc17 = SGE.new(clinical_features, gene_expressions=\"LSC17\")\n",
    "clin_factors_pca = SGE.new(clinical_features, gene_expressions=\"PCA\")\n",
    "\n",
    "pca_only = SGE.new(None, gene_expressions = \"PCA\")\n",
    "lsc17_only = SGE.new(None, gene_expressions = \"LSC17\")\n",
    "lsc17_pca =  SGE.new(None, gene_expressions = \"LSC17+PCA\")\n",
    "\n",
    "clin_factors_lsc17_pca = SGE.new(clinical_features, gene_expressions=\"LSC17+PCA\")"
   ]
  },
  {
   "cell_type": "code",
   "execution_count": 40,
   "metadata": {},
   "outputs": [],
   "source": [
    "data = SGE.data[\"CF_bin\"].merge(SGE.data[\"LSC17\"].x, left_index = True, right_index = True)"
   ]
  },
  {
   "cell_type": "code",
   "execution_count": null,
   "metadata": {},
   "outputs": [],
   "source": []
  },
  {
   "cell_type": "code",
   "execution_count": 41,
   "metadata": {},
   "outputs": [
    {
     "name": "stdout",
     "output_type": "stream",
     "text": [
      "Is the cloned copy equal in values ? :  True\n"
     ]
    }
   ],
   "source": [
    "clin_factors_copy = clin_factors.clone()\n",
    "print( \"Is the cloned copy equal in values ? : \", np.all(clin_factors.x == clin_factors_copy.x))\n",
    "clin_factors.split_train_test(5)\n",
    "clin_factors_copy.split_train_test(5)\n"
   ]
  },
  {
   "cell_type": "code",
   "execution_count": 42,
   "metadata": {},
   "outputs": [
    {
     "name": "stdout",
     "output_type": "stream",
     "text": [
      "The number of common samples between two shuffles: 192\n"
     ]
    }
   ],
   "source": [
    "# splitting different copies of the cloned set will shuffle the data internally \n",
    "n = clin_factors.folds[0].train.x.index.isin(clin_factors_copy.folds[0].train.x.index).sum()\n",
    "\n",
    "print (f\"The number of common samples between two shuffles: {n}\")"
   ]
  },
  {
   "cell_type": "markdown",
   "metadata": {},
   "source": [
    "## Example\n",
    "### Parameters, preprocessing, splitting\n"
   ]
  },
  {
   "cell_type": "code",
   "execution_count": 43,
   "metadata": {},
   "outputs": [],
   "source": [
    "# Set general parameters\n",
    "HyperParams = HP_dict(wd = 1e-3, nepochs = 200,  bootstr_n = 1000, nfolds = 5)\n",
    "data = clin_factors.clone()\n",
    "# preprocess data (remove low variance columns)\n",
    "data.x = data.x[data.x.columns[np.where(data.x.var(0) > 0.01)]]\n",
    "# splitting\n",
    "data.split_train_test(HyperParams.nfolds)\n",
    "# generate model parameters \n",
    "params = HyperParams.generate_default(model_type = \"cphdnn_2l\", data = data)\n",
    "\n"
   ]
  },
  {
   "cell_type": "markdown",
   "metadata": {},
   "source": [
    "### Launch training"
   ]
  },
  {
   "cell_type": "code",
   "execution_count": 44,
   "metadata": {},
   "outputs": [],
   "source": [
    "# c_index_metrics, c_scores, surv_tbl, params= cox_models.evaluate(data, params, pca_n = None)\n",
    "        "
   ]
  },
  {
   "cell_type": "markdown",
   "metadata": {},
   "source": [
    "## Figures \n",
    "#### Data generation"
   ]
  },
  {
   "cell_type": "code",
   "execution_count": 45,
   "metadata": {},
   "outputs": [
    {
     "name": "stdout",
     "output_type": "stream",
     "text": [
      "Loading ClinF lgn_pronostic file ...\n",
      "removed 414 genes with null expression across samples \n",
      "Now datataset hase shape (300, 19183)\n"
     ]
    },
    {
     "name": "stderr",
     "output_type": "stream",
     "text": [
      "100%|██████████| 1000/1000 [00:00<00:00, 1141.18it/s]"
     ]
    },
    {
     "name": "stdout",
     "output_type": "stream",
     "text": [
      "C index method 1:  (0.630862348080315, 0.6142266895401938, 0.6466764926184551)\n"
     ]
    },
    {
     "name": "stderr",
     "output_type": "stream",
     "text": [
      "\n"
     ]
    }
   ],
   "source": [
    "# Set general parameters\n",
    "HyperParams = HP_dict(wd = 1e-3, nepochs = 200,  bootstr_n = 1000, nfolds = 5)\n",
    "CDS = SGE.get_data(\"lgn_pronostic\")[\"CDS\"]\n",
    "cyt = pd.DataFrame(SGE.data[\"CF\"][\"Cytogenetic risk\"])\n",
    "cyt_levels = [{\"intermediate cytogenetics\":1, \"Intermediate/Normal\":1, \"adverse cytogenetics\": 2, \"favorable cytogenetics\":0, \"Favorable\":0, \"Standard\":1, \"Low\":0, \"Poor\":2, None: 1}[level] for level in cyt[\"Cytogenetic risk\"]] \n",
    "cyt[\"pred_risk\"] = cyt_levels\n",
    "cyt_c_scores, cyt_metrics = functions.compute_cyto_risk_c_index(cyt[\"pred_risk\"], CDS.y, gamma = 0.001, n = HyperParams.bootstr_n)\n",
    "print(\"C index method 1: \", cyt_metrics)\n",
    "\n",
    "results = [(1, \"c_index\", \"cytogenetics\", cyt_metrics[0], cyt_metrics[1], cyt_metrics[2] )]\n"
   ]
  },
  {
   "cell_type": "code",
   "execution_count": 46,
   "metadata": {},
   "outputs": [
    {
     "name": "stderr",
     "output_type": "stream",
     "text": [
      "clin. factors + None; ridge_cph_lifelines, INsize: 15: 100%|██████████| 5/5 [00:00<00:00, 11.60it/s]\n",
      "bootstraping 1000...: 100%|██████████| 1000/1000 [00:01<00:00, 959.03it/s]\n"
     ]
    },
    {
     "name": "stdout",
     "output_type": "stream",
     "text": [
      "training c indices:  [0.68 0.69 0.7  0.69 0.68]\n",
      "valid c indices (aggregated):  (0.6748028695973676, 0.6434496978996835, 0.7042583288620067)\n",
      "Setting up stack... saving to GPU\n"
     ]
    },
    {
     "name": "stderr",
     "output_type": "stream",
     "text": [
      "clin. factors + None; CPHDNN, INsize: 15: 100%|██████████| 5/5 [00:29<00:00,  5.94s/it]\n",
      "bootstraping 1000...: 100%|██████████| 1000/1000 [00:01<00:00, 999.98it/s]\n"
     ]
    },
    {
     "name": "stdout",
     "output_type": "stream",
     "text": [
      "training c indices:  [0.71 0.74 0.75 0.74 0.78]\n",
      "valid c indices (aggregated):  (0.6803227930246507, 0.6501063258009487, 0.7088933985913811)\n"
     ]
    },
    {
     "name": "stderr",
     "output_type": "stream",
     "text": [
      "clin. factors + LSC17; ridge_cph_lifelines, INsize: 31:   0%|          | 0/5 [00:00<?, ?it/s]/u/sauves/leucegene-shared/env/lib64/python3.6/site-packages/lifelines/utils/__init__.py:1110: ConvergenceWarning: Column Complex (3 and more chromosomal abnormalities) have very low variance when conditioned on death event present or not. This may harm convergence. This could be a form of 'complete separation'. For example, try the following code:\n",
      "\n",
      ">>> events = df['E'].astype(bool)\n",
      ">>> print(df.loc[events, 'Complex (3 and more chromosomal abnormalities)'].var())\n",
      ">>> print(df.loc[~events, 'Complex (3 and more chromosomal abnormalities)'].var())\n",
      "\n",
      "A very low variance means that the column Complex (3 and more chromosomal abnormalities) completely determines whether a subject dies or not. See https://stats.stackexchange.com/questions/11109/how-to-deal-with-perfect-separation-in-logistic-regression.\n",
      "\n",
      "  warnings.warn(dedent(warning_text), ConvergenceWarning)\n",
      "/u/sauves/leucegene-shared/env/lib64/python3.6/site-packages/lifelines/fitters/coxph_fitter.py:1603: ConvergenceWarning: Newton-Rhaphson failed to converge sufficiently. Please see the following tips in the lifelines documentation: https://lifelines.readthedocs.io/en/latest/Examples.html#problems-with-convergence-in-the-cox-proportional-hazard-model\n",
      "  \"Newton-Rhaphson failed to converge sufficiently. {0}\".format(CONVERGENCE_DOCS), exceptions.ConvergenceWarning\n",
      "clin. factors + LSC17; ridge_cph_lifelines, INsize: 31: 100%|██████████| 5/5 [00:00<00:00,  7.38it/s]\n",
      "bootstraping 1000...: 100%|██████████| 1000/1000 [00:01<00:00, 960.22it/s]\n"
     ]
    },
    {
     "name": "stdout",
     "output_type": "stream",
     "text": [
      "training c indices:  [0.73 0.75 0.75 0.75 0.75]\n",
      "valid c indices (aggregated):  (0.6492366130836248, 0.6190712161970834, 0.6783373453774102)\n",
      "Setting up stack... saving to GPU\n"
     ]
    },
    {
     "name": "stderr",
     "output_type": "stream",
     "text": [
      "clin. factors + LSC17; CPHDNN, INsize: 31: 100%|██████████| 5/5 [00:30<00:00,  6.03s/it]\n",
      "bootstraping 1000...: 100%|██████████| 1000/1000 [00:01<00:00, 990.73it/s]\n"
     ]
    },
    {
     "name": "stdout",
     "output_type": "stream",
     "text": [
      "training c indices:  [0.87 0.92 0.98 0.99 1.  ]\n",
      "valid c indices (aggregated):  (0.7925010235186479, 0.7699655271473714, 0.8132219869079708)\n"
     ]
    },
    {
     "name": "stderr",
     "output_type": "stream",
     "text": [
      "clin. factors + PCA; ridge_cph_lifelines, INsize: 32: 100%|██████████| 5/5 [00:03<00:00,  1.53it/s]\n",
      "bootstraping 1000...: 100%|██████████| 1000/1000 [00:01<00:00, 918.95it/s]\n"
     ]
    },
    {
     "name": "stdout",
     "output_type": "stream",
     "text": [
      "training c indices:  [0.75 0.76 0.76 0.75 0.74]\n",
      "valid c indices (aggregated):  (0.7074233380607305, 0.6773153785545448, 0.735326418547895)\n",
      "Setting up stack... saving to GPU\n"
     ]
    },
    {
     "name": "stderr",
     "output_type": "stream",
     "text": [
      "clin. factors + PCA; CPHDNN, INsize: 32: 100%|██████████| 5/5 [00:32<00:00,  6.42s/it]\n",
      "bootstraping 1000...: 100%|██████████| 1000/1000 [00:01<00:00, 974.68it/s]\n"
     ]
    },
    {
     "name": "stdout",
     "output_type": "stream",
     "text": [
      "training c indices:  [0.69 0.74 0.78 0.79 0.82]\n",
      "valid c indices (aggregated):  (0.6437353667745621, 0.6084348864994026, 0.6754872035689129)\n"
     ]
    },
    {
     "name": "stderr",
     "output_type": "stream",
     "text": [
      "clin. factors + LSC17+PCA; ridge_cph_lifelines, INsize: 49: 100%|██████████| 5/5 [00:04<00:00,  1.22it/s]\n",
      "bootstraping 1000...: 100%|██████████| 1000/1000 [00:01<00:00, 919.03it/s]\n"
     ]
    },
    {
     "name": "stdout",
     "output_type": "stream",
     "text": [
      "training c indices:  [0.77 0.78 0.79 0.76 0.76]\n",
      "valid c indices (aggregated):  (0.6904113339351376, 0.6620151710319164, 0.7174334140435835)\n",
      "Setting up stack... saving to GPU\n"
     ]
    },
    {
     "name": "stderr",
     "output_type": "stream",
     "text": [
      "clin. factors + LSC17+PCA; CPHDNN, INsize: 49: 100%|██████████| 5/5 [00:32<00:00,  6.40s/it]\n",
      "bootstraping 1000...: 100%|██████████| 1000/1000 [00:01<00:00, 964.77it/s]\n"
     ]
    },
    {
     "name": "stdout",
     "output_type": "stream",
     "text": [
      "training c indices:  [0.75 0.79 0.8  0.82 0.81]\n",
      "valid c indices (aggregated):  (0.694421405427144, 0.6663519271741236, 0.7227176748230033)\n"
     ]
    },
    {
     "name": "stderr",
     "output_type": "stream",
     "text": [
      "LSC17+PCA; ridge_cph_lifelines, INsize: 33: 100%|██████████| 5/5 [00:03<00:00,  1.55it/s]\n",
      "bootstraping 1000...: 100%|██████████| 1000/1000 [00:01<00:00, 926.28it/s]\n"
     ]
    },
    {
     "name": "stdout",
     "output_type": "stream",
     "text": [
      "training c indices:  [0.72 0.75 0.74 0.75 0.72]\n",
      "valid c indices (aggregated):  (0.6691519096726407, 0.6403400421419748, 0.698454302721505)\n",
      "Setting up stack... saving to GPU\n"
     ]
    },
    {
     "name": "stderr",
     "output_type": "stream",
     "text": [
      "LSC17+PCA; CPHDNN, INsize: 33: 100%|██████████| 5/5 [00:31<00:00,  6.39s/it]\n",
      "bootstraping 1000...: 100%|██████████| 1000/1000 [00:01<00:00, 960.60it/s]\n"
     ]
    },
    {
     "name": "stdout",
     "output_type": "stream",
     "text": [
      "training c indices:  [0.7  0.75 0.77 0.79 0.8 ]\n",
      "valid c indices (aggregated):  (0.6377261553100676, 0.6066846725185685, 0.6682281685475666)\n"
     ]
    },
    {
     "name": "stderr",
     "output_type": "stream",
     "text": [
      "PCA; ridge_cph_lifelines, INsize: 30: 100%|██████████| 5/5 [00:02<00:00,  2.12it/s]\n",
      "bootstraping 1000...: 100%|██████████| 1000/1000 [00:01<00:00, 920.18it/s]\n"
     ]
    },
    {
     "name": "stdout",
     "output_type": "stream",
     "text": [
      "training c indices:  [0.72 0.75 0.73 0.73 0.73]\n",
      "valid c indices (aggregated):  (0.6840200032155782, 0.6547707144732758, 0.7158149917192713)\n",
      "Setting up stack... saving to GPU\n"
     ]
    },
    {
     "name": "stderr",
     "output_type": "stream",
     "text": [
      "PCA; CPHDNN, INsize: 30: 100%|██████████| 5/5 [00:31<00:00,  6.31s/it]\n",
      "bootstraping 1000...: 100%|██████████| 1000/1000 [00:01<00:00, 980.34it/s]\n"
     ]
    },
    {
     "name": "stdout",
     "output_type": "stream",
     "text": [
      "training c indices:  [0.88 0.87 0.88 0.86 0.88]\n",
      "valid c indices (aggregated):  (0.49143681205295947, 0.4570392147565081, 0.5225884027385831)\n"
     ]
    },
    {
     "name": "stderr",
     "output_type": "stream",
     "text": [
      "LSC17; ridge_cph_lifelines, INsize: 17: 100%|██████████| 5/5 [00:00<00:00, 12.04it/s]\n",
      "bootstraping 1000...: 100%|██████████| 1000/1000 [00:01<00:00, 952.31it/s]\n"
     ]
    },
    {
     "name": "stdout",
     "output_type": "stream",
     "text": [
      "training c indices:  [0.69 0.69 0.7  0.71 0.7 ]\n",
      "valid c indices (aggregated):  (0.665468149436251, 0.6346736762337786, 0.6975372618695094)\n",
      "Setting up stack... saving to GPU\n"
     ]
    },
    {
     "name": "stderr",
     "output_type": "stream",
     "text": [
      "LSC17; CPHDNN, INsize: 17: 100%|██████████| 5/5 [00:29<00:00,  5.89s/it]\n",
      "bootstraping 1000...: 100%|██████████| 1000/1000 [00:01<00:00, 987.22it/s]\n"
     ]
    },
    {
     "name": "stdout",
     "output_type": "stream",
     "text": [
      "training c indices:  [0.66 0.69 0.7  0.71 0.73]\n",
      "valid c indices (aggregated):  (0.6554891192997169, 0.6237483150394763, 0.68350787239703)\n"
     ]
    },
    {
     "name": "stderr",
     "output_type": "stream",
     "text": [
      "clin. factors + None; ridge_cph_lifelines, INsize: 15: 100%|██████████| 5/5 [00:00<00:00, 11.62it/s]\n",
      "bootstraping 1000...: 100%|██████████| 1000/1000 [00:01<00:00, 954.48it/s]\n"
     ]
    },
    {
     "name": "stdout",
     "output_type": "stream",
     "text": [
      "training c indices:  [0.69 0.69 0.69 0.69 0.67]\n",
      "valid c indices (aggregated):  (0.6781287402895319, 0.648077835785477, 0.7080183330183331)\n",
      "Setting up stack... saving to GPU\n"
     ]
    },
    {
     "name": "stderr",
     "output_type": "stream",
     "text": [
      "clin. factors + None; CPHDNN, INsize: 15: 100%|██████████| 5/5 [00:29<00:00,  5.93s/it]\n",
      "bootstraping 1000...: 100%|██████████| 1000/1000 [00:01<00:00, 996.89it/s]\n"
     ]
    },
    {
     "name": "stdout",
     "output_type": "stream",
     "text": [
      "training c indices:  [0.7  0.73 0.75 0.76 0.75]\n",
      "valid c indices (aggregated):  (0.7039646989455419, 0.6743261677407216, 0.7324398707670217)\n"
     ]
    },
    {
     "name": "stderr",
     "output_type": "stream",
     "text": [
      "clin. factors + LSC17; ridge_cph_lifelines, INsize: 31: 100%|██████████| 5/5 [00:00<00:00,  8.21it/s]\n",
      "bootstraping 1000...: 100%|██████████| 1000/1000 [00:01<00:00, 955.42it/s]\n"
     ]
    },
    {
     "name": "stdout",
     "output_type": "stream",
     "text": [
      "training c indices:  [0.75 0.76 0.75 0.75 0.73]\n",
      "valid c indices (aggregated):  (0.7001538971537697, 0.6717998075072185, 0.7291625712600747)\n",
      "Setting up stack... saving to GPU\n"
     ]
    },
    {
     "name": "stderr",
     "output_type": "stream",
     "text": [
      "clin. factors + LSC17; CPHDNN, INsize: 31: 100%|██████████| 5/5 [00:30<00:00,  6.04s/it]\n",
      "bootstraping 1000...: 100%|██████████| 1000/1000 [00:01<00:00, 995.14it/s]\n"
     ]
    },
    {
     "name": "stdout",
     "output_type": "stream",
     "text": [
      "training c indices:  [0.89 0.96 0.97 0.98 0.99]\n",
      "valid c indices (aggregated):  (0.8153663754486302, 0.793214901941724, 0.8347634224074528)\n"
     ]
    },
    {
     "name": "stderr",
     "output_type": "stream",
     "text": [
      "clin. factors + PCA; ridge_cph_lifelines, INsize: 32: 100%|██████████| 5/5 [00:03<00:00,  1.58it/s]\n",
      "bootstraping 1000...: 100%|██████████| 1000/1000 [00:01<00:00, 932.36it/s]\n"
     ]
    },
    {
     "name": "stdout",
     "output_type": "stream",
     "text": [
      "training c indices:  [0.76 0.74 0.74 0.76 0.76]\n",
      "valid c indices (aggregated):  (0.7008306216734908, 0.6700800376647834, 0.7283827741904161)\n",
      "Setting up stack... saving to GPU\n"
     ]
    },
    {
     "name": "stderr",
     "output_type": "stream",
     "text": [
      "clin. factors + PCA; CPHDNN, INsize: 32: 100%|██████████| 5/5 [00:32<00:00,  6.42s/it]\n",
      "bootstraping 1000...: 100%|██████████| 1000/1000 [00:01<00:00, 966.01it/s]\n"
     ]
    },
    {
     "name": "stdout",
     "output_type": "stream",
     "text": [
      "training c indices:  [0.71 0.76 0.79 0.78 0.82]\n",
      "valid c indices (aggregated):  (0.6920020857204916, 0.6625139944260499, 0.7198236399556691)\n"
     ]
    },
    {
     "name": "stderr",
     "output_type": "stream",
     "text": [
      "clin. factors + LSC17+PCA; ridge_cph_lifelines, INsize: 49: 100%|██████████| 5/5 [00:03<00:00,  1.27it/s]\n",
      "bootstraping 1000...: 100%|██████████| 1000/1000 [00:01<00:00, 931.15it/s]\n"
     ]
    },
    {
     "name": "stdout",
     "output_type": "stream",
     "text": [
      "training c indices:  [0.77 0.78 0.77 0.77 0.78]\n",
      "valid c indices (aggregated):  (0.6930856128053506, 0.6660107506239201, 0.7183891100299769)\n",
      "Setting up stack... saving to GPU\n"
     ]
    },
    {
     "name": "stderr",
     "output_type": "stream",
     "text": [
      "clin. factors + LSC17+PCA; CPHDNN, INsize: 49: 100%|██████████| 5/5 [00:32<00:00,  6.40s/it]\n",
      "bootstraping 1000...: 100%|██████████| 1000/1000 [00:01<00:00, 978.28it/s]\n"
     ]
    },
    {
     "name": "stdout",
     "output_type": "stream",
     "text": [
      "training c indices:  [0.78 0.78 0.79 0.82 0.83]\n",
      "valid c indices (aggregated):  (0.6776368426981205, 0.6481951459898977, 0.7058809597119917)\n"
     ]
    },
    {
     "name": "stderr",
     "output_type": "stream",
     "text": [
      "LSC17+PCA; ridge_cph_lifelines, INsize: 33: 100%|██████████| 5/5 [00:03<00:00,  1.60it/s]\n",
      "bootstraping 1000...: 100%|██████████| 1000/1000 [00:01<00:00, 923.60it/s]\n"
     ]
    },
    {
     "name": "stdout",
     "output_type": "stream",
     "text": [
      "training c indices:  [0.73 0.75 0.75 0.73 0.73]\n",
      "valid c indices (aggregated):  (0.6634524850527055, 0.6348339938771151, 0.6922534011535935)\n",
      "Setting up stack... saving to GPU\n"
     ]
    },
    {
     "name": "stderr",
     "output_type": "stream",
     "text": [
      "LSC17+PCA; CPHDNN, INsize: 33: 100%|██████████| 5/5 [00:32<00:00,  6.41s/it]\n",
      "bootstraping 1000...: 100%|██████████| 1000/1000 [00:01<00:00, 971.73it/s]\n"
     ]
    },
    {
     "name": "stdout",
     "output_type": "stream",
     "text": [
      "training c indices:  [0.67 0.75 0.78 0.79 0.77]\n",
      "valid c indices (aggregated):  (0.6695967556975747, 0.637999419560801, 0.7013173997552372)\n"
     ]
    },
    {
     "name": "stderr",
     "output_type": "stream",
     "text": [
      "PCA; ridge_cph_lifelines, INsize: 30: 100%|██████████| 5/5 [00:02<00:00,  2.07it/s]\n",
      "bootstraping 1000...: 100%|██████████| 1000/1000 [00:01<00:00, 940.74it/s]\n"
     ]
    },
    {
     "name": "stdout",
     "output_type": "stream",
     "text": [
      "training c indices:  [0.73 0.73 0.74 0.75 0.72]\n",
      "valid c indices (aggregated):  (0.6880884997769322, 0.6577147016011645, 0.7175509809606649)\n",
      "Setting up stack... saving to GPU\n"
     ]
    },
    {
     "name": "stderr",
     "output_type": "stream",
     "text": [
      "PCA; CPHDNN, INsize: 30: 100%|██████████| 5/5 [00:31<00:00,  6.30s/it]\n",
      "bootstraping 1000...: 100%|██████████| 1000/1000 [00:01<00:00, 976.62it/s]\n"
     ]
    },
    {
     "name": "stdout",
     "output_type": "stream",
     "text": [
      "training c indices:  [0.87 0.9  0.88 0.85 0.84]\n",
      "valid c indices (aggregated):  (0.48936920438959364, 0.45578409850147944, 0.5233106718602569)\n"
     ]
    },
    {
     "name": "stderr",
     "output_type": "stream",
     "text": [
      "LSC17; ridge_cph_lifelines, INsize: 17: 100%|██████████| 5/5 [00:00<00:00, 12.07it/s]\n",
      "bootstraping 1000...: 100%|██████████| 1000/1000 [00:01<00:00, 951.78it/s]\n"
     ]
    },
    {
     "name": "stdout",
     "output_type": "stream",
     "text": [
      "training c indices:  [0.68 0.72 0.68 0.71 0.7 ]\n",
      "valid c indices (aggregated):  (0.6673949335411229, 0.6360181468373672, 0.6981355645297802)\n",
      "Setting up stack... saving to GPU\n"
     ]
    },
    {
     "name": "stderr",
     "output_type": "stream",
     "text": [
      "LSC17; CPHDNN, INsize: 17: 100%|██████████| 5/5 [00:29<00:00,  5.89s/it]\n",
      "bootstraping 1000...: 100%|██████████| 1000/1000 [00:00<00:00, 1002.08it/s]\n"
     ]
    },
    {
     "name": "stdout",
     "output_type": "stream",
     "text": [
      "training c indices:  [0.68 0.68 0.7  0.7  0.71]\n",
      "valid c indices (aggregated):  (0.6571505024621256, 0.6247128750384807, 0.686539643515673)\n"
     ]
    },
    {
     "name": "stderr",
     "output_type": "stream",
     "text": [
      "clin. factors + None; ridge_cph_lifelines, INsize: 15: 100%|██████████| 5/5 [00:00<00:00, 11.62it/s]\n",
      "bootstraping 1000...: 100%|██████████| 1000/1000 [00:01<00:00, 966.69it/s]\n"
     ]
    },
    {
     "name": "stdout",
     "output_type": "stream",
     "text": [
      "training c indices:  [0.67 0.7  0.68 0.7  0.69]\n",
      "valid c indices (aggregated):  (0.6797348360519492, 0.6488788034062904, 0.7107886036561649)\n",
      "Setting up stack... saving to GPU\n"
     ]
    },
    {
     "name": "stderr",
     "output_type": "stream",
     "text": [
      "clin. factors + None; CPHDNN, INsize: 15: 100%|██████████| 5/5 [00:29<00:00,  5.93s/it]\n",
      "bootstraping 1000...: 100%|██████████| 1000/1000 [00:00<00:00, 1005.04it/s]\n"
     ]
    },
    {
     "name": "stdout",
     "output_type": "stream",
     "text": [
      "training c indices:  [0.7  0.72 0.75 0.75 0.77]\n",
      "valid c indices (aggregated):  (0.7058175951755304, 0.6781835428029405, 0.7337684394409938)\n"
     ]
    },
    {
     "name": "stderr",
     "output_type": "stream",
     "text": [
      "clin. factors + LSC17; ridge_cph_lifelines, INsize: 31: 100%|██████████| 5/5 [00:00<00:00,  8.13it/s]\n",
      "bootstraping 1000...: 100%|██████████| 1000/1000 [00:01<00:00, 963.50it/s]\n"
     ]
    },
    {
     "name": "stdout",
     "output_type": "stream",
     "text": [
      "training c indices:  [0.73 0.75 0.75 0.76 0.75]\n",
      "valid c indices (aggregated):  (0.6907187431790366, 0.6619140150595093, 0.7189181185528849)\n",
      "Setting up stack... saving to GPU\n"
     ]
    },
    {
     "name": "stderr",
     "output_type": "stream",
     "text": [
      "clin. factors + LSC17; CPHDNN, INsize: 31: 100%|██████████| 5/5 [00:29<00:00,  5.99s/it]\n",
      "bootstraping 1000...: 100%|██████████| 1000/1000 [00:00<00:00, 1005.27it/s]\n"
     ]
    },
    {
     "name": "stdout",
     "output_type": "stream",
     "text": [
      "training c indices:  [0.88 0.93 0.98 0.98 0.99]\n",
      "valid c indices (aggregated):  (0.8152170742836906, 0.7963973930400904, 0.836426116838488)\n"
     ]
    },
    {
     "name": "stderr",
     "output_type": "stream",
     "text": [
      "clin. factors + PCA; ridge_cph_lifelines, INsize: 32: 100%|██████████| 5/5 [00:03<00:00,  1.55it/s]\n",
      "bootstraping 1000...: 100%|██████████| 1000/1000 [00:01<00:00, 940.07it/s]\n"
     ]
    },
    {
     "name": "stdout",
     "output_type": "stream",
     "text": [
      "training c indices:  [0.76 0.75 0.74 0.76 0.75]\n",
      "valid c indices (aggregated):  (0.6987473895669527, 0.670722309147381, 0.7270233196159122)\n",
      "Setting up stack... saving to GPU\n"
     ]
    },
    {
     "name": "stderr",
     "output_type": "stream",
     "text": [
      "clin. factors + PCA; CPHDNN, INsize: 32: 100%|██████████| 5/5 [00:31<00:00,  6.34s/it]\n",
      "bootstraping 1000...: 100%|██████████| 1000/1000 [00:01<00:00, 963.74it/s]\n"
     ]
    },
    {
     "name": "stdout",
     "output_type": "stream",
     "text": [
      "training c indices:  [0.72 0.75 0.78 0.81 0.8 ]\n",
      "valid c indices (aggregated):  (0.6857831529465213, 0.6546727959758357, 0.7122463945245662)\n"
     ]
    },
    {
     "name": "stderr",
     "output_type": "stream",
     "text": [
      "clin. factors + LSC17+PCA; ridge_cph_lifelines, INsize: 49: 100%|██████████| 5/5 [00:03<00:00,  1.29it/s]\n",
      "bootstraping 1000...: 100%|██████████| 1000/1000 [00:01<00:00, 951.90it/s]\n"
     ]
    },
    {
     "name": "stdout",
     "output_type": "stream",
     "text": [
      "training c indices:  [0.77 0.79 0.77 0.77 0.78]\n",
      "valid c indices (aggregated):  (0.6842388529166887, 0.6537426468837076, 0.7126111755607115)\n",
      "Setting up stack... saving to GPU\n"
     ]
    },
    {
     "name": "stderr",
     "output_type": "stream",
     "text": [
      "clin. factors + LSC17+PCA; CPHDNN, INsize: 49: 100%|██████████| 5/5 [00:31<00:00,  6.33s/it]\n",
      "bootstraping 1000...: 100%|██████████| 1000/1000 [00:01<00:00, 978.88it/s]\n"
     ]
    },
    {
     "name": "stdout",
     "output_type": "stream",
     "text": [
      "training c indices:  [0.76 0.79 0.8  0.8  0.82]\n",
      "valid c indices (aggregated):  (0.6755221858525531, 0.6446400230846919, 0.7068821740410085)\n"
     ]
    },
    {
     "name": "stderr",
     "output_type": "stream",
     "text": [
      "LSC17+PCA; ridge_cph_lifelines, INsize: 33: 100%|██████████| 5/5 [00:03<00:00,  1.58it/s]\n",
      "bootstraping 1000...: 100%|██████████| 1000/1000 [00:01<00:00, 947.27it/s]\n"
     ]
    },
    {
     "name": "stdout",
     "output_type": "stream",
     "text": [
      "training c indices:  [0.74 0.74 0.75 0.73 0.73]\n",
      "valid c indices (aggregated):  (0.6684971965984572, 0.636433800313399, 0.697002536883328)\n",
      "Setting up stack... saving to GPU\n"
     ]
    },
    {
     "name": "stderr",
     "output_type": "stream",
     "text": [
      "LSC17+PCA; CPHDNN, INsize: 33: 100%|██████████| 5/5 [00:31<00:00,  6.32s/it]\n",
      "bootstraping 1000...: 100%|██████████| 1000/1000 [00:01<00:00, 973.60it/s]\n"
     ]
    },
    {
     "name": "stdout",
     "output_type": "stream",
     "text": [
      "training c indices:  [0.74 0.78 0.79 0.8  0.78]\n",
      "valid c indices (aggregated):  (0.6805640360956604, 0.6470338282854512, 0.7123590695019266)\n"
     ]
    },
    {
     "name": "stderr",
     "output_type": "stream",
     "text": [
      "PCA; ridge_cph_lifelines, INsize: 30: 100%|██████████| 5/5 [00:02<00:00,  2.12it/s]\n",
      "bootstraping 1000...: 100%|██████████| 1000/1000 [00:01<00:00, 942.06it/s]\n"
     ]
    },
    {
     "name": "stdout",
     "output_type": "stream",
     "text": [
      "training c indices:  [0.74 0.73 0.73 0.72 0.74]\n",
      "valid c indices (aggregated):  (0.6919732724888078, 0.6608894067385183, 0.7232686980609419)\n",
      "Setting up stack... saving to GPU\n"
     ]
    },
    {
     "name": "stderr",
     "output_type": "stream",
     "text": [
      "PCA; CPHDNN, INsize: 30: 100%|██████████| 5/5 [00:31<00:00,  6.23s/it]\n",
      "bootstraping 1000...: 100%|██████████| 1000/1000 [00:01<00:00, 989.72it/s]\n"
     ]
    },
    {
     "name": "stdout",
     "output_type": "stream",
     "text": [
      "training c indices:  [0.88 0.92 0.91 0.85 0.86]\n",
      "valid c indices (aggregated):  (0.5747742022192479, 0.5425496212484419, 0.6062437775565354)\n"
     ]
    },
    {
     "name": "stderr",
     "output_type": "stream",
     "text": [
      "LSC17; ridge_cph_lifelines, INsize: 17: 100%|██████████| 5/5 [00:00<00:00, 12.06it/s]\n",
      "bootstraping 1000...: 100%|██████████| 1000/1000 [00:01<00:00, 957.31it/s]\n"
     ]
    },
    {
     "name": "stdout",
     "output_type": "stream",
     "text": [
      "training c indices:  [0.7  0.7  0.7  0.72 0.69]\n",
      "valid c indices (aggregated):  (0.6488985869661915, 0.6146511571195162, 0.6774405850091407)\n",
      "Setting up stack... saving to GPU\n"
     ]
    },
    {
     "name": "stderr",
     "output_type": "stream",
     "text": [
      "LSC17; CPHDNN, INsize: 17: 100%|██████████| 5/5 [00:29<00:00,  5.81s/it]\n",
      "bootstraping 1000...: 100%|██████████| 1000/1000 [00:00<00:00, 1000.57it/s]"
     ]
    },
    {
     "name": "stdout",
     "output_type": "stream",
     "text": [
      "training c indices:  [0.65 0.69 0.7  0.71 0.73]\n",
      "valid c indices (aggregated):  (0.6352551939940491, 0.6034939121228163, 0.6704937948119387)\n"
     ]
    },
    {
     "name": "stderr",
     "output_type": "stream",
     "text": [
      "\n"
     ]
    }
   ],
   "source": [
    "\n",
    "for repn in range(1,4,1):        \n",
    "    for model_type in [\"ridge_cph_lifelines_CF\", \"cphdnn_2l\"]:\n",
    "        data = clin_factors.clone()\n",
    "        # preprocess data (remove low variance columns)\n",
    "        data.x = data.x[data.x.columns[np.where(data.x.var(0) > 0.01)]]\n",
    "        # splitting\n",
    "        data.split_train_test(HyperParams.nfolds)\n",
    "        # generate model parameters \n",
    "        params = HyperParams.generate_default(model_type = model_type, data = data)\n",
    "        # train and evaluate model\n",
    "        c_index_metrics, c_scores, surv_tbl, params= cox_models.evaluate(data, params, pca_params = None)\n",
    "        # append to results\n",
    "        results.append((repn, params[\"modeltype\"], data.name, c_index_metrics[0], c_index_metrics[1], c_index_metrics[2] ))\n",
    "\n",
    "    for model_type in [\"ridge_cph_lifelines_CF_LSC17\", \"cphdnn_5l\"]:\n",
    "        data = clin_factors_lsc17.clone()\n",
    "        # preprocess data (remove low variance columns)\n",
    "        data.x = data.x[data.x.columns[np.where(data.x.var(0) > 0.01)]]\n",
    "        \n",
    "        # splitting\n",
    "        data.split_train_test(HyperParams.nfolds)\n",
    "        # generate model parameters \n",
    "        params = HyperParams.generate_default(model_type = model_type, data = data)\n",
    "        # train and evaluate model\n",
    "        c_index_metrics, c_scores, surv_tbl, params= cox_models.evaluate(data, params, pca_params = None)\n",
    "        # append to results\n",
    "        results.append((repn, params[\"modeltype\"], data.name , c_index_metrics[0], c_index_metrics[1], c_index_metrics[2] ))\n",
    "\n",
    "    for model_type in [\"ridge_cph_lifelines_CF_PCA\", \"cphdnn_1l\"]:\n",
    "        data = clin_factors_pca.clone()\n",
    "        # preprocess data \n",
    "        data.x = data.x[data.x.columns[np.where(data.x.var(0) > 0.01)]]\n",
    "            # splitting\n",
    "        data.split_train_test(HyperParams.nfolds)\n",
    "        # generate model parameters \n",
    "        params = HyperParams.generate_default(model_type = model_type, data = data)\n",
    "        pca_params = {\"min_col\": 16, \"max_col\": data.x.shape[1], \"pca_n\": 17 }\n",
    "        # train and evaluate model\n",
    "        c_index_metrics, c_scores, surv_tbl, params= cox_models.evaluate(data, params, pca_params = pca_params)\n",
    "        # append to results\n",
    "        results.append((repn, params[\"modeltype\"], data.name , c_index_metrics[0], c_index_metrics[1], c_index_metrics[2] ))\n",
    "        \n",
    "    for model_type in [\"ridge_cph_lifelines_CF_PCA\", \"cphdnn_1l\"]:\n",
    "        data = clin_factors_lsc17_pca.clone()\n",
    "        # preprocess data \n",
    "        var = data.x.var(0)\n",
    "        data.x = data.x[data.x.columns[np.where( var > 0.01)]]\n",
    "        # splitting\n",
    "        data.split_train_test(HyperParams.nfolds)\n",
    "        # generate model parameters \n",
    "        params = HyperParams.generate_default(model_type = model_type, data = data)\n",
    "        pca_params = {\"min_col\": 33, \"max_col\": data.x.shape[1], \"pca_n\": 17 }\n",
    "        # train and evaluate model\n",
    "        c_index_metrics, c_scores, surv_tbl, params= cox_models.evaluate(data, params, pca_params = pca_params)\n",
    "        # append to results\n",
    "        results.append((repn, params[\"modeltype\"], data.name , c_index_metrics[0], c_index_metrics[1], c_index_metrics[2] ))\n",
    "    \n",
    "\n",
    "    for model_type in [\"ridge_cph_lifelines_CF_PCA\", \"cphdnn_1l\"]:\n",
    "        data = lsc17_pca.clone()\n",
    "        # preprocess data \n",
    "        var = data.x.var(0)\n",
    "        data.x = data.x[data.x.columns[np.where( var > 0.01)]]\n",
    "        # splitting\n",
    "        data.split_train_test(HyperParams.nfolds)\n",
    "        # generate model parameters \n",
    "        params = HyperParams.generate_default(model_type = model_type, data = data)\n",
    "        pca_params = {\"min_col\": 17, \"max_col\": data.x.shape[1], \"pca_n\": 17 }\n",
    "        # train and evaluate model\n",
    "        c_index_metrics, c_scores, surv_tbl, params= cox_models.evaluate(data, params, pca_params = pca_params)\n",
    "        # append to results\n",
    "        results.append((repn, params[\"modeltype\"], data.name , c_index_metrics[0], c_index_metrics[1], c_index_metrics[2] ))\n",
    "\n",
    "\n",
    "    for model_type in [\"ridge_cph_lifelines_CF_PCA\", \"cphdnn_2l\"]:\n",
    "        data = pca_only.clone()\n",
    "        # preprocess data \n",
    "        var = data.x.var(0)\n",
    "        data.x = data.x[data.x.columns[np.where( var > np.median(var))]]\n",
    "        # splitting\n",
    "        data.split_train_test(HyperParams.nfolds)\n",
    "        # generate model parameters \n",
    "        params = HyperParams.generate_default(model_type = model_type, data = data)\n",
    "        pca_params = {\"min_col\": 0, \"max_col\": data.x.shape[1], \"pca_n\": 30 }\n",
    "        # train and evaluate model\n",
    "        c_index_metrics, c_scores, surv_tbl, params= cox_models.evaluate(data, params, pca_params = pca_params)\n",
    "        # append to results\n",
    "        results.append((repn, params[\"modeltype\"], data.name , c_index_metrics[0], c_index_metrics[1], c_index_metrics[2] ))\n",
    "    \n",
    "    for model_type in [\"ridge_cph_lifelines_LSC17\", \"cphdnn_1l\"]:\n",
    "        data = lsc17_only.clone()\n",
    "        # preprocess data \n",
    "        var = data.x.var(0)\n",
    "        # splitting\n",
    "        data.split_train_test(HyperParams.nfolds)\n",
    "        # generate model parameters \n",
    "        params = HyperParams.generate_default(model_type = model_type, data = data)\n",
    "\n",
    "        # train and evaluate model\n",
    "        c_index_metrics, c_scores, surv_tbl, params= cox_models.evaluate(data, params, pca_params = None)\n",
    "        # append to results\n",
    "        results.append((repn, params[\"modeltype\"], data.name , c_index_metrics[0], c_index_metrics[1], c_index_metrics[2] ))\n",
    "    "
   ]
  },
  {
   "cell_type": "code",
   "execution_count": 47,
   "metadata": {},
   "outputs": [
    {
     "data": {
      "text/html": [
       "<div>\n",
       "<style scoped>\n",
       "    .dataframe tbody tr th:only-of-type {\n",
       "        vertical-align: middle;\n",
       "    }\n",
       "\n",
       "    .dataframe tbody tr th {\n",
       "        vertical-align: top;\n",
       "    }\n",
       "\n",
       "    .dataframe thead th {\n",
       "        text-align: right;\n",
       "    }\n",
       "</style>\n",
       "<table border=\"1\" class=\"dataframe\">\n",
       "  <thead>\n",
       "    <tr style=\"text-align: right;\">\n",
       "      <th></th>\n",
       "      <th>repn</th>\n",
       "      <th>model t.</th>\n",
       "      <th>input t.</th>\n",
       "      <th>c.ind med</th>\n",
       "      <th>c.ind 5%</th>\n",
       "      <th>c.ind 95%</th>\n",
       "    </tr>\n",
       "  </thead>\n",
       "  <tbody>\n",
       "    <tr>\n",
       "      <th>0</th>\n",
       "      <td>1</td>\n",
       "      <td>c_index</td>\n",
       "      <td>cytogenetics</td>\n",
       "      <td>0.630862</td>\n",
       "      <td>0.614227</td>\n",
       "      <td>0.646676</td>\n",
       "    </tr>\n",
       "    <tr>\n",
       "      <th>1</th>\n",
       "      <td>1</td>\n",
       "      <td>ridge_cph_lifelines</td>\n",
       "      <td>clin. factors + None</td>\n",
       "      <td>0.674803</td>\n",
       "      <td>0.643450</td>\n",
       "      <td>0.704258</td>\n",
       "    </tr>\n",
       "    <tr>\n",
       "      <th>2</th>\n",
       "      <td>1</td>\n",
       "      <td>CPHDNN</td>\n",
       "      <td>clin. factors + None</td>\n",
       "      <td>0.680323</td>\n",
       "      <td>0.650106</td>\n",
       "      <td>0.708893</td>\n",
       "    </tr>\n",
       "    <tr>\n",
       "      <th>3</th>\n",
       "      <td>1</td>\n",
       "      <td>ridge_cph_lifelines</td>\n",
       "      <td>clin. factors + LSC17</td>\n",
       "      <td>0.649237</td>\n",
       "      <td>0.619071</td>\n",
       "      <td>0.678337</td>\n",
       "    </tr>\n",
       "    <tr>\n",
       "      <th>4</th>\n",
       "      <td>1</td>\n",
       "      <td>CPHDNN</td>\n",
       "      <td>clin. factors + LSC17</td>\n",
       "      <td>0.792501</td>\n",
       "      <td>0.769966</td>\n",
       "      <td>0.813222</td>\n",
       "    </tr>\n",
       "    <tr>\n",
       "      <th>5</th>\n",
       "      <td>1</td>\n",
       "      <td>ridge_cph_lifelines</td>\n",
       "      <td>clin. factors + PCA</td>\n",
       "      <td>0.707423</td>\n",
       "      <td>0.677315</td>\n",
       "      <td>0.735326</td>\n",
       "    </tr>\n",
       "    <tr>\n",
       "      <th>6</th>\n",
       "      <td>1</td>\n",
       "      <td>CPHDNN</td>\n",
       "      <td>clin. factors + PCA</td>\n",
       "      <td>0.643735</td>\n",
       "      <td>0.608435</td>\n",
       "      <td>0.675487</td>\n",
       "    </tr>\n",
       "    <tr>\n",
       "      <th>7</th>\n",
       "      <td>1</td>\n",
       "      <td>ridge_cph_lifelines</td>\n",
       "      <td>clin. factors + LSC17+PCA</td>\n",
       "      <td>0.690411</td>\n",
       "      <td>0.662015</td>\n",
       "      <td>0.717433</td>\n",
       "    </tr>\n",
       "    <tr>\n",
       "      <th>8</th>\n",
       "      <td>1</td>\n",
       "      <td>CPHDNN</td>\n",
       "      <td>clin. factors + LSC17+PCA</td>\n",
       "      <td>0.694421</td>\n",
       "      <td>0.666352</td>\n",
       "      <td>0.722718</td>\n",
       "    </tr>\n",
       "    <tr>\n",
       "      <th>9</th>\n",
       "      <td>1</td>\n",
       "      <td>ridge_cph_lifelines</td>\n",
       "      <td>LSC17+PCA</td>\n",
       "      <td>0.669152</td>\n",
       "      <td>0.640340</td>\n",
       "      <td>0.698454</td>\n",
       "    </tr>\n",
       "    <tr>\n",
       "      <th>10</th>\n",
       "      <td>1</td>\n",
       "      <td>CPHDNN</td>\n",
       "      <td>LSC17+PCA</td>\n",
       "      <td>0.637726</td>\n",
       "      <td>0.606685</td>\n",
       "      <td>0.668228</td>\n",
       "    </tr>\n",
       "    <tr>\n",
       "      <th>11</th>\n",
       "      <td>1</td>\n",
       "      <td>ridge_cph_lifelines</td>\n",
       "      <td>PCA</td>\n",
       "      <td>0.684020</td>\n",
       "      <td>0.654771</td>\n",
       "      <td>0.715815</td>\n",
       "    </tr>\n",
       "    <tr>\n",
       "      <th>12</th>\n",
       "      <td>1</td>\n",
       "      <td>CPHDNN</td>\n",
       "      <td>PCA</td>\n",
       "      <td>0.491437</td>\n",
       "      <td>0.457039</td>\n",
       "      <td>0.522588</td>\n",
       "    </tr>\n",
       "    <tr>\n",
       "      <th>13</th>\n",
       "      <td>1</td>\n",
       "      <td>ridge_cph_lifelines</td>\n",
       "      <td>LSC17</td>\n",
       "      <td>0.665468</td>\n",
       "      <td>0.634674</td>\n",
       "      <td>0.697537</td>\n",
       "    </tr>\n",
       "    <tr>\n",
       "      <th>14</th>\n",
       "      <td>1</td>\n",
       "      <td>CPHDNN</td>\n",
       "      <td>LSC17</td>\n",
       "      <td>0.655489</td>\n",
       "      <td>0.623748</td>\n",
       "      <td>0.683508</td>\n",
       "    </tr>\n",
       "    <tr>\n",
       "      <th>15</th>\n",
       "      <td>2</td>\n",
       "      <td>ridge_cph_lifelines</td>\n",
       "      <td>clin. factors + None</td>\n",
       "      <td>0.678129</td>\n",
       "      <td>0.648078</td>\n",
       "      <td>0.708018</td>\n",
       "    </tr>\n",
       "    <tr>\n",
       "      <th>16</th>\n",
       "      <td>2</td>\n",
       "      <td>CPHDNN</td>\n",
       "      <td>clin. factors + None</td>\n",
       "      <td>0.703965</td>\n",
       "      <td>0.674326</td>\n",
       "      <td>0.732440</td>\n",
       "    </tr>\n",
       "    <tr>\n",
       "      <th>17</th>\n",
       "      <td>2</td>\n",
       "      <td>ridge_cph_lifelines</td>\n",
       "      <td>clin. factors + LSC17</td>\n",
       "      <td>0.700154</td>\n",
       "      <td>0.671800</td>\n",
       "      <td>0.729163</td>\n",
       "    </tr>\n",
       "    <tr>\n",
       "      <th>18</th>\n",
       "      <td>2</td>\n",
       "      <td>CPHDNN</td>\n",
       "      <td>clin. factors + LSC17</td>\n",
       "      <td>0.815366</td>\n",
       "      <td>0.793215</td>\n",
       "      <td>0.834763</td>\n",
       "    </tr>\n",
       "    <tr>\n",
       "      <th>19</th>\n",
       "      <td>2</td>\n",
       "      <td>ridge_cph_lifelines</td>\n",
       "      <td>clin. factors + PCA</td>\n",
       "      <td>0.700831</td>\n",
       "      <td>0.670080</td>\n",
       "      <td>0.728383</td>\n",
       "    </tr>\n",
       "    <tr>\n",
       "      <th>20</th>\n",
       "      <td>2</td>\n",
       "      <td>CPHDNN</td>\n",
       "      <td>clin. factors + PCA</td>\n",
       "      <td>0.692002</td>\n",
       "      <td>0.662514</td>\n",
       "      <td>0.719824</td>\n",
       "    </tr>\n",
       "    <tr>\n",
       "      <th>21</th>\n",
       "      <td>2</td>\n",
       "      <td>ridge_cph_lifelines</td>\n",
       "      <td>clin. factors + LSC17+PCA</td>\n",
       "      <td>0.693086</td>\n",
       "      <td>0.666011</td>\n",
       "      <td>0.718389</td>\n",
       "    </tr>\n",
       "    <tr>\n",
       "      <th>22</th>\n",
       "      <td>2</td>\n",
       "      <td>CPHDNN</td>\n",
       "      <td>clin. factors + LSC17+PCA</td>\n",
       "      <td>0.677637</td>\n",
       "      <td>0.648195</td>\n",
       "      <td>0.705881</td>\n",
       "    </tr>\n",
       "    <tr>\n",
       "      <th>23</th>\n",
       "      <td>2</td>\n",
       "      <td>ridge_cph_lifelines</td>\n",
       "      <td>LSC17+PCA</td>\n",
       "      <td>0.663452</td>\n",
       "      <td>0.634834</td>\n",
       "      <td>0.692253</td>\n",
       "    </tr>\n",
       "    <tr>\n",
       "      <th>24</th>\n",
       "      <td>2</td>\n",
       "      <td>CPHDNN</td>\n",
       "      <td>LSC17+PCA</td>\n",
       "      <td>0.669597</td>\n",
       "      <td>0.637999</td>\n",
       "      <td>0.701317</td>\n",
       "    </tr>\n",
       "    <tr>\n",
       "      <th>25</th>\n",
       "      <td>2</td>\n",
       "      <td>ridge_cph_lifelines</td>\n",
       "      <td>PCA</td>\n",
       "      <td>0.688088</td>\n",
       "      <td>0.657715</td>\n",
       "      <td>0.717551</td>\n",
       "    </tr>\n",
       "    <tr>\n",
       "      <th>26</th>\n",
       "      <td>2</td>\n",
       "      <td>CPHDNN</td>\n",
       "      <td>PCA</td>\n",
       "      <td>0.489369</td>\n",
       "      <td>0.455784</td>\n",
       "      <td>0.523311</td>\n",
       "    </tr>\n",
       "    <tr>\n",
       "      <th>27</th>\n",
       "      <td>2</td>\n",
       "      <td>ridge_cph_lifelines</td>\n",
       "      <td>LSC17</td>\n",
       "      <td>0.667395</td>\n",
       "      <td>0.636018</td>\n",
       "      <td>0.698136</td>\n",
       "    </tr>\n",
       "    <tr>\n",
       "      <th>28</th>\n",
       "      <td>2</td>\n",
       "      <td>CPHDNN</td>\n",
       "      <td>LSC17</td>\n",
       "      <td>0.657151</td>\n",
       "      <td>0.624713</td>\n",
       "      <td>0.686540</td>\n",
       "    </tr>\n",
       "    <tr>\n",
       "      <th>29</th>\n",
       "      <td>3</td>\n",
       "      <td>ridge_cph_lifelines</td>\n",
       "      <td>clin. factors + None</td>\n",
       "      <td>0.679735</td>\n",
       "      <td>0.648879</td>\n",
       "      <td>0.710789</td>\n",
       "    </tr>\n",
       "    <tr>\n",
       "      <th>30</th>\n",
       "      <td>3</td>\n",
       "      <td>CPHDNN</td>\n",
       "      <td>clin. factors + None</td>\n",
       "      <td>0.705818</td>\n",
       "      <td>0.678184</td>\n",
       "      <td>0.733768</td>\n",
       "    </tr>\n",
       "    <tr>\n",
       "      <th>31</th>\n",
       "      <td>3</td>\n",
       "      <td>ridge_cph_lifelines</td>\n",
       "      <td>clin. factors + LSC17</td>\n",
       "      <td>0.690719</td>\n",
       "      <td>0.661914</td>\n",
       "      <td>0.718918</td>\n",
       "    </tr>\n",
       "    <tr>\n",
       "      <th>32</th>\n",
       "      <td>3</td>\n",
       "      <td>CPHDNN</td>\n",
       "      <td>clin. factors + LSC17</td>\n",
       "      <td>0.815217</td>\n",
       "      <td>0.796397</td>\n",
       "      <td>0.836426</td>\n",
       "    </tr>\n",
       "    <tr>\n",
       "      <th>33</th>\n",
       "      <td>3</td>\n",
       "      <td>ridge_cph_lifelines</td>\n",
       "      <td>clin. factors + PCA</td>\n",
       "      <td>0.698747</td>\n",
       "      <td>0.670722</td>\n",
       "      <td>0.727023</td>\n",
       "    </tr>\n",
       "    <tr>\n",
       "      <th>34</th>\n",
       "      <td>3</td>\n",
       "      <td>CPHDNN</td>\n",
       "      <td>clin. factors + PCA</td>\n",
       "      <td>0.685783</td>\n",
       "      <td>0.654673</td>\n",
       "      <td>0.712246</td>\n",
       "    </tr>\n",
       "    <tr>\n",
       "      <th>35</th>\n",
       "      <td>3</td>\n",
       "      <td>ridge_cph_lifelines</td>\n",
       "      <td>clin. factors + LSC17+PCA</td>\n",
       "      <td>0.684239</td>\n",
       "      <td>0.653743</td>\n",
       "      <td>0.712611</td>\n",
       "    </tr>\n",
       "    <tr>\n",
       "      <th>36</th>\n",
       "      <td>3</td>\n",
       "      <td>CPHDNN</td>\n",
       "      <td>clin. factors + LSC17+PCA</td>\n",
       "      <td>0.675522</td>\n",
       "      <td>0.644640</td>\n",
       "      <td>0.706882</td>\n",
       "    </tr>\n",
       "    <tr>\n",
       "      <th>37</th>\n",
       "      <td>3</td>\n",
       "      <td>ridge_cph_lifelines</td>\n",
       "      <td>LSC17+PCA</td>\n",
       "      <td>0.668497</td>\n",
       "      <td>0.636434</td>\n",
       "      <td>0.697003</td>\n",
       "    </tr>\n",
       "    <tr>\n",
       "      <th>38</th>\n",
       "      <td>3</td>\n",
       "      <td>CPHDNN</td>\n",
       "      <td>LSC17+PCA</td>\n",
       "      <td>0.680564</td>\n",
       "      <td>0.647034</td>\n",
       "      <td>0.712359</td>\n",
       "    </tr>\n",
       "    <tr>\n",
       "      <th>39</th>\n",
       "      <td>3</td>\n",
       "      <td>ridge_cph_lifelines</td>\n",
       "      <td>PCA</td>\n",
       "      <td>0.691973</td>\n",
       "      <td>0.660889</td>\n",
       "      <td>0.723269</td>\n",
       "    </tr>\n",
       "    <tr>\n",
       "      <th>40</th>\n",
       "      <td>3</td>\n",
       "      <td>CPHDNN</td>\n",
       "      <td>PCA</td>\n",
       "      <td>0.574774</td>\n",
       "      <td>0.542550</td>\n",
       "      <td>0.606244</td>\n",
       "    </tr>\n",
       "    <tr>\n",
       "      <th>41</th>\n",
       "      <td>3</td>\n",
       "      <td>ridge_cph_lifelines</td>\n",
       "      <td>LSC17</td>\n",
       "      <td>0.648899</td>\n",
       "      <td>0.614651</td>\n",
       "      <td>0.677441</td>\n",
       "    </tr>\n",
       "    <tr>\n",
       "      <th>42</th>\n",
       "      <td>3</td>\n",
       "      <td>CPHDNN</td>\n",
       "      <td>LSC17</td>\n",
       "      <td>0.635255</td>\n",
       "      <td>0.603494</td>\n",
       "      <td>0.670494</td>\n",
       "    </tr>\n",
       "  </tbody>\n",
       "</table>\n",
       "</div>"
      ],
      "text/plain": [
       "    repn             model t.                   input t.  c.ind med  c.ind 5%  \\\n",
       "0      1              c_index               cytogenetics   0.630862  0.614227   \n",
       "1      1  ridge_cph_lifelines       clin. factors + None   0.674803  0.643450   \n",
       "2      1               CPHDNN       clin. factors + None   0.680323  0.650106   \n",
       "3      1  ridge_cph_lifelines      clin. factors + LSC17   0.649237  0.619071   \n",
       "4      1               CPHDNN      clin. factors + LSC17   0.792501  0.769966   \n",
       "5      1  ridge_cph_lifelines        clin. factors + PCA   0.707423  0.677315   \n",
       "6      1               CPHDNN        clin. factors + PCA   0.643735  0.608435   \n",
       "7      1  ridge_cph_lifelines  clin. factors + LSC17+PCA   0.690411  0.662015   \n",
       "8      1               CPHDNN  clin. factors + LSC17+PCA   0.694421  0.666352   \n",
       "9      1  ridge_cph_lifelines                  LSC17+PCA   0.669152  0.640340   \n",
       "10     1               CPHDNN                  LSC17+PCA   0.637726  0.606685   \n",
       "11     1  ridge_cph_lifelines                        PCA   0.684020  0.654771   \n",
       "12     1               CPHDNN                        PCA   0.491437  0.457039   \n",
       "13     1  ridge_cph_lifelines                      LSC17   0.665468  0.634674   \n",
       "14     1               CPHDNN                      LSC17   0.655489  0.623748   \n",
       "15     2  ridge_cph_lifelines       clin. factors + None   0.678129  0.648078   \n",
       "16     2               CPHDNN       clin. factors + None   0.703965  0.674326   \n",
       "17     2  ridge_cph_lifelines      clin. factors + LSC17   0.700154  0.671800   \n",
       "18     2               CPHDNN      clin. factors + LSC17   0.815366  0.793215   \n",
       "19     2  ridge_cph_lifelines        clin. factors + PCA   0.700831  0.670080   \n",
       "20     2               CPHDNN        clin. factors + PCA   0.692002  0.662514   \n",
       "21     2  ridge_cph_lifelines  clin. factors + LSC17+PCA   0.693086  0.666011   \n",
       "22     2               CPHDNN  clin. factors + LSC17+PCA   0.677637  0.648195   \n",
       "23     2  ridge_cph_lifelines                  LSC17+PCA   0.663452  0.634834   \n",
       "24     2               CPHDNN                  LSC17+PCA   0.669597  0.637999   \n",
       "25     2  ridge_cph_lifelines                        PCA   0.688088  0.657715   \n",
       "26     2               CPHDNN                        PCA   0.489369  0.455784   \n",
       "27     2  ridge_cph_lifelines                      LSC17   0.667395  0.636018   \n",
       "28     2               CPHDNN                      LSC17   0.657151  0.624713   \n",
       "29     3  ridge_cph_lifelines       clin. factors + None   0.679735  0.648879   \n",
       "30     3               CPHDNN       clin. factors + None   0.705818  0.678184   \n",
       "31     3  ridge_cph_lifelines      clin. factors + LSC17   0.690719  0.661914   \n",
       "32     3               CPHDNN      clin. factors + LSC17   0.815217  0.796397   \n",
       "33     3  ridge_cph_lifelines        clin. factors + PCA   0.698747  0.670722   \n",
       "34     3               CPHDNN        clin. factors + PCA   0.685783  0.654673   \n",
       "35     3  ridge_cph_lifelines  clin. factors + LSC17+PCA   0.684239  0.653743   \n",
       "36     3               CPHDNN  clin. factors + LSC17+PCA   0.675522  0.644640   \n",
       "37     3  ridge_cph_lifelines                  LSC17+PCA   0.668497  0.636434   \n",
       "38     3               CPHDNN                  LSC17+PCA   0.680564  0.647034   \n",
       "39     3  ridge_cph_lifelines                        PCA   0.691973  0.660889   \n",
       "40     3               CPHDNN                        PCA   0.574774  0.542550   \n",
       "41     3  ridge_cph_lifelines                      LSC17   0.648899  0.614651   \n",
       "42     3               CPHDNN                      LSC17   0.635255  0.603494   \n",
       "\n",
       "    c.ind 95%  \n",
       "0    0.646676  \n",
       "1    0.704258  \n",
       "2    0.708893  \n",
       "3    0.678337  \n",
       "4    0.813222  \n",
       "5    0.735326  \n",
       "6    0.675487  \n",
       "7    0.717433  \n",
       "8    0.722718  \n",
       "9    0.698454  \n",
       "10   0.668228  \n",
       "11   0.715815  \n",
       "12   0.522588  \n",
       "13   0.697537  \n",
       "14   0.683508  \n",
       "15   0.708018  \n",
       "16   0.732440  \n",
       "17   0.729163  \n",
       "18   0.834763  \n",
       "19   0.728383  \n",
       "20   0.719824  \n",
       "21   0.718389  \n",
       "22   0.705881  \n",
       "23   0.692253  \n",
       "24   0.701317  \n",
       "25   0.717551  \n",
       "26   0.523311  \n",
       "27   0.698136  \n",
       "28   0.686540  \n",
       "29   0.710789  \n",
       "30   0.733768  \n",
       "31   0.718918  \n",
       "32   0.836426  \n",
       "33   0.727023  \n",
       "34   0.712246  \n",
       "35   0.712611  \n",
       "36   0.706882  \n",
       "37   0.697003  \n",
       "38   0.712359  \n",
       "39   0.723269  \n",
       "40   0.606244  \n",
       "41   0.677441  \n",
       "42   0.670494  "
      ]
     },
     "execution_count": 47,
     "metadata": {},
     "output_type": "execute_result"
    }
   ],
   "source": [
    "\n",
    "colnames = (\"repn\", \"model t.\", \"input t.\", \"c.ind med\", \"c.ind 5%\", \"c.ind 95%\")\n",
    "resdf = pd.DataFrame(results, columns = colnames)\n",
    "\n",
    "resdf\n",
    "\n"
   ]
  },
  {
   "cell_type": "markdown",
   "metadata": {},
   "source": [
    "### Plotting... "
   ]
  },
  {
   "cell_type": "code",
   "execution_count": 48,
   "metadata": {},
   "outputs": [],
   "source": [
    "fig, axes = plt.subplots(ncols = 2, nrows = 1, figsize = (22,10))\n",
    "cph_ax = axes[0]\n",
    "cphdnn_ax = axes[1]\n",
    "title = \"CPHDNN, CPH, Cyto risk with leucegene from varying input factors\"\n",
    "spacer = 0.2\n",
    "cph_df = resdf[(resdf[\"model t.\"] == \"ridge_cph_lifelines\")]\n",
    "for (xmark, input_type) in enumerate(np.unique(cph_df[\"input t.\"])):\n",
    "    data = cph_df[(cph_df[\"input t.\"] == input_type)]\n",
    "    xaxis = np.array(xmark + (spacer * data[\"repn\"].values.astype(int)))\n",
    "    cph_ax.vlines(x = xaxis, ymin = data[\"c.ind 5%\"], ymax = data[\"c.ind 95%\"], linewidth = 4, label = input_type, color = \"k\")\n",
    "    cph_ax.scatter(x = xaxis, y = data[\"c.ind med\"], linewidth = 5, label = input_type)\n",
    "    for (i, value) in zip(xaxis, data[\"c.ind med\"]):\n",
    "        cph_ax.text(i, value, str(round(value, 3)), fontsize = 20)\n",
    "    #ax.set_xticks(np.arange(ncols))\n",
    "    #ax.set_xticklabels(resdf.columns, fontsize = 14)\n",
    "    cph_ax.set_title(title)\n",
    "    cph_ax.set_xlabel(\"CPH (lifelines)\")\n",
    "    cph_ax.set_ylabel(\"concordance index\")\n",
    "    cph_ax.grid(visible = True, linestyle = \"--\")\n",
    "cph_ax.set_ylim((0.5,0.9))\n",
    "cph_ax.set_xticks(np.arange(len(np.unique(cph_df[\"input t.\"]))) + spacer * 2)\n",
    "cph_ax.set_xticklabels(np.unique(cph_df[\"input t.\"]), fontsize = 14)\n",
    "cph_ax.legend()\n",
    "\n",
    "cphdnn_df = resdf[(resdf[\"model t.\"] == \"CPHDNN\")]\n",
    "for (xmark, input_type) in enumerate(np.unique(cphdnn_df[\"input t.\"])):\n",
    "    data = cphdnn_df[(cphdnn_df[\"input t.\"] == input_type)]\n",
    "    xaxis = np.array(xmark + (0.2 * data[\"repn\"].values.astype(int)))\n",
    "    cphdnn_ax.vlines(x = xaxis, ymin = data[\"c.ind 5%\"], ymax = data[\"c.ind 95%\"], linewidth = 4, label = input_type, color = \"k\")\n",
    "    cphdnn_ax.scatter(x = xaxis, y = data[\"c.ind med\"], linewidth = 5, label = input_type)\n",
    "    for (i, value) in zip(xaxis, data[\"c.ind med\"]):\n",
    "        cphdnn_ax.text(i, value, str(round(value, 3)), fontsize = 20)\n",
    "    #ax.set_xticks(np.arange(ncols))\n",
    "    #ax.set_xticklabels(resdf.columns, fontsize = 14)\n",
    "    cphdnn_ax.set_title(title)\n",
    "    cphdnn_ax.set_xlabel(\"CPHDNN\")\n",
    "    cphdnn_ax.set_ylabel(\"concordance index\")\n",
    "    cphdnn_ax.grid(visible = True, linestyle = \"--\")\n",
    "cphdnn_ax.set_xticks(np.arange(len(np.unique(cphdnn_df[\"input t.\"]))) + 0.2 * 2)\n",
    "cphdnn_ax.set_xticklabels(np.unique(cphdnn_df[\"input t.\"]), fontsize = 14)\n",
    "cphdnn_ax.legend()\n",
    "cphdnn_ax.set_ylim((0.5,0.9))\n",
    "plt.tight_layout()\n",
    "\n",
    "plt.savefig(f\"RES/V2/fig_{str(hash1 * 9)}.png\")\n"
   ]
  },
  {
   "cell_type": "code",
   "execution_count": null,
   "metadata": {},
   "outputs": [],
   "source": [
    "\n",
    "\n"
   ]
  },
  {
   "cell_type": "markdown",
   "metadata": {},
   "source": [
    "#### **Figure** : using clinical factors with cph / cphdnn with leucegene and comparing to cytogentic risk only benchmark "
   ]
  },
  {
   "cell_type": "code",
   "execution_count": null,
   "metadata": {},
   "outputs": [],
   "source": []
  }
 ],
 "metadata": {
  "interpreter": {
   "hash": "d155f049ee19f4bc9724a713b0437335dd953d8a87038f68f9840be1b6d0dc8c"
  },
  "kernelspec": {
   "display_name": "Python 3.6.8 ('env': venv)",
   "language": "python",
   "name": "python3"
  },
  "language_info": {
   "codemirror_mode": {
    "name": "ipython",
    "version": 3
   },
   "file_extension": ".py",
   "mimetype": "text/x-python",
   "name": "python",
   "nbconvert_exporter": "python",
   "pygments_lexer": "ipython3",
   "version": "3.6.8"
  },
  "orig_nbformat": 4
 },
 "nbformat": 4,
 "nbformat_minor": 2
}
