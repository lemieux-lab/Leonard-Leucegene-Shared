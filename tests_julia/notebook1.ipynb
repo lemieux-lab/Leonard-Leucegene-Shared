{
 "cells": [
  {
   "cell_type": "code",
   "execution_count": null,
   "metadata": {},
   "outputs": [],
   "source": [
    "using Pkg\n",
    "using CSV \n",
    "using DataFrames\n",
    "using Dates\n",
    "using CUDA\n",
    "include(\"embeddings.jl\")\n"
   ]
  },
  {
   "cell_type": "markdown",
   "metadata": {},
   "source": [
    "## Loading Leucegene dataset\n",
    "### loading complete transcriptomic profile of pronostic subset \n"
   ]
  },
  {
   "cell_type": "code",
   "execution_count": null,
   "metadata": {},
   "outputs": [],
   "source": [
    "filename = \"/u/sauves/leucegene-shared/Data/lgn_pronostic_GE_TRSC_TPM.csv\"\n",
    "#GE_TRSC_TPM = DataFrame(CSV.File(filename))\n",
    "@time GE_TRSC_TPM = CSV.read(filename, DataFrame)\n",
    "print()\n"
   ]
  },
  {
   "cell_type": "markdown",
   "metadata": {},
   "source": [
    "### loading LSC17 expressions only\n"
   ]
  },
  {
   "cell_type": "code",
   "execution_count": null,
   "metadata": {},
   "outputs": [],
   "source": [
    "filename = \"/u/sauves/leucegene-shared/Data/SIGNATURES/LSC17_lgn_pronostic_expressions.csv\"\n",
    "LSC17_TPM  = CSV.read(filename, DataFrame)\n",
    "print()\n"
   ]
  },
  {
   "cell_type": "code",
   "execution_count": null,
   "metadata": {},
   "outputs": [],
   "source": [
    "### Loading Clinical Features file\n"
   ]
  },
  {
   "cell_type": "code",
   "execution_count": null,
   "metadata": {},
   "outputs": [],
   "source": [
    "filename = \"/u/sauves/leucegene-shared/Data/LEUCEGENE/lgn_pronostic_CF\"\n",
    "CF = CSV.read(filename, DataFrame)\n",
    "print()\n"
   ]
  },
  {
   "cell_type": "code",
   "execution_count": null,
   "metadata": {},
   "outputs": [],
   "source": [
    "mutable struct Data\n",
    "    name::String \n",
    "    data::Matrix\n",
    "    d1_index::Array{String,1}\n",
    "    d2_index::Array{String,1}\n",
    "    d3_index::Array{Int32,1}\n",
    "end\n"
   ]
  },
  {
   "cell_type": "code",
   "execution_count": null,
   "metadata": {},
   "outputs": [],
   "source": [
    "cyt_grp = CF[:,\"Cytogenetic group\"]\n",
    "grp_unq = unique(cyt_grp)\n",
    "dct_grp = Dict([(val, i) for (i, val) in enumerate(grp_unq)])\n",
    "groups = [get(dct_grp, grp, -1) for grp in cyt_grp]\n",
    "print(\"done\")\n"
   ]
  },
  {
   "cell_type": "code",
   "execution_count": null,
   "metadata": {},
   "outputs": [],
   "source": [
    "\n",
    "data_matrix = Data(\"LSC17\", \n",
    "Matrix(LSC17_TPM[:,2:end]), \n",
    "LSC17_TPM[:,1], \n",
    "names(LSC17_TPM[:,2:end]), \n",
    "groups)\n",
    "data_matrix.d3_index[2]\n"
   ]
  },
  {
   "cell_type": "code",
   "execution_count": null,
   "metadata": {},
   "outputs": [],
   "source": [
    "function prep_data(data::Data; device = gpu)\n",
    "    ## data preprocessing\n",
    "    ### remove index columns, log transform\n",
    "    n = length(data.d1_index)\n",
    "    m = length(data.d2_index)\n",
    "    values = Array{Float32,2}(undef, (1, n * m))\n",
    "    print(size(values))\n",
    "    d1_index = Array{Int32,1}(undef, n * m)\n",
    "    d2_index = Array{Int32,1}(undef, n * m)\n",
    "    d3_index = Array{Int32,1}(undef, n * m)\n",
    "    for i in 1:n\n",
    "        for j in 1:m\n",
    "            index = (i - 1) * m + j \n",
    "            values[1, index] = data.data[i, j]\n",
    "            d1_index[index] = i # Int\n",
    "            d2_index[index] = j # Int \n",
    "            d3_index[index] = data.d3_index[i] # Int \n",
    "        end\n",
    "    end\n",
    "    return (device(d1_index), device(d2_index), device(d3_index)), device(values)\n",
    "end \n"
   ]
  },
  {
   "cell_type": "markdown",
   "metadata": {},
   "source": [
    "## Experiments \n",
    "### 1 - Training Factorized Embeddings on Leucegene data using patient (factor 1), LSC17 gene expression (factor 2), and cytogenetic group (factor 3) embedding layers. \n"
   ]
  },
  {
   "cell_type": "code",
   "execution_count": null,
   "metadata": {},
   "outputs": [],
   "source": [
    "X, Y = prep_data(data_matrix)\n",
    "\n",
    "data = Flux.Data.DataLoader((X, Y), batchsize = 4096)\n",
    "train_plot(data, X,Y, (2,2,2), \"embeddings_$(now())\", data_matrix, 2000)\n",
    "## training \n",
    "\n",
    "## plotting results \n",
    "### scatterplot - predicted expr. vs true \n",
    "### training curve - MSE vs epoch\n",
    "### scatterplot - trained embedding (UMAP) - colors by cyto-group  \n",
    "data_matrix.d1_index\n"
   ]
  },
  {
   "cell_type": "markdown",
   "metadata": {},
   "source": [
    "### 2 - Training Factorized Embeddings on Leucegene data using all Clinical Factors and Transcriptome Profile. Report accuracy on test set.\n",
    "Embedding layers: patient (factor 1), gene* (factor 2), cyto. group (factor 3), NPM1 mutation (factor 4), FLT3-ITD mutation (factor 5), IDH1 mutation (factor6), sex (factor 7), age_gt_60 (factor 8). Predict gene expression. *Patient gene expressions is a vector containing 50% most varying genes across dataset. \n"
   ]
  },
  {
   "cell_type": "code",
   "execution_count": null,
   "metadata": {},
   "outputs": [],
   "source": [
    "# set params\n",
    "## FE \n",
    "# fix archictecture (hidden layers and size)\n",
    "# fix regularization (L2/weight decay)\n",
    "# fix optim parameters (mini_bsize, nb_epochs, lr) \n",
    "nepochs = 2000\n",
    "# vary emb size\n",
    "# set factors\n",
    "factors = Array(\"patient\", \"gene\", \"Cytogenetic group\", \"NPM1 mutation\", \n",
    "\"FLT3-ITD mutation\", \"IDH1 mutation\", \"Sex\", \"age_gt_60\")\n",
    "# create data structure \n",
    "dataset = create_dataset(gene_exp_fpath, clin_f_fpath)\n",
    "# split train test\n",
    "splits = split_train_test(dataset, 5)\n",
    "# cycle through folds \n",
    "for fold_data in splits\n",
    "    # prep data \n",
    "    X_train, Y_train = prep_data(fold_data[\"train\"], factors)\n",
    "    # train\n",
    "    train_data_loader = Flux.Data.DataLoader((X_train, Y_train), batchsize = 4096)\n",
    "    model = train_plot(train_data_loader, X_train, Y_train, emb_sizes, \"embeddings_$(now())\", fold_data[\"train\"], nepochs)\n",
    "    # save embeddings, cphdnn_train_data\n",
    "    # test (interpolate, report R2)\n",
    "    X_test, Y_test = prep_data(fold_data[\"test\"], factors)\n",
    "    test_data_loader =  Flux.Data.DataLoader((X_test, Y_test), batchsize = 4096)\n",
    "    # save embeddings, cphdnn_test_data\n",
    "    evaluate(test_data_loader, X_test, Y_test, model)\n",
    "    "
   ]
  },
  {
   "cell_type": "code",
   "execution_count": null,
   "metadata": {},
   "outputs": [],
   "source": [
    "\n"
   ]
  }
 ],
 "metadata": {
  "kernelspec": {
   "display_name": "Julia 1.6.3",
   "language": "julia",
   "name": "julia-1.6"
  },
  "language_info": {
   "file_extension": ".jl",
   "mimetype": "application/julia",
   "name": "julia",
   "version": "1.6.3"
  },
  "orig_nbformat": 4
 },
 "nbformat": 4,
 "nbformat_minor": 2
}
