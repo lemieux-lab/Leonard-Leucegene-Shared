{
 "cells": [
  {
   "cell_type": "code",
   "execution_count": 37,
   "metadata": {},
   "outputs": [],
   "source": [
    "using Pkg\n",
    "using CSV \n",
    "using DataFrames\n",
    "using Dates\n",
    "using CUDA\n",
    "using Flux"
   ]
  },
  {
   "cell_type": "code",
   "execution_count": 4,
   "metadata": {},
   "outputs": [],
   "source": [
    "using Statistics\n",
    "using Random"
   ]
  },
  {
   "cell_type": "code",
   "execution_count": 5,
   "metadata": {},
   "outputs": [
    {
     "name": "stdout",
     "output_type": "stream",
     "text": [
      " 10.134341 seconds (24.32 M allocations: 1.168 GiB, 4.40% gc time)\n"
     ]
    }
   ],
   "source": [
    "filename = \"/u/sauves/leucegene-shared/Data/LEUCEGENE/lgn_pronostic_GE_CDS_TPM.csv\"\n",
    "#GE_TRSC_TPM = DataFrame(CSV.File(filename))\n",
    "@time GE_CDS_TPM = CSV.read(filename, DataFrame)\n",
    "print()"
   ]
  },
  {
   "cell_type": "code",
   "execution_count": 1,
   "metadata": {},
   "outputs": [],
   "source": [
    "mutable struct Data\n",
    "    name::String\n",
    "    data::Array\n",
    "    factor_1::Array\n",
    "    factor_2::Array\n",
    "end "
   ]
  },
  {
   "cell_type": "code",
   "execution_count": 2,
   "metadata": {},
   "outputs": [],
   "source": [
    "mutable struct FoldData \n",
    "    name::String \n",
    "    train::Data\n",
    "    test::Data\n",
    "end "
   ]
  },
  {
   "cell_type": "code",
   "execution_count": 42,
   "metadata": {},
   "outputs": [
    {
     "data": {
      "text/plain": [
       "240×9798 Matrix{Float64}:\n",
       " 0.60585    1.02385   0.232412   1.16368    …  0.00803749  3.84372  3.78002\n",
       " 0.0881841  0.499486  0.188744   0.463801      1.61029     4.01487  3.991\n",
       " 0.736662   0.594659  0.0591334  0.12302       1.66703     3.81244  3.70276\n",
       " 1.17896    1.425     1.01698    1.6321        0.0         4.10253  3.62215\n",
       " 0.129352   0.704893  0.144021   0.662844      1.47628     3.8845   3.60522\n",
       " 0.117166   0.49951   0.0635713  0.469279   …  0.00727938  4.02401  4.04411\n",
       " 0.0        0.930786  0.269041   0.158783      1.6067      3.52121  3.53603\n",
       " 0.232632   0.644945  0.0490343  0.0621038     0.602884    3.91825  3.77371\n",
       " 0.371633   0.798888  0.113777   0.071067      0.0         3.77846  3.6158\n",
       " 0.365782   1.11457   0.108813   0.127687      0.0173291   3.78302  3.40982\n",
       " ⋮                                          ⋱  ⋮                    \n",
       " 0.0386816  1.09603   0.427607   0.385448      0.0         3.77966  3.88506\n",
       " 0.414905   0.87601   0.157483   0.670209      0.00490658  3.88181  3.18472\n",
       " 0.310983   0.795254  0.181324   0.642186      1.67046     3.77486  3.71893\n",
       " 0.485421   0.598115  0.0418854  0.0545907     1.92566     3.82015  3.3736\n",
       " 0.0716345  0.545961  0.0551856  0.0972387  …  0.00998013  3.70823  3.72452\n",
       " 0.0517574  0.327422  0.132588   0.297537      0.0         4.21074  3.99352\n",
       " 0.293887   1.1168    0.066124   0.689481      0.00675478  3.74648  3.23437\n",
       " 0.261953   0.933039  0.417587   0.656175      0.0         3.87518  3.71436\n",
       " 0.414531   0.620589  0.0989642  0.536782      1.55854     3.646    3.9142"
      ]
     },
     "metadata": {},
     "output_type": "display_data"
    }
   ],
   "source": [
    "index = GE_CDS_TPM[:,1]\n",
    "data = GE_CDS_TPM[:,2:end] \n",
    "cols = names(data)\n",
    "# log transforming\n",
    "data = log10.(Array(data) .+ 1)\n",
    "# remove least varying genes\n",
    "ge_var = var(data,dims = 1) \n",
    "ge_var_med = median(ge_var)\n",
    "# high variance only \n",
    "hvg = getindex.(findall(ge_var .> ge_var_med),2)\n",
    "data = data[:,hvg]\n",
    "cols = cols[hvg]\n",
    "# verify that the operation worked\n",
    "sum(var(data, dims = 1) .< ge_var_med)\n",
    "# split into train test\n",
    "nsamples = length(index)\n",
    "indices = shuffle(Array{Int}(1:nsamples))\n",
    "nfolds = 5\n",
    "foldsize = Int(nsamples / 5)\n",
    "\n",
    "folds = Array{FoldData}(undef,5)\n",
    "for i in 1:nfolds\n",
    "    tst_idx = indices[(i - 1) * foldsize + 1: i * foldsize]\n",
    "    tr_idx = setdiff(indices, tst_idx)\n",
    "    test = Data(\"test\", data[tst_idx,:], index[tst_idx], cols)\n",
    "    train = Data(\"train\", data[tr_idx,:], index[tr_idx], cols)\n",
    "    fold_data = FoldData(\"fold_$i\", train, test)\n",
    "    folds[i] = fold_data\n",
    "end\n",
    "folds[1].train.factor_1\n",
    "folds[1].train.data\n",
    "\n",
    "\n",
    "\n"
   ]
  },
  {
   "cell_type": "code",
   "execution_count": 43,
   "metadata": {},
   "outputs": [
    {
     "data": {
      "text/plain": [
       "prep_data (generic function with 1 method)"
      ]
     },
     "metadata": {},
     "output_type": "display_data"
    }
   ],
   "source": [
    "function prep_data(data::Data; device = gpu)\n",
    "    ## data preprocessing\n",
    "    ### remove index columns, log transform\n",
    "    n = length(data.factor_1)\n",
    "    m = length(data.factor_2)\n",
    "    values = Array{Float32,2}(undef, (1, n * m))\n",
    "    print(size(values))\n",
    "    factor_1_index = Array{Int32,1}(undef, n * m)\n",
    "    factor_2_index = Array{Int32,1}(undef, n * m)\n",
    "    # d3_index = Array{Int32,1}(undef, n * m)\n",
    "    for i in 1:n\n",
    "        for j in 1:m\n",
    "            index = (i - 1) * m + j \n",
    "            values[1, index] = data.data[i, j]\n",
    "            factor_1_index[index] = i # Int\n",
    "            factor_2_index[index] = j # Int \n",
    "            # d3_index[index] = data.d3_index[i] # Int \n",
    "        end\n",
    "    end\n",
    "    return (device(factor_1_index), device(factor_2_index)), device(values)\n",
    "end "
   ]
  },
  {
   "cell_type": "code",
   "execution_count": 49,
   "metadata": {},
   "outputs": [
    {
     "name": "stdout",
     "output_type": "stream",
     "text": [
      "(1, 2351520)"
     ]
    },
    {
     "data": {
      "text/plain": [
       "((Int32[1, 1, 1, 1, 1, 1, 1, 1, 1, 1  …  240, 240, 240, 240, 240, 240, 240, 240, 240, 240], Int32[1, 2, 3, 4, 5, 6, 7, 8, 9, 10  …  9789, 9790, 9791, 9792, 9793, 9794, 9795, 9796, 9797, 9798]), Float32[0.30796877 1.0043808 … 3.742893 3.4990356])"
      ]
     },
     "metadata": {},
     "output_type": "display_data"
    }
   ],
   "source": [
    "X_, Y_ = prep_data(folds[5].train)"
   ]
  },
  {
   "cell_type": "code",
   "execution_count": 51,
   "metadata": {},
   "outputs": [
    {
     "name": "stdout",
     "output_type": "stream",
     "text": [
      "(1, 2351520)"
     ]
    },
    {
     "name": "stdout",
     "output_type": "stream",
     "text": [
      "(1, 2351520)"
     ]
    },
    {
     "name": "stdout",
     "output_type": "stream",
     "text": [
      "(1, 2351520)"
     ]
    },
    {
     "name": "stdout",
     "output_type": "stream",
     "text": [
      "(1, 2351520)"
     ]
    },
    {
     "name": "stdout",
     "output_type": "stream",
     "text": [
      "(1, 2351520)"
     ]
    }
   ],
   "source": [
    "for fold_data in folds\n",
    "    X_, Y_ = prep_data(fold_data.train)\n",
    "    # train embedding, retrieve model\n",
    "end"
   ]
  },
  {
   "cell_type": "code",
   "execution_count": null,
   "metadata": {},
   "outputs": [],
   "source": []
  }
 ],
 "metadata": {
  "kernelspec": {
   "display_name": "Julia 1.6.3",
   "language": "julia",
   "name": "julia-1.6"
  },
  "language_info": {
   "file_extension": ".jl",
   "mimetype": "application/julia",
   "name": "julia",
   "version": "1.6.3"
  },
  "orig_nbformat": 4
 },
 "nbformat": 4,
 "nbformat_minor": 2
}
