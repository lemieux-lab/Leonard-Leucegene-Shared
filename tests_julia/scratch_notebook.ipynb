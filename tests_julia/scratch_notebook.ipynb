{
 "cells": [
  {
   "cell_type": "code",
   "execution_count": 1,
   "metadata": {},
   "outputs": [],
   "source": [
    "using Pkg\n",
    "using CSV \n",
    "using DataFrames\n",
    "using Dates"
   ]
  },
  {
   "cell_type": "code",
   "execution_count": 55,
   "metadata": {},
   "outputs": [],
   "source": [
    "using Statistics\n",
    "using Random"
   ]
  },
  {
   "cell_type": "code",
   "execution_count": 7,
   "metadata": {},
   "outputs": [
    {
     "name": "stdout",
     "output_type": "stream",
     "text": [
      "  1.188807 seconds (6.70 M allocations: 182.712 MiB, 11.70% gc time)\n"
     ]
    }
   ],
   "source": [
    "filename = \"/u/sauves/leucegene-shared/Data/LEUCEGENE/lgn_pronostic_GE_CDS_TPM.csv\"\n",
    "#GE_TRSC_TPM = DataFrame(CSV.File(filename))\n",
    "@time GE_CDS_TPM = CSV.read(filename, DataFrame)\n",
    "print()"
   ]
  },
  {
   "cell_type": "code",
   "execution_count": 65,
   "metadata": {},
   "outputs": [
    {
     "data": {
      "text/plain": [
       "1-element Vector{UnitRange{Int64}}:\n",
       " 1:300"
      ]
     },
     "metadata": {},
     "output_type": "display_data"
    }
   ],
   "source": [
    "index = GE_CDS_TPM[:,1]\n",
    "data = GE_CDS_TPM[:,2:end] \n",
    "cols = names(data)\n",
    "# log transforming\n",
    "data = log10.(Array(data) .+ 1)\n",
    "# remove least varying genes\n",
    "ge_var = var(data,dims = 1) \n",
    "ge_var_med = median(ge_var)\n",
    "# high variance only \n",
    "hvg = getindex.(findall(ge_var .> ge_var_med),2)\n",
    "data = data[:,hvg]\n",
    "cols = cols[hvg]\n",
    "# verify that the operation worked\n",
    "sum(var(data, dims = 1) .< ge_var_med)\n",
    "# split into train test\n",
    "indices = Array([1:length(index)])\n",
    "new_ind = shuffle(indices)\n",
    "new_ind\n",
    "\n",
    "\n",
    "\n"
   ]
  },
  {
   "cell_type": "code",
   "execution_count": null,
   "metadata": {},
   "outputs": [],
   "source": []
  }
 ],
 "metadata": {
  "kernelspec": {
   "display_name": "Julia 1.6.3",
   "language": "julia",
   "name": "julia-1.6"
  },
  "language_info": {
   "file_extension": ".jl",
   "mimetype": "application/julia",
   "name": "julia",
   "version": "1.6.3"
  },
  "orig_nbformat": 4
 },
 "nbformat": 4,
 "nbformat_minor": 2
}
