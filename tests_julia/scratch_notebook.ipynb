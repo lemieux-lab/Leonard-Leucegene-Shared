{
 "cells": [
  {
   "cell_type": "code",
   "execution_count": 3,
   "metadata": {},
   "outputs": [],
   "source": [
    "using Pkg\n",
    "using CSV \n",
    "using DataFrames\n",
    "using Dates"
   ]
  },
  {
   "cell_type": "code",
   "execution_count": 4,
   "metadata": {},
   "outputs": [],
   "source": [
    "using Statistics\n",
    "using Random"
   ]
  },
  {
   "cell_type": "code",
   "execution_count": 5,
   "metadata": {},
   "outputs": [
    {
     "name": "stdout",
     "output_type": "stream",
     "text": [
      " 10.134341 seconds (24.32 M allocations: 1.168 GiB, 4.40% gc time)\n"
     ]
    }
   ],
   "source": [
    "filename = \"/u/sauves/leucegene-shared/Data/LEUCEGENE/lgn_pronostic_GE_CDS_TPM.csv\"\n",
    "#GE_TRSC_TPM = DataFrame(CSV.File(filename))\n",
    "@time GE_CDS_TPM = CSV.read(filename, DataFrame)\n",
    "print()"
   ]
  },
  {
   "cell_type": "code",
   "execution_count": 1,
   "metadata": {},
   "outputs": [],
   "source": [
    "mutable struct Data\n",
    "    name::String\n",
    "    data::Array\n",
    "    factor_1::Array\n",
    "    factor_2::Array\n",
    "end "
   ]
  },
  {
   "cell_type": "code",
   "execution_count": 2,
   "metadata": {},
   "outputs": [],
   "source": [
    "mutable struct FoldData \n",
    "    name::String \n",
    "    train::Data\n",
    "    test::Data\n",
    "end "
   ]
  },
  {
   "cell_type": "code",
   "execution_count": 33,
   "metadata": {},
   "outputs": [
    {
     "data": {
      "text/plain": [
       "60×9798 Matrix{Float64}:\n",
       " 0.251476    0.816532  0.0792985  0.0959853  …  1.67931     3.86236  3.5624\n",
       " 0.203714    0.812801  0.10696    0.441416      0.00935652  4.0532   3.86567\n",
       " 0.362471    0.741427  0.0983849  0.048334      1.75403     3.74081  3.49489\n",
       " 0.194721    1.119     0.0764072  0.417699      0.0117825   3.72051  3.75596\n",
       " 0.509079    0.675201  0.114725   0.32963       0.01916     3.79279  3.46841\n",
       " 0.646923    0.599898  0.0170589  0.137031   …  0.0         3.77769  3.80402\n",
       " 0.481917    0.827749  0.207171   0.146581      1.93889     3.94721  3.76362\n",
       " 0.250592    0.575862  0.296395   0.230795      1.4306      3.78853  3.59275\n",
       " 0.0203769   1.0523    0.371108   0.492245      0.0         3.32057  3.51836\n",
       " 0.623365    1.06335   0.102529   0.413146      1.53726     3.99022  3.5371\n",
       " ⋮                                           ⋱  ⋮                    \n",
       " 0.00700229  0.866796  0.0248754  0.221988      0.0         3.72776  3.33528\n",
       " 0.736662    0.594659  0.0591334  0.12302       1.66703     3.81244  3.70276\n",
       " 0.0639534   0.988574  0.344356   0.509409      1.39256     3.84476  3.75967\n",
       " 0.0         0.930786  0.269041   0.158783      1.6067      3.52121  3.53603\n",
       " 0.184335    0.979764  0.233056   0.116251   …  1.91268     3.9239   3.1935\n",
       " 0.32677     0.990376  0.24607    0.762347      0.0         3.74566  3.60784\n",
       " 1.17896     1.425     1.01698    1.6321        0.0         4.10253  3.62215\n",
       " 0.188459    0.739103  0.223911   0.0           0.0         3.53903  3.70586\n",
       " 0.769479    0.84527   0.117325   0.0611385     0.00303017  3.59474  3.55522"
      ]
     },
     "metadata": {},
     "output_type": "display_data"
    }
   ],
   "source": [
    "index = GE_CDS_TPM[:,1]\n",
    "data = GE_CDS_TPM[:,2:end] \n",
    "cols = names(data)\n",
    "# log transforming\n",
    "data = log10.(Array(data) .+ 1)\n",
    "# remove least varying genes\n",
    "ge_var = var(data,dims = 1) \n",
    "ge_var_med = median(ge_var)\n",
    "# high variance only \n",
    "hvg = getindex.(findall(ge_var .> ge_var_med),2)\n",
    "data = data[:,hvg]\n",
    "cols = cols[hvg]\n",
    "# verify that the operation worked\n",
    "sum(var(data, dims = 1) .< ge_var_med)\n",
    "# split into train test\n",
    "nsamples = length(index)\n",
    "indices = shuffle(Array{Int}(1:nsamples))\n",
    "nfolds = 5\n",
    "foldsize = Int(nsamples / 5)\n",
    "\n",
    "folds = Array{FoldData}(undef,5)\n",
    "for i in 1:nfolds\n",
    "    tst_idx = indices[(i - 1) * foldsize + 1: i * foldsize]\n",
    "    tr_idx = setdiff(indices, tst_idx)\n",
    "    test = Data(\"test\", data[tst_idx,:], index[tst_idx], cols)\n",
    "    train = Data(\"train\", data[tr_idx,:], index[tr_idx], cols)\n",
    "    fold_data = FoldData(\"fold_$i\", test, train)\n",
    "    folds[i] = fold_data\n",
    "end\n",
    "folds[1].train.factor_1\n",
    "folds[1].train.data\n",
    "\n",
    "\n"
   ]
  },
  {
   "cell_type": "code",
   "execution_count": 5,
   "metadata": {},
   "outputs": [],
   "source": []
  },
  {
   "cell_type": "code",
   "execution_count": 6,
   "metadata": {},
   "outputs": [],
   "source": []
  }
 ],
 "metadata": {
  "kernelspec": {
   "display_name": "Julia 1.6.3",
   "language": "julia",
   "name": "julia-1.6"
  },
  "language_info": {
   "file_extension": ".jl",
   "mimetype": "application/julia",
   "name": "julia",
   "version": "1.6.3"
  },
  "orig_nbformat": 4
 },
 "nbformat": 4,
 "nbformat_minor": 2
}
